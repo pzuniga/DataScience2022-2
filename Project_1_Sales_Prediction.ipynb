{
  "nbformat": 4,
  "nbformat_minor": 0,
  "metadata": {
    "colab": {
      "name": "Project_1_Sales_Prediction",
      "provenance": [],
      "collapsed_sections": [],
      "toc_visible": true,
      "mount_file_id": "1fQuZwxt8dlJ7tznrnBoROUi-GDIhBwT-",
      "authorship_tag": "ABX9TyOjbMwxf3/17ZKQu08vd42g",
      "include_colab_link": true
    },
    "kernelspec": {
      "name": "python3",
      "display_name": "Python 3"
    },
    "language_info": {
      "name": "python"
    }
  },
  "cells": [
    {
      "cell_type": "markdown",
      "metadata": {
        "id": "view-in-github",
        "colab_type": "text"
      },
      "source": [
        "<a href=\"https://colab.research.google.com/github/pzuniga/DataScience2022-2/blob/main/Project_1_Sales_Prediction.ipynb\" target=\"_parent\"><img src=\"https://colab.research.google.com/assets/colab-badge.svg\" alt=\"Open In Colab\"/></a>"
      ]
    },
    {
      "cell_type": "markdown",
      "source": [
        "# **BOOTCAMP DATA SCIENCE - SPANISH - Wk1**\n",
        "**Predicción de ventas de productos alimenticios**\n",
        "\n",
        "Pablo Zúñiga N. / ZetaLabs\n",
        "\n",
        "Fuente de datos:\n",
        "Big Mart Sales Prediction\n",
        "26-05-2016 12:01 AM to 31-12-2022 11:59 PM\n",
        "\n",
        "https://datahack.analyticsvidhya.com/contest/practice-problem-big-mart-sales-iii/\n"
      ],
      "metadata": {
        "id": "VRdSPyzmrYCS"
      }
    },
    {
      "cell_type": "code",
      "source": [
        "# Importar librerías\n",
        "import pandas as pd\n",
        "import numpy as np\n",
        "import matplotlib.pyplot as plt\n",
        "import seaborn as sns\n",
        "from sklearn.pipeline import make_pipeline\n",
        "from sklearn.impute import SimpleImputer\n",
        "from sklearn.preprocessing import StandardScaler, OneHotEncoder\n",
        "from sklearn.model_selection import train_test_split\n",
        "from sklearn.compose import make_column_selector, make_column_transformer\n",
        "\n",
        "\n",
        "# Métricas de evaluación de modelo de predicción\n",
        "from sklearn.linear_model import LinearRegression\n",
        "from sklearn.metrics import r2_score\n",
        "from sklearn.metrics import mean_absolute_error\n",
        "from sklearn.metrics import mean_squared_error\n",
        "\n",
        "# Estas líneas permite revisar visualmente el pipeline\n",
        "from sklearn import set_config\n",
        "set_config(display='diagram') # Para mostrar como diagrama"
      ],
      "metadata": {
        "id": "-YqQ19rRpTm7"
      },
      "execution_count": 678,
      "outputs": []
    },
    {
      "cell_type": "code",
      "source": [
        "# Montar el directorio de datos\n",
        "from google.colab import drive\n",
        "drive.mount('/content/drive')"
      ],
      "metadata": {
        "colab": {
          "base_uri": "https://localhost:8080/"
        },
        "id": "-h1zYoTHp3UH",
        "outputId": "38d3d1fb-1370-47a3-8f98-3e5b0c5d828f"
      },
      "execution_count": 679,
      "outputs": [
        {
          "output_type": "stream",
          "name": "stdout",
          "text": [
            "Drive already mounted at /content/drive; to attempt to forcibly remount, call drive.mount(\"/content/drive\", force_remount=True).\n"
          ]
        }
      ]
    },
    {
      "cell_type": "code",
      "execution_count": 680,
      "metadata": {
        "id": "NkkRztpnrXQN"
      },
      "outputs": [],
      "source": [
        "# Crear variable con ruta de acceso al archivo\n",
        "filename_csv = \"/content/drive/MyDrive/Colab Notebooks/Proyecto_1/Datos/sales_predictions.csv\""
      ]
    },
    {
      "cell_type": "markdown",
      "source": [
        "# **1. Limpieza de datos**"
      ],
      "metadata": {
        "id": "A096EKOIs6mX"
      }
    },
    {
      "cell_type": "markdown",
      "source": [
        "# 1.1. Análisis preliminar: cargar datos, Head(), tail(), info(), shape()"
      ],
      "metadata": {
        "id": "Aqz_iDdls7ih"
      }
    },
    {
      "cell_type": "code",
      "source": [
        "# 1.1.1. Cargar archivo de datos en df\n",
        "# Cargar datos CSV  y asignar a dataframe df: sales\n",
        "df=pd.read_csv(filename_csv)"
      ],
      "metadata": {
        "id": "dM1yNlIRt2H7"
      },
      "execution_count": 681,
      "outputs": []
    },
    {
      "cell_type": "code",
      "source": [
        "# 1.1.2. Revisar la cabeza\n",
        "df.head(10)"
      ],
      "metadata": {
        "colab": {
          "base_uri": "https://localhost:8080/",
          "height": 601
        },
        "id": "uP5Xoz0OtAjx",
        "outputId": "ee3a8b74-d501-4969-ccd0-5369dabaa9d2"
      },
      "execution_count": 682,
      "outputs": [
        {
          "output_type": "execute_result",
          "data": {
            "text/plain": [
              "  Item_Identifier  Item_Weight Item_Fat_Content  Item_Visibility  \\\n",
              "0           FDA15        9.300          Low Fat         0.016047   \n",
              "1           DRC01        5.920          Regular         0.019278   \n",
              "2           FDN15       17.500          Low Fat         0.016760   \n",
              "3           FDX07       19.200          Regular         0.000000   \n",
              "4           NCD19        8.930          Low Fat         0.000000   \n",
              "5           FDP36       10.395          Regular         0.000000   \n",
              "6           FDO10       13.650          Regular         0.012741   \n",
              "7           FDP10          NaN          Low Fat         0.127470   \n",
              "8           FDH17       16.200          Regular         0.016687   \n",
              "9           FDU28       19.200          Regular         0.094450   \n",
              "\n",
              "               Item_Type  Item_MRP Outlet_Identifier  \\\n",
              "0                  Dairy  249.8092            OUT049   \n",
              "1            Soft Drinks   48.2692            OUT018   \n",
              "2                   Meat  141.6180            OUT049   \n",
              "3  Fruits and Vegetables  182.0950            OUT010   \n",
              "4              Household   53.8614            OUT013   \n",
              "5           Baking Goods   51.4008            OUT018   \n",
              "6            Snack Foods   57.6588            OUT013   \n",
              "7            Snack Foods  107.7622            OUT027   \n",
              "8           Frozen Foods   96.9726            OUT045   \n",
              "9           Frozen Foods  187.8214            OUT017   \n",
              "\n",
              "   Outlet_Establishment_Year Outlet_Size Outlet_Location_Type  \\\n",
              "0                       1999      Medium               Tier 1   \n",
              "1                       2009      Medium               Tier 3   \n",
              "2                       1999      Medium               Tier 1   \n",
              "3                       1998         NaN               Tier 3   \n",
              "4                       1987        High               Tier 3   \n",
              "5                       2009      Medium               Tier 3   \n",
              "6                       1987        High               Tier 3   \n",
              "7                       1985      Medium               Tier 3   \n",
              "8                       2002         NaN               Tier 2   \n",
              "9                       2007         NaN               Tier 2   \n",
              "\n",
              "         Outlet_Type  Item_Outlet_Sales  \n",
              "0  Supermarket Type1          3735.1380  \n",
              "1  Supermarket Type2           443.4228  \n",
              "2  Supermarket Type1          2097.2700  \n",
              "3      Grocery Store           732.3800  \n",
              "4  Supermarket Type1           994.7052  \n",
              "5  Supermarket Type2           556.6088  \n",
              "6  Supermarket Type1           343.5528  \n",
              "7  Supermarket Type3          4022.7636  \n",
              "8  Supermarket Type1          1076.5986  \n",
              "9  Supermarket Type1          4710.5350  "
            ],
            "text/html": [
              "\n",
              "  <div id=\"df-e1285189-387c-4889-8f46-09a0d41de6c0\">\n",
              "    <div class=\"colab-df-container\">\n",
              "      <div>\n",
              "<style scoped>\n",
              "    .dataframe tbody tr th:only-of-type {\n",
              "        vertical-align: middle;\n",
              "    }\n",
              "\n",
              "    .dataframe tbody tr th {\n",
              "        vertical-align: top;\n",
              "    }\n",
              "\n",
              "    .dataframe thead th {\n",
              "        text-align: right;\n",
              "    }\n",
              "</style>\n",
              "<table border=\"1\" class=\"dataframe\">\n",
              "  <thead>\n",
              "    <tr style=\"text-align: right;\">\n",
              "      <th></th>\n",
              "      <th>Item_Identifier</th>\n",
              "      <th>Item_Weight</th>\n",
              "      <th>Item_Fat_Content</th>\n",
              "      <th>Item_Visibility</th>\n",
              "      <th>Item_Type</th>\n",
              "      <th>Item_MRP</th>\n",
              "      <th>Outlet_Identifier</th>\n",
              "      <th>Outlet_Establishment_Year</th>\n",
              "      <th>Outlet_Size</th>\n",
              "      <th>Outlet_Location_Type</th>\n",
              "      <th>Outlet_Type</th>\n",
              "      <th>Item_Outlet_Sales</th>\n",
              "    </tr>\n",
              "  </thead>\n",
              "  <tbody>\n",
              "    <tr>\n",
              "      <th>0</th>\n",
              "      <td>FDA15</td>\n",
              "      <td>9.300</td>\n",
              "      <td>Low Fat</td>\n",
              "      <td>0.016047</td>\n",
              "      <td>Dairy</td>\n",
              "      <td>249.8092</td>\n",
              "      <td>OUT049</td>\n",
              "      <td>1999</td>\n",
              "      <td>Medium</td>\n",
              "      <td>Tier 1</td>\n",
              "      <td>Supermarket Type1</td>\n",
              "      <td>3735.1380</td>\n",
              "    </tr>\n",
              "    <tr>\n",
              "      <th>1</th>\n",
              "      <td>DRC01</td>\n",
              "      <td>5.920</td>\n",
              "      <td>Regular</td>\n",
              "      <td>0.019278</td>\n",
              "      <td>Soft Drinks</td>\n",
              "      <td>48.2692</td>\n",
              "      <td>OUT018</td>\n",
              "      <td>2009</td>\n",
              "      <td>Medium</td>\n",
              "      <td>Tier 3</td>\n",
              "      <td>Supermarket Type2</td>\n",
              "      <td>443.4228</td>\n",
              "    </tr>\n",
              "    <tr>\n",
              "      <th>2</th>\n",
              "      <td>FDN15</td>\n",
              "      <td>17.500</td>\n",
              "      <td>Low Fat</td>\n",
              "      <td>0.016760</td>\n",
              "      <td>Meat</td>\n",
              "      <td>141.6180</td>\n",
              "      <td>OUT049</td>\n",
              "      <td>1999</td>\n",
              "      <td>Medium</td>\n",
              "      <td>Tier 1</td>\n",
              "      <td>Supermarket Type1</td>\n",
              "      <td>2097.2700</td>\n",
              "    </tr>\n",
              "    <tr>\n",
              "      <th>3</th>\n",
              "      <td>FDX07</td>\n",
              "      <td>19.200</td>\n",
              "      <td>Regular</td>\n",
              "      <td>0.000000</td>\n",
              "      <td>Fruits and Vegetables</td>\n",
              "      <td>182.0950</td>\n",
              "      <td>OUT010</td>\n",
              "      <td>1998</td>\n",
              "      <td>NaN</td>\n",
              "      <td>Tier 3</td>\n",
              "      <td>Grocery Store</td>\n",
              "      <td>732.3800</td>\n",
              "    </tr>\n",
              "    <tr>\n",
              "      <th>4</th>\n",
              "      <td>NCD19</td>\n",
              "      <td>8.930</td>\n",
              "      <td>Low Fat</td>\n",
              "      <td>0.000000</td>\n",
              "      <td>Household</td>\n",
              "      <td>53.8614</td>\n",
              "      <td>OUT013</td>\n",
              "      <td>1987</td>\n",
              "      <td>High</td>\n",
              "      <td>Tier 3</td>\n",
              "      <td>Supermarket Type1</td>\n",
              "      <td>994.7052</td>\n",
              "    </tr>\n",
              "    <tr>\n",
              "      <th>5</th>\n",
              "      <td>FDP36</td>\n",
              "      <td>10.395</td>\n",
              "      <td>Regular</td>\n",
              "      <td>0.000000</td>\n",
              "      <td>Baking Goods</td>\n",
              "      <td>51.4008</td>\n",
              "      <td>OUT018</td>\n",
              "      <td>2009</td>\n",
              "      <td>Medium</td>\n",
              "      <td>Tier 3</td>\n",
              "      <td>Supermarket Type2</td>\n",
              "      <td>556.6088</td>\n",
              "    </tr>\n",
              "    <tr>\n",
              "      <th>6</th>\n",
              "      <td>FDO10</td>\n",
              "      <td>13.650</td>\n",
              "      <td>Regular</td>\n",
              "      <td>0.012741</td>\n",
              "      <td>Snack Foods</td>\n",
              "      <td>57.6588</td>\n",
              "      <td>OUT013</td>\n",
              "      <td>1987</td>\n",
              "      <td>High</td>\n",
              "      <td>Tier 3</td>\n",
              "      <td>Supermarket Type1</td>\n",
              "      <td>343.5528</td>\n",
              "    </tr>\n",
              "    <tr>\n",
              "      <th>7</th>\n",
              "      <td>FDP10</td>\n",
              "      <td>NaN</td>\n",
              "      <td>Low Fat</td>\n",
              "      <td>0.127470</td>\n",
              "      <td>Snack Foods</td>\n",
              "      <td>107.7622</td>\n",
              "      <td>OUT027</td>\n",
              "      <td>1985</td>\n",
              "      <td>Medium</td>\n",
              "      <td>Tier 3</td>\n",
              "      <td>Supermarket Type3</td>\n",
              "      <td>4022.7636</td>\n",
              "    </tr>\n",
              "    <tr>\n",
              "      <th>8</th>\n",
              "      <td>FDH17</td>\n",
              "      <td>16.200</td>\n",
              "      <td>Regular</td>\n",
              "      <td>0.016687</td>\n",
              "      <td>Frozen Foods</td>\n",
              "      <td>96.9726</td>\n",
              "      <td>OUT045</td>\n",
              "      <td>2002</td>\n",
              "      <td>NaN</td>\n",
              "      <td>Tier 2</td>\n",
              "      <td>Supermarket Type1</td>\n",
              "      <td>1076.5986</td>\n",
              "    </tr>\n",
              "    <tr>\n",
              "      <th>9</th>\n",
              "      <td>FDU28</td>\n",
              "      <td>19.200</td>\n",
              "      <td>Regular</td>\n",
              "      <td>0.094450</td>\n",
              "      <td>Frozen Foods</td>\n",
              "      <td>187.8214</td>\n",
              "      <td>OUT017</td>\n",
              "      <td>2007</td>\n",
              "      <td>NaN</td>\n",
              "      <td>Tier 2</td>\n",
              "      <td>Supermarket Type1</td>\n",
              "      <td>4710.5350</td>\n",
              "    </tr>\n",
              "  </tbody>\n",
              "</table>\n",
              "</div>\n",
              "      <button class=\"colab-df-convert\" onclick=\"convertToInteractive('df-e1285189-387c-4889-8f46-09a0d41de6c0')\"\n",
              "              title=\"Convert this dataframe to an interactive table.\"\n",
              "              style=\"display:none;\">\n",
              "        \n",
              "  <svg xmlns=\"http://www.w3.org/2000/svg\" height=\"24px\"viewBox=\"0 0 24 24\"\n",
              "       width=\"24px\">\n",
              "    <path d=\"M0 0h24v24H0V0z\" fill=\"none\"/>\n",
              "    <path d=\"M18.56 5.44l.94 2.06.94-2.06 2.06-.94-2.06-.94-.94-2.06-.94 2.06-2.06.94zm-11 1L8.5 8.5l.94-2.06 2.06-.94-2.06-.94L8.5 2.5l-.94 2.06-2.06.94zm10 10l.94 2.06.94-2.06 2.06-.94-2.06-.94-.94-2.06-.94 2.06-2.06.94z\"/><path d=\"M17.41 7.96l-1.37-1.37c-.4-.4-.92-.59-1.43-.59-.52 0-1.04.2-1.43.59L10.3 9.45l-7.72 7.72c-.78.78-.78 2.05 0 2.83L4 21.41c.39.39.9.59 1.41.59.51 0 1.02-.2 1.41-.59l7.78-7.78 2.81-2.81c.8-.78.8-2.07 0-2.86zM5.41 20L4 18.59l7.72-7.72 1.47 1.35L5.41 20z\"/>\n",
              "  </svg>\n",
              "      </button>\n",
              "      \n",
              "  <style>\n",
              "    .colab-df-container {\n",
              "      display:flex;\n",
              "      flex-wrap:wrap;\n",
              "      gap: 12px;\n",
              "    }\n",
              "\n",
              "    .colab-df-convert {\n",
              "      background-color: #E8F0FE;\n",
              "      border: none;\n",
              "      border-radius: 50%;\n",
              "      cursor: pointer;\n",
              "      display: none;\n",
              "      fill: #1967D2;\n",
              "      height: 32px;\n",
              "      padding: 0 0 0 0;\n",
              "      width: 32px;\n",
              "    }\n",
              "\n",
              "    .colab-df-convert:hover {\n",
              "      background-color: #E2EBFA;\n",
              "      box-shadow: 0px 1px 2px rgba(60, 64, 67, 0.3), 0px 1px 3px 1px rgba(60, 64, 67, 0.15);\n",
              "      fill: #174EA6;\n",
              "    }\n",
              "\n",
              "    [theme=dark] .colab-df-convert {\n",
              "      background-color: #3B4455;\n",
              "      fill: #D2E3FC;\n",
              "    }\n",
              "\n",
              "    [theme=dark] .colab-df-convert:hover {\n",
              "      background-color: #434B5C;\n",
              "      box-shadow: 0px 1px 3px 1px rgba(0, 0, 0, 0.15);\n",
              "      filter: drop-shadow(0px 1px 2px rgba(0, 0, 0, 0.3));\n",
              "      fill: #FFFFFF;\n",
              "    }\n",
              "  </style>\n",
              "\n",
              "      <script>\n",
              "        const buttonEl =\n",
              "          document.querySelector('#df-e1285189-387c-4889-8f46-09a0d41de6c0 button.colab-df-convert');\n",
              "        buttonEl.style.display =\n",
              "          google.colab.kernel.accessAllowed ? 'block' : 'none';\n",
              "\n",
              "        async function convertToInteractive(key) {\n",
              "          const element = document.querySelector('#df-e1285189-387c-4889-8f46-09a0d41de6c0');\n",
              "          const dataTable =\n",
              "            await google.colab.kernel.invokeFunction('convertToInteractive',\n",
              "                                                     [key], {});\n",
              "          if (!dataTable) return;\n",
              "\n",
              "          const docLinkHtml = 'Like what you see? Visit the ' +\n",
              "            '<a target=\"_blank\" href=https://colab.research.google.com/notebooks/data_table.ipynb>data table notebook</a>'\n",
              "            + ' to learn more about interactive tables.';\n",
              "          element.innerHTML = '';\n",
              "          dataTable['output_type'] = 'display_data';\n",
              "          await google.colab.output.renderOutput(dataTable, element);\n",
              "          const docLink = document.createElement('div');\n",
              "          docLink.innerHTML = docLinkHtml;\n",
              "          element.appendChild(docLink);\n",
              "        }\n",
              "      </script>\n",
              "    </div>\n",
              "  </div>\n",
              "  "
            ]
          },
          "metadata": {},
          "execution_count": 682
        }
      ]
    },
    {
      "cell_type": "code",
      "source": [
        "# 1.1.3. Revisar la cola\n",
        "df.tail(10)"
      ],
      "metadata": {
        "colab": {
          "base_uri": "https://localhost:8080/",
          "height": 601
        },
        "id": "MF8XfZAytTTs",
        "outputId": "0587c780-420a-4159-b791-26ebf8506aa6"
      },
      "execution_count": 683,
      "outputs": [
        {
          "output_type": "execute_result",
          "data": {
            "text/plain": [
              "     Item_Identifier  Item_Weight Item_Fat_Content  Item_Visibility  \\\n",
              "8513           FDH31       12.000          Regular         0.020407   \n",
              "8514           FDA01       15.000          Regular         0.054489   \n",
              "8515           FDH24       20.700          Low Fat         0.021518   \n",
              "8516           NCJ19       18.600          Low Fat         0.118661   \n",
              "8517           FDF53       20.750              reg         0.083607   \n",
              "8518           FDF22        6.865          Low Fat         0.056783   \n",
              "8519           FDS36        8.380          Regular         0.046982   \n",
              "8520           NCJ29       10.600          Low Fat         0.035186   \n",
              "8521           FDN46        7.210          Regular         0.145221   \n",
              "8522           DRG01       14.800          Low Fat         0.044878   \n",
              "\n",
              "               Item_Type  Item_MRP Outlet_Identifier  \\\n",
              "8513                Meat   99.9042            OUT035   \n",
              "8514              Canned   57.5904            OUT045   \n",
              "8515        Baking Goods  157.5288            OUT018   \n",
              "8516              Others   58.7588            OUT018   \n",
              "8517        Frozen Foods  178.8318            OUT046   \n",
              "8518         Snack Foods  214.5218            OUT013   \n",
              "8519        Baking Goods  108.1570            OUT045   \n",
              "8520  Health and Hygiene   85.1224            OUT035   \n",
              "8521         Snack Foods  103.1332            OUT018   \n",
              "8522         Soft Drinks   75.4670            OUT046   \n",
              "\n",
              "      Outlet_Establishment_Year Outlet_Size Outlet_Location_Type  \\\n",
              "8513                       2004       Small               Tier 2   \n",
              "8514                       2002         NaN               Tier 2   \n",
              "8515                       2009      Medium               Tier 3   \n",
              "8516                       2009      Medium               Tier 3   \n",
              "8517                       1997       Small               Tier 1   \n",
              "8518                       1987        High               Tier 3   \n",
              "8519                       2002         NaN               Tier 2   \n",
              "8520                       2004       Small               Tier 2   \n",
              "8521                       2009      Medium               Tier 3   \n",
              "8522                       1997       Small               Tier 1   \n",
              "\n",
              "            Outlet_Type  Item_Outlet_Sales  \n",
              "8513  Supermarket Type1           595.2252  \n",
              "8514  Supermarket Type1           468.7232  \n",
              "8515  Supermarket Type2          1571.2880  \n",
              "8516  Supermarket Type2           858.8820  \n",
              "8517  Supermarket Type1          3608.6360  \n",
              "8518  Supermarket Type1          2778.3834  \n",
              "8519  Supermarket Type1           549.2850  \n",
              "8520  Supermarket Type1          1193.1136  \n",
              "8521  Supermarket Type2          1845.5976  \n",
              "8522  Supermarket Type1           765.6700  "
            ],
            "text/html": [
              "\n",
              "  <div id=\"df-ddd00b4b-001a-4cee-9fa9-457995db82a5\">\n",
              "    <div class=\"colab-df-container\">\n",
              "      <div>\n",
              "<style scoped>\n",
              "    .dataframe tbody tr th:only-of-type {\n",
              "        vertical-align: middle;\n",
              "    }\n",
              "\n",
              "    .dataframe tbody tr th {\n",
              "        vertical-align: top;\n",
              "    }\n",
              "\n",
              "    .dataframe thead th {\n",
              "        text-align: right;\n",
              "    }\n",
              "</style>\n",
              "<table border=\"1\" class=\"dataframe\">\n",
              "  <thead>\n",
              "    <tr style=\"text-align: right;\">\n",
              "      <th></th>\n",
              "      <th>Item_Identifier</th>\n",
              "      <th>Item_Weight</th>\n",
              "      <th>Item_Fat_Content</th>\n",
              "      <th>Item_Visibility</th>\n",
              "      <th>Item_Type</th>\n",
              "      <th>Item_MRP</th>\n",
              "      <th>Outlet_Identifier</th>\n",
              "      <th>Outlet_Establishment_Year</th>\n",
              "      <th>Outlet_Size</th>\n",
              "      <th>Outlet_Location_Type</th>\n",
              "      <th>Outlet_Type</th>\n",
              "      <th>Item_Outlet_Sales</th>\n",
              "    </tr>\n",
              "  </thead>\n",
              "  <tbody>\n",
              "    <tr>\n",
              "      <th>8513</th>\n",
              "      <td>FDH31</td>\n",
              "      <td>12.000</td>\n",
              "      <td>Regular</td>\n",
              "      <td>0.020407</td>\n",
              "      <td>Meat</td>\n",
              "      <td>99.9042</td>\n",
              "      <td>OUT035</td>\n",
              "      <td>2004</td>\n",
              "      <td>Small</td>\n",
              "      <td>Tier 2</td>\n",
              "      <td>Supermarket Type1</td>\n",
              "      <td>595.2252</td>\n",
              "    </tr>\n",
              "    <tr>\n",
              "      <th>8514</th>\n",
              "      <td>FDA01</td>\n",
              "      <td>15.000</td>\n",
              "      <td>Regular</td>\n",
              "      <td>0.054489</td>\n",
              "      <td>Canned</td>\n",
              "      <td>57.5904</td>\n",
              "      <td>OUT045</td>\n",
              "      <td>2002</td>\n",
              "      <td>NaN</td>\n",
              "      <td>Tier 2</td>\n",
              "      <td>Supermarket Type1</td>\n",
              "      <td>468.7232</td>\n",
              "    </tr>\n",
              "    <tr>\n",
              "      <th>8515</th>\n",
              "      <td>FDH24</td>\n",
              "      <td>20.700</td>\n",
              "      <td>Low Fat</td>\n",
              "      <td>0.021518</td>\n",
              "      <td>Baking Goods</td>\n",
              "      <td>157.5288</td>\n",
              "      <td>OUT018</td>\n",
              "      <td>2009</td>\n",
              "      <td>Medium</td>\n",
              "      <td>Tier 3</td>\n",
              "      <td>Supermarket Type2</td>\n",
              "      <td>1571.2880</td>\n",
              "    </tr>\n",
              "    <tr>\n",
              "      <th>8516</th>\n",
              "      <td>NCJ19</td>\n",
              "      <td>18.600</td>\n",
              "      <td>Low Fat</td>\n",
              "      <td>0.118661</td>\n",
              "      <td>Others</td>\n",
              "      <td>58.7588</td>\n",
              "      <td>OUT018</td>\n",
              "      <td>2009</td>\n",
              "      <td>Medium</td>\n",
              "      <td>Tier 3</td>\n",
              "      <td>Supermarket Type2</td>\n",
              "      <td>858.8820</td>\n",
              "    </tr>\n",
              "    <tr>\n",
              "      <th>8517</th>\n",
              "      <td>FDF53</td>\n",
              "      <td>20.750</td>\n",
              "      <td>reg</td>\n",
              "      <td>0.083607</td>\n",
              "      <td>Frozen Foods</td>\n",
              "      <td>178.8318</td>\n",
              "      <td>OUT046</td>\n",
              "      <td>1997</td>\n",
              "      <td>Small</td>\n",
              "      <td>Tier 1</td>\n",
              "      <td>Supermarket Type1</td>\n",
              "      <td>3608.6360</td>\n",
              "    </tr>\n",
              "    <tr>\n",
              "      <th>8518</th>\n",
              "      <td>FDF22</td>\n",
              "      <td>6.865</td>\n",
              "      <td>Low Fat</td>\n",
              "      <td>0.056783</td>\n",
              "      <td>Snack Foods</td>\n",
              "      <td>214.5218</td>\n",
              "      <td>OUT013</td>\n",
              "      <td>1987</td>\n",
              "      <td>High</td>\n",
              "      <td>Tier 3</td>\n",
              "      <td>Supermarket Type1</td>\n",
              "      <td>2778.3834</td>\n",
              "    </tr>\n",
              "    <tr>\n",
              "      <th>8519</th>\n",
              "      <td>FDS36</td>\n",
              "      <td>8.380</td>\n",
              "      <td>Regular</td>\n",
              "      <td>0.046982</td>\n",
              "      <td>Baking Goods</td>\n",
              "      <td>108.1570</td>\n",
              "      <td>OUT045</td>\n",
              "      <td>2002</td>\n",
              "      <td>NaN</td>\n",
              "      <td>Tier 2</td>\n",
              "      <td>Supermarket Type1</td>\n",
              "      <td>549.2850</td>\n",
              "    </tr>\n",
              "    <tr>\n",
              "      <th>8520</th>\n",
              "      <td>NCJ29</td>\n",
              "      <td>10.600</td>\n",
              "      <td>Low Fat</td>\n",
              "      <td>0.035186</td>\n",
              "      <td>Health and Hygiene</td>\n",
              "      <td>85.1224</td>\n",
              "      <td>OUT035</td>\n",
              "      <td>2004</td>\n",
              "      <td>Small</td>\n",
              "      <td>Tier 2</td>\n",
              "      <td>Supermarket Type1</td>\n",
              "      <td>1193.1136</td>\n",
              "    </tr>\n",
              "    <tr>\n",
              "      <th>8521</th>\n",
              "      <td>FDN46</td>\n",
              "      <td>7.210</td>\n",
              "      <td>Regular</td>\n",
              "      <td>0.145221</td>\n",
              "      <td>Snack Foods</td>\n",
              "      <td>103.1332</td>\n",
              "      <td>OUT018</td>\n",
              "      <td>2009</td>\n",
              "      <td>Medium</td>\n",
              "      <td>Tier 3</td>\n",
              "      <td>Supermarket Type2</td>\n",
              "      <td>1845.5976</td>\n",
              "    </tr>\n",
              "    <tr>\n",
              "      <th>8522</th>\n",
              "      <td>DRG01</td>\n",
              "      <td>14.800</td>\n",
              "      <td>Low Fat</td>\n",
              "      <td>0.044878</td>\n",
              "      <td>Soft Drinks</td>\n",
              "      <td>75.4670</td>\n",
              "      <td>OUT046</td>\n",
              "      <td>1997</td>\n",
              "      <td>Small</td>\n",
              "      <td>Tier 1</td>\n",
              "      <td>Supermarket Type1</td>\n",
              "      <td>765.6700</td>\n",
              "    </tr>\n",
              "  </tbody>\n",
              "</table>\n",
              "</div>\n",
              "      <button class=\"colab-df-convert\" onclick=\"convertToInteractive('df-ddd00b4b-001a-4cee-9fa9-457995db82a5')\"\n",
              "              title=\"Convert this dataframe to an interactive table.\"\n",
              "              style=\"display:none;\">\n",
              "        \n",
              "  <svg xmlns=\"http://www.w3.org/2000/svg\" height=\"24px\"viewBox=\"0 0 24 24\"\n",
              "       width=\"24px\">\n",
              "    <path d=\"M0 0h24v24H0V0z\" fill=\"none\"/>\n",
              "    <path d=\"M18.56 5.44l.94 2.06.94-2.06 2.06-.94-2.06-.94-.94-2.06-.94 2.06-2.06.94zm-11 1L8.5 8.5l.94-2.06 2.06-.94-2.06-.94L8.5 2.5l-.94 2.06-2.06.94zm10 10l.94 2.06.94-2.06 2.06-.94-2.06-.94-.94-2.06-.94 2.06-2.06.94z\"/><path d=\"M17.41 7.96l-1.37-1.37c-.4-.4-.92-.59-1.43-.59-.52 0-1.04.2-1.43.59L10.3 9.45l-7.72 7.72c-.78.78-.78 2.05 0 2.83L4 21.41c.39.39.9.59 1.41.59.51 0 1.02-.2 1.41-.59l7.78-7.78 2.81-2.81c.8-.78.8-2.07 0-2.86zM5.41 20L4 18.59l7.72-7.72 1.47 1.35L5.41 20z\"/>\n",
              "  </svg>\n",
              "      </button>\n",
              "      \n",
              "  <style>\n",
              "    .colab-df-container {\n",
              "      display:flex;\n",
              "      flex-wrap:wrap;\n",
              "      gap: 12px;\n",
              "    }\n",
              "\n",
              "    .colab-df-convert {\n",
              "      background-color: #E8F0FE;\n",
              "      border: none;\n",
              "      border-radius: 50%;\n",
              "      cursor: pointer;\n",
              "      display: none;\n",
              "      fill: #1967D2;\n",
              "      height: 32px;\n",
              "      padding: 0 0 0 0;\n",
              "      width: 32px;\n",
              "    }\n",
              "\n",
              "    .colab-df-convert:hover {\n",
              "      background-color: #E2EBFA;\n",
              "      box-shadow: 0px 1px 2px rgba(60, 64, 67, 0.3), 0px 1px 3px 1px rgba(60, 64, 67, 0.15);\n",
              "      fill: #174EA6;\n",
              "    }\n",
              "\n",
              "    [theme=dark] .colab-df-convert {\n",
              "      background-color: #3B4455;\n",
              "      fill: #D2E3FC;\n",
              "    }\n",
              "\n",
              "    [theme=dark] .colab-df-convert:hover {\n",
              "      background-color: #434B5C;\n",
              "      box-shadow: 0px 1px 3px 1px rgba(0, 0, 0, 0.15);\n",
              "      filter: drop-shadow(0px 1px 2px rgba(0, 0, 0, 0.3));\n",
              "      fill: #FFFFFF;\n",
              "    }\n",
              "  </style>\n",
              "\n",
              "      <script>\n",
              "        const buttonEl =\n",
              "          document.querySelector('#df-ddd00b4b-001a-4cee-9fa9-457995db82a5 button.colab-df-convert');\n",
              "        buttonEl.style.display =\n",
              "          google.colab.kernel.accessAllowed ? 'block' : 'none';\n",
              "\n",
              "        async function convertToInteractive(key) {\n",
              "          const element = document.querySelector('#df-ddd00b4b-001a-4cee-9fa9-457995db82a5');\n",
              "          const dataTable =\n",
              "            await google.colab.kernel.invokeFunction('convertToInteractive',\n",
              "                                                     [key], {});\n",
              "          if (!dataTable) return;\n",
              "\n",
              "          const docLinkHtml = 'Like what you see? Visit the ' +\n",
              "            '<a target=\"_blank\" href=https://colab.research.google.com/notebooks/data_table.ipynb>data table notebook</a>'\n",
              "            + ' to learn more about interactive tables.';\n",
              "          element.innerHTML = '';\n",
              "          dataTable['output_type'] = 'display_data';\n",
              "          await google.colab.output.renderOutput(dataTable, element);\n",
              "          const docLink = document.createElement('div');\n",
              "          docLink.innerHTML = docLinkHtml;\n",
              "          element.appendChild(docLink);\n",
              "        }\n",
              "      </script>\n",
              "    </div>\n",
              "  </div>\n",
              "  "
            ]
          },
          "metadata": {},
          "execution_count": 683
        }
      ]
    },
    {
      "cell_type": "code",
      "source": [
        "# 1.1.4. Obtener la descripción de df\n",
        "df.info()"
      ],
      "metadata": {
        "colab": {
          "base_uri": "https://localhost:8080/"
        },
        "id": "squVYXqntcBm",
        "outputId": "ff99ef69-4fc4-4b15-d8f9-29896107f472"
      },
      "execution_count": 684,
      "outputs": [
        {
          "output_type": "stream",
          "name": "stdout",
          "text": [
            "<class 'pandas.core.frame.DataFrame'>\n",
            "RangeIndex: 8523 entries, 0 to 8522\n",
            "Data columns (total 12 columns):\n",
            " #   Column                     Non-Null Count  Dtype  \n",
            "---  ------                     --------------  -----  \n",
            " 0   Item_Identifier            8523 non-null   object \n",
            " 1   Item_Weight                7060 non-null   float64\n",
            " 2   Item_Fat_Content           8523 non-null   object \n",
            " 3   Item_Visibility            8523 non-null   float64\n",
            " 4   Item_Type                  8523 non-null   object \n",
            " 5   Item_MRP                   8523 non-null   float64\n",
            " 6   Outlet_Identifier          8523 non-null   object \n",
            " 7   Outlet_Establishment_Year  8523 non-null   int64  \n",
            " 8   Outlet_Size                6113 non-null   object \n",
            " 9   Outlet_Location_Type       8523 non-null   object \n",
            " 10  Outlet_Type                8523 non-null   object \n",
            " 11  Item_Outlet_Sales          8523 non-null   float64\n",
            "dtypes: float64(4), int64(1), object(7)\n",
            "memory usage: 799.2+ KB\n"
          ]
        }
      ]
    },
    {
      "cell_type": "markdown",
      "source": [
        "Diccionario de datos:\n",
        "\n",
        "![image.png](data:image/png;base64,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)"
      ],
      "metadata": {
        "id": "wLi1v6KcqAZI"
      }
    },
    {
      "cell_type": "code",
      "source": [
        "# 1.1.5. Mostrar la forma del df\n",
        "# filas:8523 / columnas: 12\n",
        "df.shape"
      ],
      "metadata": {
        "colab": {
          "base_uri": "https://localhost:8080/"
        },
        "id": "Z19XpppQtfOX",
        "outputId": "b3d3ab42-b06f-42d9-d285-fd71c1506c4a"
      },
      "execution_count": 685,
      "outputs": [
        {
          "output_type": "execute_result",
          "data": {
            "text/plain": [
              "(8523, 12)"
            ]
          },
          "metadata": {},
          "execution_count": 685
        }
      ]
    },
    {
      "cell_type": "markdown",
      "source": [
        "# 1.2. Revisar y tratar filas duplicadas"
      ],
      "metadata": {
        "id": "VLQ1yvk0tkoN"
      }
    },
    {
      "cell_type": "code",
      "source": [
        "# Búsqueda de duplicados\n",
        "# No existen duplicados en df\n",
        "df.duplicated().sum()"
      ],
      "metadata": {
        "colab": {
          "base_uri": "https://localhost:8080/"
        },
        "id": "sGNvUA0Ur6aw",
        "outputId": "f9e70df3-2bf4-451a-84e1-d38eeb31e924"
      },
      "execution_count": 686,
      "outputs": [
        {
          "output_type": "execute_result",
          "data": {
            "text/plain": [
              "0"
            ]
          },
          "metadata": {},
          "execution_count": 686
        }
      ]
    },
    {
      "cell_type": "markdown",
      "source": [
        "# 1.3. Revisar y tratar valores faltantes\n",
        "Se incluye una breve descripción del tratamiento: método y justificación."
      ],
      "metadata": {
        "id": "5snOhdjMtuob"
      }
    },
    {
      "cell_type": "code",
      "source": [
        "# 1.3.1. Identificar y abordar cualquier dato que falte en este conjunto de datos.\n",
        "# columna 'Item_Weight' 1463 valores NaN\n",
        "# columna 'Outlet_Size' 2410 valores NaN\n",
        "df.isna().sum()"
      ],
      "metadata": {
        "colab": {
          "base_uri": "https://localhost:8080/"
        },
        "id": "YkR-09slt3b8",
        "outputId": "896803ef-d38c-400b-bfbf-9912d67cbd10"
      },
      "execution_count": 687,
      "outputs": [
        {
          "output_type": "execute_result",
          "data": {
            "text/plain": [
              "Item_Identifier                 0\n",
              "Item_Weight                  1463\n",
              "Item_Fat_Content                0\n",
              "Item_Visibility                 0\n",
              "Item_Type                       0\n",
              "Item_MRP                        0\n",
              "Outlet_Identifier               0\n",
              "Outlet_Establishment_Year       0\n",
              "Outlet_Size                  2410\n",
              "Outlet_Location_Type            0\n",
              "Outlet_Type                     0\n",
              "Item_Outlet_Sales               0\n",
              "dtype: int64"
            ]
          },
          "metadata": {},
          "execution_count": 687
        }
      ]
    },
    {
      "cell_type": "code",
      "source": [
        "# 1.3.2. Valores faltantes columna 'Item_Weight'\n",
        "\n",
        "# Cuantificación del porcentaje de valores nulos en la columna 'Item_Weight' con respecto al total de registro\n",
        "missing_percent_Item_Weight=round(df['Item_Weight'].isna().sum()/df.shape[0]*100,2)\n",
        "print(\"Porcentaje de valores nulos en la columna 'Item_Weight' con respecto al total de registro\",missing_percent_Item_Weight,\"%\")"
      ],
      "metadata": {
        "colab": {
          "base_uri": "https://localhost:8080/"
        },
        "id": "soNbdBd_uNKz",
        "outputId": "5314cc1d-8ea6-44bc-9b0b-351b7d85939b"
      },
      "execution_count": 688,
      "outputs": [
        {
          "output_type": "stream",
          "name": "stdout",
          "text": [
            "Porcentaje de valores nulos en la columna 'Item_Weight' con respecto al total de registro 17.17 %\n"
          ]
        }
      ]
    },
    {
      "cell_type": "code",
      "source": [
        "# Crear filtro para valores NaN en columna 'Item_Weight'\n",
        "missing_Item_Weight_df=df['Item_Weight'].isna()\n",
        "# Revisar filas que contienen NaN para y\n",
        "df.loc[missing_Item_Weight_df,:]"
      ],
      "metadata": {
        "colab": {
          "base_uri": "https://localhost:8080/",
          "height": 661
        },
        "id": "oPeNXB_cuoeB",
        "outputId": "0e74ba24-ec63-4b10-89ed-a0d13004ea17"
      },
      "execution_count": 689,
      "outputs": [
        {
          "output_type": "execute_result",
          "data": {
            "text/plain": [
              "     Item_Identifier  Item_Weight Item_Fat_Content  Item_Visibility  \\\n",
              "7              FDP10          NaN          Low Fat         0.127470   \n",
              "18             DRI11          NaN          Low Fat         0.034238   \n",
              "21             FDW12          NaN          Regular         0.035400   \n",
              "23             FDC37          NaN          Low Fat         0.057557   \n",
              "29             FDC14          NaN          Regular         0.072222   \n",
              "...              ...          ...              ...              ...   \n",
              "8485           DRK37          NaN          Low Fat         0.043792   \n",
              "8487           DRG13          NaN          Low Fat         0.037006   \n",
              "8488           NCN14          NaN          Low Fat         0.091473   \n",
              "8490           FDU44          NaN          Regular         0.102296   \n",
              "8504           NCN18          NaN          Low Fat         0.124111   \n",
              "\n",
              "                  Item_Type  Item_MRP Outlet_Identifier  \\\n",
              "7               Snack Foods  107.7622            OUT027   \n",
              "18              Hard Drinks  113.2834            OUT027   \n",
              "21             Baking Goods  144.5444            OUT027   \n",
              "23             Baking Goods  107.6938            OUT019   \n",
              "29                   Canned   43.6454            OUT019   \n",
              "...                     ...       ...               ...   \n",
              "8485            Soft Drinks  189.0530            OUT027   \n",
              "8487            Soft Drinks  164.7526            OUT027   \n",
              "8488                 Others  184.6608            OUT027   \n",
              "8490  Fruits and Vegetables  162.3552            OUT019   \n",
              "8504              Household  111.7544            OUT027   \n",
              "\n",
              "      Outlet_Establishment_Year Outlet_Size Outlet_Location_Type  \\\n",
              "7                          1985      Medium               Tier 3   \n",
              "18                         1985      Medium               Tier 3   \n",
              "21                         1985      Medium               Tier 3   \n",
              "23                         1985       Small               Tier 1   \n",
              "29                         1985       Small               Tier 1   \n",
              "...                         ...         ...                  ...   \n",
              "8485                       1985      Medium               Tier 3   \n",
              "8487                       1985      Medium               Tier 3   \n",
              "8488                       1985      Medium               Tier 3   \n",
              "8490                       1985       Small               Tier 1   \n",
              "8504                       1985      Medium               Tier 3   \n",
              "\n",
              "            Outlet_Type  Item_Outlet_Sales  \n",
              "7     Supermarket Type3          4022.7636  \n",
              "18    Supermarket Type3          2303.6680  \n",
              "21    Supermarket Type3          4064.0432  \n",
              "23        Grocery Store           214.3876  \n",
              "29        Grocery Store           125.8362  \n",
              "...                 ...                ...  \n",
              "8485  Supermarket Type3          6261.8490  \n",
              "8487  Supermarket Type3          4111.3150  \n",
              "8488  Supermarket Type3          2756.4120  \n",
              "8490      Grocery Store           487.3656  \n",
              "8504  Supermarket Type3          4138.6128  \n",
              "\n",
              "[1463 rows x 12 columns]"
            ],
            "text/html": [
              "\n",
              "  <div id=\"df-ecb17989-a154-4742-ab35-f33ace653e48\">\n",
              "    <div class=\"colab-df-container\">\n",
              "      <div>\n",
              "<style scoped>\n",
              "    .dataframe tbody tr th:only-of-type {\n",
              "        vertical-align: middle;\n",
              "    }\n",
              "\n",
              "    .dataframe tbody tr th {\n",
              "        vertical-align: top;\n",
              "    }\n",
              "\n",
              "    .dataframe thead th {\n",
              "        text-align: right;\n",
              "    }\n",
              "</style>\n",
              "<table border=\"1\" class=\"dataframe\">\n",
              "  <thead>\n",
              "    <tr style=\"text-align: right;\">\n",
              "      <th></th>\n",
              "      <th>Item_Identifier</th>\n",
              "      <th>Item_Weight</th>\n",
              "      <th>Item_Fat_Content</th>\n",
              "      <th>Item_Visibility</th>\n",
              "      <th>Item_Type</th>\n",
              "      <th>Item_MRP</th>\n",
              "      <th>Outlet_Identifier</th>\n",
              "      <th>Outlet_Establishment_Year</th>\n",
              "      <th>Outlet_Size</th>\n",
              "      <th>Outlet_Location_Type</th>\n",
              "      <th>Outlet_Type</th>\n",
              "      <th>Item_Outlet_Sales</th>\n",
              "    </tr>\n",
              "  </thead>\n",
              "  <tbody>\n",
              "    <tr>\n",
              "      <th>7</th>\n",
              "      <td>FDP10</td>\n",
              "      <td>NaN</td>\n",
              "      <td>Low Fat</td>\n",
              "      <td>0.127470</td>\n",
              "      <td>Snack Foods</td>\n",
              "      <td>107.7622</td>\n",
              "      <td>OUT027</td>\n",
              "      <td>1985</td>\n",
              "      <td>Medium</td>\n",
              "      <td>Tier 3</td>\n",
              "      <td>Supermarket Type3</td>\n",
              "      <td>4022.7636</td>\n",
              "    </tr>\n",
              "    <tr>\n",
              "      <th>18</th>\n",
              "      <td>DRI11</td>\n",
              "      <td>NaN</td>\n",
              "      <td>Low Fat</td>\n",
              "      <td>0.034238</td>\n",
              "      <td>Hard Drinks</td>\n",
              "      <td>113.2834</td>\n",
              "      <td>OUT027</td>\n",
              "      <td>1985</td>\n",
              "      <td>Medium</td>\n",
              "      <td>Tier 3</td>\n",
              "      <td>Supermarket Type3</td>\n",
              "      <td>2303.6680</td>\n",
              "    </tr>\n",
              "    <tr>\n",
              "      <th>21</th>\n",
              "      <td>FDW12</td>\n",
              "      <td>NaN</td>\n",
              "      <td>Regular</td>\n",
              "      <td>0.035400</td>\n",
              "      <td>Baking Goods</td>\n",
              "      <td>144.5444</td>\n",
              "      <td>OUT027</td>\n",
              "      <td>1985</td>\n",
              "      <td>Medium</td>\n",
              "      <td>Tier 3</td>\n",
              "      <td>Supermarket Type3</td>\n",
              "      <td>4064.0432</td>\n",
              "    </tr>\n",
              "    <tr>\n",
              "      <th>23</th>\n",
              "      <td>FDC37</td>\n",
              "      <td>NaN</td>\n",
              "      <td>Low Fat</td>\n",
              "      <td>0.057557</td>\n",
              "      <td>Baking Goods</td>\n",
              "      <td>107.6938</td>\n",
              "      <td>OUT019</td>\n",
              "      <td>1985</td>\n",
              "      <td>Small</td>\n",
              "      <td>Tier 1</td>\n",
              "      <td>Grocery Store</td>\n",
              "      <td>214.3876</td>\n",
              "    </tr>\n",
              "    <tr>\n",
              "      <th>29</th>\n",
              "      <td>FDC14</td>\n",
              "      <td>NaN</td>\n",
              "      <td>Regular</td>\n",
              "      <td>0.072222</td>\n",
              "      <td>Canned</td>\n",
              "      <td>43.6454</td>\n",
              "      <td>OUT019</td>\n",
              "      <td>1985</td>\n",
              "      <td>Small</td>\n",
              "      <td>Tier 1</td>\n",
              "      <td>Grocery Store</td>\n",
              "      <td>125.8362</td>\n",
              "    </tr>\n",
              "    <tr>\n",
              "      <th>...</th>\n",
              "      <td>...</td>\n",
              "      <td>...</td>\n",
              "      <td>...</td>\n",
              "      <td>...</td>\n",
              "      <td>...</td>\n",
              "      <td>...</td>\n",
              "      <td>...</td>\n",
              "      <td>...</td>\n",
              "      <td>...</td>\n",
              "      <td>...</td>\n",
              "      <td>...</td>\n",
              "      <td>...</td>\n",
              "    </tr>\n",
              "    <tr>\n",
              "      <th>8485</th>\n",
              "      <td>DRK37</td>\n",
              "      <td>NaN</td>\n",
              "      <td>Low Fat</td>\n",
              "      <td>0.043792</td>\n",
              "      <td>Soft Drinks</td>\n",
              "      <td>189.0530</td>\n",
              "      <td>OUT027</td>\n",
              "      <td>1985</td>\n",
              "      <td>Medium</td>\n",
              "      <td>Tier 3</td>\n",
              "      <td>Supermarket Type3</td>\n",
              "      <td>6261.8490</td>\n",
              "    </tr>\n",
              "    <tr>\n",
              "      <th>8487</th>\n",
              "      <td>DRG13</td>\n",
              "      <td>NaN</td>\n",
              "      <td>Low Fat</td>\n",
              "      <td>0.037006</td>\n",
              "      <td>Soft Drinks</td>\n",
              "      <td>164.7526</td>\n",
              "      <td>OUT027</td>\n",
              "      <td>1985</td>\n",
              "      <td>Medium</td>\n",
              "      <td>Tier 3</td>\n",
              "      <td>Supermarket Type3</td>\n",
              "      <td>4111.3150</td>\n",
              "    </tr>\n",
              "    <tr>\n",
              "      <th>8488</th>\n",
              "      <td>NCN14</td>\n",
              "      <td>NaN</td>\n",
              "      <td>Low Fat</td>\n",
              "      <td>0.091473</td>\n",
              "      <td>Others</td>\n",
              "      <td>184.6608</td>\n",
              "      <td>OUT027</td>\n",
              "      <td>1985</td>\n",
              "      <td>Medium</td>\n",
              "      <td>Tier 3</td>\n",
              "      <td>Supermarket Type3</td>\n",
              "      <td>2756.4120</td>\n",
              "    </tr>\n",
              "    <tr>\n",
              "      <th>8490</th>\n",
              "      <td>FDU44</td>\n",
              "      <td>NaN</td>\n",
              "      <td>Regular</td>\n",
              "      <td>0.102296</td>\n",
              "      <td>Fruits and Vegetables</td>\n",
              "      <td>162.3552</td>\n",
              "      <td>OUT019</td>\n",
              "      <td>1985</td>\n",
              "      <td>Small</td>\n",
              "      <td>Tier 1</td>\n",
              "      <td>Grocery Store</td>\n",
              "      <td>487.3656</td>\n",
              "    </tr>\n",
              "    <tr>\n",
              "      <th>8504</th>\n",
              "      <td>NCN18</td>\n",
              "      <td>NaN</td>\n",
              "      <td>Low Fat</td>\n",
              "      <td>0.124111</td>\n",
              "      <td>Household</td>\n",
              "      <td>111.7544</td>\n",
              "      <td>OUT027</td>\n",
              "      <td>1985</td>\n",
              "      <td>Medium</td>\n",
              "      <td>Tier 3</td>\n",
              "      <td>Supermarket Type3</td>\n",
              "      <td>4138.6128</td>\n",
              "    </tr>\n",
              "  </tbody>\n",
              "</table>\n",
              "<p>1463 rows × 12 columns</p>\n",
              "</div>\n",
              "      <button class=\"colab-df-convert\" onclick=\"convertToInteractive('df-ecb17989-a154-4742-ab35-f33ace653e48')\"\n",
              "              title=\"Convert this dataframe to an interactive table.\"\n",
              "              style=\"display:none;\">\n",
              "        \n",
              "  <svg xmlns=\"http://www.w3.org/2000/svg\" height=\"24px\"viewBox=\"0 0 24 24\"\n",
              "       width=\"24px\">\n",
              "    <path d=\"M0 0h24v24H0V0z\" fill=\"none\"/>\n",
              "    <path d=\"M18.56 5.44l.94 2.06.94-2.06 2.06-.94-2.06-.94-.94-2.06-.94 2.06-2.06.94zm-11 1L8.5 8.5l.94-2.06 2.06-.94-2.06-.94L8.5 2.5l-.94 2.06-2.06.94zm10 10l.94 2.06.94-2.06 2.06-.94-2.06-.94-.94-2.06-.94 2.06-2.06.94z\"/><path d=\"M17.41 7.96l-1.37-1.37c-.4-.4-.92-.59-1.43-.59-.52 0-1.04.2-1.43.59L10.3 9.45l-7.72 7.72c-.78.78-.78 2.05 0 2.83L4 21.41c.39.39.9.59 1.41.59.51 0 1.02-.2 1.41-.59l7.78-7.78 2.81-2.81c.8-.78.8-2.07 0-2.86zM5.41 20L4 18.59l7.72-7.72 1.47 1.35L5.41 20z\"/>\n",
              "  </svg>\n",
              "      </button>\n",
              "      \n",
              "  <style>\n",
              "    .colab-df-container {\n",
              "      display:flex;\n",
              "      flex-wrap:wrap;\n",
              "      gap: 12px;\n",
              "    }\n",
              "\n",
              "    .colab-df-convert {\n",
              "      background-color: #E8F0FE;\n",
              "      border: none;\n",
              "      border-radius: 50%;\n",
              "      cursor: pointer;\n",
              "      display: none;\n",
              "      fill: #1967D2;\n",
              "      height: 32px;\n",
              "      padding: 0 0 0 0;\n",
              "      width: 32px;\n",
              "    }\n",
              "\n",
              "    .colab-df-convert:hover {\n",
              "      background-color: #E2EBFA;\n",
              "      box-shadow: 0px 1px 2px rgba(60, 64, 67, 0.3), 0px 1px 3px 1px rgba(60, 64, 67, 0.15);\n",
              "      fill: #174EA6;\n",
              "    }\n",
              "\n",
              "    [theme=dark] .colab-df-convert {\n",
              "      background-color: #3B4455;\n",
              "      fill: #D2E3FC;\n",
              "    }\n",
              "\n",
              "    [theme=dark] .colab-df-convert:hover {\n",
              "      background-color: #434B5C;\n",
              "      box-shadow: 0px 1px 3px 1px rgba(0, 0, 0, 0.15);\n",
              "      filter: drop-shadow(0px 1px 2px rgba(0, 0, 0, 0.3));\n",
              "      fill: #FFFFFF;\n",
              "    }\n",
              "  </style>\n",
              "\n",
              "      <script>\n",
              "        const buttonEl =\n",
              "          document.querySelector('#df-ecb17989-a154-4742-ab35-f33ace653e48 button.colab-df-convert');\n",
              "        buttonEl.style.display =\n",
              "          google.colab.kernel.accessAllowed ? 'block' : 'none';\n",
              "\n",
              "        async function convertToInteractive(key) {\n",
              "          const element = document.querySelector('#df-ecb17989-a154-4742-ab35-f33ace653e48');\n",
              "          const dataTable =\n",
              "            await google.colab.kernel.invokeFunction('convertToInteractive',\n",
              "                                                     [key], {});\n",
              "          if (!dataTable) return;\n",
              "\n",
              "          const docLinkHtml = 'Like what you see? Visit the ' +\n",
              "            '<a target=\"_blank\" href=https://colab.research.google.com/notebooks/data_table.ipynb>data table notebook</a>'\n",
              "            + ' to learn more about interactive tables.';\n",
              "          element.innerHTML = '';\n",
              "          dataTable['output_type'] = 'display_data';\n",
              "          await google.colab.output.renderOutput(dataTable, element);\n",
              "          const docLink = document.createElement('div');\n",
              "          docLink.innerHTML = docLinkHtml;\n",
              "          element.appendChild(docLink);\n",
              "        }\n",
              "      </script>\n",
              "    </div>\n",
              "  </div>\n",
              "  "
            ]
          },
          "metadata": {},
          "execution_count": 689
        }
      ]
    },
    {
      "cell_type": "code",
      "source": [
        "# Crear df con columnas 'Item_Identifier' y 'Item_Weight'\n",
        "one_per_Item_Identifier=df[['Item_Identifier','Item_Weight']]\n",
        "# Ordenar df por 'Item_Weight' números primero y NaN último\n",
        "one_per_Item_Identifier=one_per_Item_Identifier.sort_values('Item_Weight',ascending=True)\n",
        "# Remover los duplicados y dejar primer registro encontrado\n",
        "one_per_Item_Identifier=one_per_Item_Identifier.drop_duplicates(subset = 'Item_Identifier', keep = 'first')\n",
        "print('Cantidad de productos únicos:',one_per_Item_Identifier.shape[0])\n",
        "print(\"Cantidad de productos únicos con valores nulos\")\n",
        "one_per_Item_Identifier.isna().sum()\n",
        "# Cuantro productos con valores nulos en 'Item_Weight'"
      ],
      "metadata": {
        "colab": {
          "base_uri": "https://localhost:8080/"
        },
        "id": "tSKkEU-Aw7vb",
        "outputId": "d03c9c1a-db63-4a36-8406-94855f3c98d9"
      },
      "execution_count": 690,
      "outputs": [
        {
          "output_type": "stream",
          "name": "stdout",
          "text": [
            "Cantidad de productos únicos: 1559\n",
            "Cantidad de productos únicos con valores nulos\n"
          ]
        },
        {
          "output_type": "execute_result",
          "data": {
            "text/plain": [
              "Item_Identifier    0\n",
              "Item_Weight        4\n",
              "dtype: int64"
            ]
          },
          "metadata": {},
          "execution_count": 690
        }
      ]
    },
    {
      "cell_type": "code",
      "source": [
        "# Buscar vertical 'Item_Identifier' de df, en  one_per_Item_Identifier, y agregar columna 'Item_Weight' a df\n",
        " \n",
        "Outer_join = pd.merge(df, \n",
        "                      one_per_Item_Identifier, \n",
        "                      on ='Item_Identifier', \n",
        "                      how ='outer')\n",
        "Outer_join"
      ],
      "metadata": {
        "colab": {
          "base_uri": "https://localhost:8080/",
          "height": 661
        },
        "id": "sNEi61hXVSz-",
        "outputId": "f6976c6a-1cd5-4a56-c48f-60c0d520106e"
      },
      "execution_count": 691,
      "outputs": [
        {
          "output_type": "execute_result",
          "data": {
            "text/plain": [
              "     Item_Identifier  Item_Weight_x Item_Fat_Content  Item_Visibility  \\\n",
              "0              FDA15          9.300          Low Fat         0.016047   \n",
              "1              FDA15          9.300          Low Fat         0.016055   \n",
              "2              FDA15          9.300          Low Fat         0.016019   \n",
              "3              FDA15          9.300          Low Fat         0.016088   \n",
              "4              FDA15          9.300          Low Fat         0.026818   \n",
              "...              ...            ...              ...              ...   \n",
              "8518           NCF55          6.675               LF         0.021666   \n",
              "8519           NCW30          5.210          Low Fat         0.011072   \n",
              "8520           NCW30          5.210          Low Fat         0.011008   \n",
              "8521           NCW05         20.250          Low Fat         0.148303   \n",
              "8522           NCW05         20.250          Low Fat         0.148373   \n",
              "\n",
              "               Item_Type  Item_MRP Outlet_Identifier  \\\n",
              "0                  Dairy  249.8092            OUT049   \n",
              "1                  Dairy  250.2092            OUT045   \n",
              "2                  Dairy  248.5092            OUT035   \n",
              "3                  Dairy  249.6092            OUT018   \n",
              "4                  Dairy  248.9092            OUT010   \n",
              "...                  ...       ...               ...   \n",
              "8518           Household   33.3874            OUT046   \n",
              "8519           Household  257.8962            OUT017   \n",
              "8520           Household  259.5962            OUT035   \n",
              "8521  Health and Hygiene  108.3938            OUT049   \n",
              "8522  Health and Hygiene  108.8938            OUT045   \n",
              "\n",
              "      Outlet_Establishment_Year Outlet_Size Outlet_Location_Type  \\\n",
              "0                          1999      Medium               Tier 1   \n",
              "1                          2002         NaN               Tier 2   \n",
              "2                          2004       Small               Tier 2   \n",
              "3                          2009      Medium               Tier 3   \n",
              "4                          1998         NaN               Tier 3   \n",
              "...                         ...         ...                  ...   \n",
              "8518                       1997       Small               Tier 1   \n",
              "8519                       2007         NaN               Tier 2   \n",
              "8520                       2004       Small               Tier 2   \n",
              "8521                       1999      Medium               Tier 1   \n",
              "8522                       2002         NaN               Tier 2   \n",
              "\n",
              "            Outlet_Type  Item_Outlet_Sales  Item_Weight_y  \n",
              "0     Supermarket Type1          3735.1380          9.300  \n",
              "1     Supermarket Type1          5976.2208          9.300  \n",
              "2     Supermarket Type1          6474.2392          9.300  \n",
              "3     Supermarket Type2          5976.2208          9.300  \n",
              "4         Grocery Store           498.0184          9.300  \n",
              "...                 ...                ...            ...  \n",
              "8518  Supermarket Type1          1235.0590          6.675  \n",
              "8519  Supermarket Type1          4402.9354          5.210  \n",
              "8520  Supermarket Type1          2848.9582          5.210  \n",
              "8521  Supermarket Type1          2787.0388         20.250  \n",
              "8522  Supermarket Type1          3644.5892         20.250  \n",
              "\n",
              "[8523 rows x 13 columns]"
            ],
            "text/html": [
              "\n",
              "  <div id=\"df-1edc3ba8-acf4-45cd-9a85-bd6550ae2280\">\n",
              "    <div class=\"colab-df-container\">\n",
              "      <div>\n",
              "<style scoped>\n",
              "    .dataframe tbody tr th:only-of-type {\n",
              "        vertical-align: middle;\n",
              "    }\n",
              "\n",
              "    .dataframe tbody tr th {\n",
              "        vertical-align: top;\n",
              "    }\n",
              "\n",
              "    .dataframe thead th {\n",
              "        text-align: right;\n",
              "    }\n",
              "</style>\n",
              "<table border=\"1\" class=\"dataframe\">\n",
              "  <thead>\n",
              "    <tr style=\"text-align: right;\">\n",
              "      <th></th>\n",
              "      <th>Item_Identifier</th>\n",
              "      <th>Item_Weight_x</th>\n",
              "      <th>Item_Fat_Content</th>\n",
              "      <th>Item_Visibility</th>\n",
              "      <th>Item_Type</th>\n",
              "      <th>Item_MRP</th>\n",
              "      <th>Outlet_Identifier</th>\n",
              "      <th>Outlet_Establishment_Year</th>\n",
              "      <th>Outlet_Size</th>\n",
              "      <th>Outlet_Location_Type</th>\n",
              "      <th>Outlet_Type</th>\n",
              "      <th>Item_Outlet_Sales</th>\n",
              "      <th>Item_Weight_y</th>\n",
              "    </tr>\n",
              "  </thead>\n",
              "  <tbody>\n",
              "    <tr>\n",
              "      <th>0</th>\n",
              "      <td>FDA15</td>\n",
              "      <td>9.300</td>\n",
              "      <td>Low Fat</td>\n",
              "      <td>0.016047</td>\n",
              "      <td>Dairy</td>\n",
              "      <td>249.8092</td>\n",
              "      <td>OUT049</td>\n",
              "      <td>1999</td>\n",
              "      <td>Medium</td>\n",
              "      <td>Tier 1</td>\n",
              "      <td>Supermarket Type1</td>\n",
              "      <td>3735.1380</td>\n",
              "      <td>9.300</td>\n",
              "    </tr>\n",
              "    <tr>\n",
              "      <th>1</th>\n",
              "      <td>FDA15</td>\n",
              "      <td>9.300</td>\n",
              "      <td>Low Fat</td>\n",
              "      <td>0.016055</td>\n",
              "      <td>Dairy</td>\n",
              "      <td>250.2092</td>\n",
              "      <td>OUT045</td>\n",
              "      <td>2002</td>\n",
              "      <td>NaN</td>\n",
              "      <td>Tier 2</td>\n",
              "      <td>Supermarket Type1</td>\n",
              "      <td>5976.2208</td>\n",
              "      <td>9.300</td>\n",
              "    </tr>\n",
              "    <tr>\n",
              "      <th>2</th>\n",
              "      <td>FDA15</td>\n",
              "      <td>9.300</td>\n",
              "      <td>Low Fat</td>\n",
              "      <td>0.016019</td>\n",
              "      <td>Dairy</td>\n",
              "      <td>248.5092</td>\n",
              "      <td>OUT035</td>\n",
              "      <td>2004</td>\n",
              "      <td>Small</td>\n",
              "      <td>Tier 2</td>\n",
              "      <td>Supermarket Type1</td>\n",
              "      <td>6474.2392</td>\n",
              "      <td>9.300</td>\n",
              "    </tr>\n",
              "    <tr>\n",
              "      <th>3</th>\n",
              "      <td>FDA15</td>\n",
              "      <td>9.300</td>\n",
              "      <td>Low Fat</td>\n",
              "      <td>0.016088</td>\n",
              "      <td>Dairy</td>\n",
              "      <td>249.6092</td>\n",
              "      <td>OUT018</td>\n",
              "      <td>2009</td>\n",
              "      <td>Medium</td>\n",
              "      <td>Tier 3</td>\n",
              "      <td>Supermarket Type2</td>\n",
              "      <td>5976.2208</td>\n",
              "      <td>9.300</td>\n",
              "    </tr>\n",
              "    <tr>\n",
              "      <th>4</th>\n",
              "      <td>FDA15</td>\n",
              "      <td>9.300</td>\n",
              "      <td>Low Fat</td>\n",
              "      <td>0.026818</td>\n",
              "      <td>Dairy</td>\n",
              "      <td>248.9092</td>\n",
              "      <td>OUT010</td>\n",
              "      <td>1998</td>\n",
              "      <td>NaN</td>\n",
              "      <td>Tier 3</td>\n",
              "      <td>Grocery Store</td>\n",
              "      <td>498.0184</td>\n",
              "      <td>9.300</td>\n",
              "    </tr>\n",
              "    <tr>\n",
              "      <th>...</th>\n",
              "      <td>...</td>\n",
              "      <td>...</td>\n",
              "      <td>...</td>\n",
              "      <td>...</td>\n",
              "      <td>...</td>\n",
              "      <td>...</td>\n",
              "      <td>...</td>\n",
              "      <td>...</td>\n",
              "      <td>...</td>\n",
              "      <td>...</td>\n",
              "      <td>...</td>\n",
              "      <td>...</td>\n",
              "      <td>...</td>\n",
              "    </tr>\n",
              "    <tr>\n",
              "      <th>8518</th>\n",
              "      <td>NCF55</td>\n",
              "      <td>6.675</td>\n",
              "      <td>LF</td>\n",
              "      <td>0.021666</td>\n",
              "      <td>Household</td>\n",
              "      <td>33.3874</td>\n",
              "      <td>OUT046</td>\n",
              "      <td>1997</td>\n",
              "      <td>Small</td>\n",
              "      <td>Tier 1</td>\n",
              "      <td>Supermarket Type1</td>\n",
              "      <td>1235.0590</td>\n",
              "      <td>6.675</td>\n",
              "    </tr>\n",
              "    <tr>\n",
              "      <th>8519</th>\n",
              "      <td>NCW30</td>\n",
              "      <td>5.210</td>\n",
              "      <td>Low Fat</td>\n",
              "      <td>0.011072</td>\n",
              "      <td>Household</td>\n",
              "      <td>257.8962</td>\n",
              "      <td>OUT017</td>\n",
              "      <td>2007</td>\n",
              "      <td>NaN</td>\n",
              "      <td>Tier 2</td>\n",
              "      <td>Supermarket Type1</td>\n",
              "      <td>4402.9354</td>\n",
              "      <td>5.210</td>\n",
              "    </tr>\n",
              "    <tr>\n",
              "      <th>8520</th>\n",
              "      <td>NCW30</td>\n",
              "      <td>5.210</td>\n",
              "      <td>Low Fat</td>\n",
              "      <td>0.011008</td>\n",
              "      <td>Household</td>\n",
              "      <td>259.5962</td>\n",
              "      <td>OUT035</td>\n",
              "      <td>2004</td>\n",
              "      <td>Small</td>\n",
              "      <td>Tier 2</td>\n",
              "      <td>Supermarket Type1</td>\n",
              "      <td>2848.9582</td>\n",
              "      <td>5.210</td>\n",
              "    </tr>\n",
              "    <tr>\n",
              "      <th>8521</th>\n",
              "      <td>NCW05</td>\n",
              "      <td>20.250</td>\n",
              "      <td>Low Fat</td>\n",
              "      <td>0.148303</td>\n",
              "      <td>Health and Hygiene</td>\n",
              "      <td>108.3938</td>\n",
              "      <td>OUT049</td>\n",
              "      <td>1999</td>\n",
              "      <td>Medium</td>\n",
              "      <td>Tier 1</td>\n",
              "      <td>Supermarket Type1</td>\n",
              "      <td>2787.0388</td>\n",
              "      <td>20.250</td>\n",
              "    </tr>\n",
              "    <tr>\n",
              "      <th>8522</th>\n",
              "      <td>NCW05</td>\n",
              "      <td>20.250</td>\n",
              "      <td>Low Fat</td>\n",
              "      <td>0.148373</td>\n",
              "      <td>Health and Hygiene</td>\n",
              "      <td>108.8938</td>\n",
              "      <td>OUT045</td>\n",
              "      <td>2002</td>\n",
              "      <td>NaN</td>\n",
              "      <td>Tier 2</td>\n",
              "      <td>Supermarket Type1</td>\n",
              "      <td>3644.5892</td>\n",
              "      <td>20.250</td>\n",
              "    </tr>\n",
              "  </tbody>\n",
              "</table>\n",
              "<p>8523 rows × 13 columns</p>\n",
              "</div>\n",
              "      <button class=\"colab-df-convert\" onclick=\"convertToInteractive('df-1edc3ba8-acf4-45cd-9a85-bd6550ae2280')\"\n",
              "              title=\"Convert this dataframe to an interactive table.\"\n",
              "              style=\"display:none;\">\n",
              "        \n",
              "  <svg xmlns=\"http://www.w3.org/2000/svg\" height=\"24px\"viewBox=\"0 0 24 24\"\n",
              "       width=\"24px\">\n",
              "    <path d=\"M0 0h24v24H0V0z\" fill=\"none\"/>\n",
              "    <path d=\"M18.56 5.44l.94 2.06.94-2.06 2.06-.94-2.06-.94-.94-2.06-.94 2.06-2.06.94zm-11 1L8.5 8.5l.94-2.06 2.06-.94-2.06-.94L8.5 2.5l-.94 2.06-2.06.94zm10 10l.94 2.06.94-2.06 2.06-.94-2.06-.94-.94-2.06-.94 2.06-2.06.94z\"/><path d=\"M17.41 7.96l-1.37-1.37c-.4-.4-.92-.59-1.43-.59-.52 0-1.04.2-1.43.59L10.3 9.45l-7.72 7.72c-.78.78-.78 2.05 0 2.83L4 21.41c.39.39.9.59 1.41.59.51 0 1.02-.2 1.41-.59l7.78-7.78 2.81-2.81c.8-.78.8-2.07 0-2.86zM5.41 20L4 18.59l7.72-7.72 1.47 1.35L5.41 20z\"/>\n",
              "  </svg>\n",
              "      </button>\n",
              "      \n",
              "  <style>\n",
              "    .colab-df-container {\n",
              "      display:flex;\n",
              "      flex-wrap:wrap;\n",
              "      gap: 12px;\n",
              "    }\n",
              "\n",
              "    .colab-df-convert {\n",
              "      background-color: #E8F0FE;\n",
              "      border: none;\n",
              "      border-radius: 50%;\n",
              "      cursor: pointer;\n",
              "      display: none;\n",
              "      fill: #1967D2;\n",
              "      height: 32px;\n",
              "      padding: 0 0 0 0;\n",
              "      width: 32px;\n",
              "    }\n",
              "\n",
              "    .colab-df-convert:hover {\n",
              "      background-color: #E2EBFA;\n",
              "      box-shadow: 0px 1px 2px rgba(60, 64, 67, 0.3), 0px 1px 3px 1px rgba(60, 64, 67, 0.15);\n",
              "      fill: #174EA6;\n",
              "    }\n",
              "\n",
              "    [theme=dark] .colab-df-convert {\n",
              "      background-color: #3B4455;\n",
              "      fill: #D2E3FC;\n",
              "    }\n",
              "\n",
              "    [theme=dark] .colab-df-convert:hover {\n",
              "      background-color: #434B5C;\n",
              "      box-shadow: 0px 1px 3px 1px rgba(0, 0, 0, 0.15);\n",
              "      filter: drop-shadow(0px 1px 2px rgba(0, 0, 0, 0.3));\n",
              "      fill: #FFFFFF;\n",
              "    }\n",
              "  </style>\n",
              "\n",
              "      <script>\n",
              "        const buttonEl =\n",
              "          document.querySelector('#df-1edc3ba8-acf4-45cd-9a85-bd6550ae2280 button.colab-df-convert');\n",
              "        buttonEl.style.display =\n",
              "          google.colab.kernel.accessAllowed ? 'block' : 'none';\n",
              "\n",
              "        async function convertToInteractive(key) {\n",
              "          const element = document.querySelector('#df-1edc3ba8-acf4-45cd-9a85-bd6550ae2280');\n",
              "          const dataTable =\n",
              "            await google.colab.kernel.invokeFunction('convertToInteractive',\n",
              "                                                     [key], {});\n",
              "          if (!dataTable) return;\n",
              "\n",
              "          const docLinkHtml = 'Like what you see? Visit the ' +\n",
              "            '<a target=\"_blank\" href=https://colab.research.google.com/notebooks/data_table.ipynb>data table notebook</a>'\n",
              "            + ' to learn more about interactive tables.';\n",
              "          element.innerHTML = '';\n",
              "          dataTable['output_type'] = 'display_data';\n",
              "          await google.colab.output.renderOutput(dataTable, element);\n",
              "          const docLink = document.createElement('div');\n",
              "          docLink.innerHTML = docLinkHtml;\n",
              "          element.appendChild(docLink);\n",
              "        }\n",
              "      </script>\n",
              "    </div>\n",
              "  </div>\n",
              "  "
            ]
          },
          "metadata": {},
          "execution_count": 691
        }
      ]
    },
    {
      "cell_type": "code",
      "source": [
        "Outer_join['Item_Weight_x']=Outer_join['Item_Weight_y']"
      ],
      "metadata": {
        "id": "6TCdIlMccykf"
      },
      "execution_count": 692,
      "outputs": []
    },
    {
      "cell_type": "code",
      "source": [
        "# eliminar columna 'Item_Weight_y'\n",
        "Outer_join=Outer_join.drop(columns=['Item_Weight_y'])\n"
      ],
      "metadata": {
        "id": "p6p4PmyiRC6W"
      },
      "execution_count": 693,
      "outputs": []
    },
    {
      "cell_type": "code",
      "source": [
        "# Renombrar columna 'Item_Weight_x'\n",
        "Outer_join.columns = ['Item_Identifier', 'Item_Weight', 'Item_Fat_Content',\n",
        "       'Item_Visibility', 'Item_Type', 'Item_MRP', 'Outlet_Identifier',\n",
        "       'Outlet_Establishment_Year', 'Outlet_Size', 'Outlet_Location_Type',\n",
        "       'Outlet_Type', 'Item_Outlet_Sales']"
      ],
      "metadata": {
        "id": "rhw-rkzWRuRZ"
      },
      "execution_count": 694,
      "outputs": []
    },
    {
      "cell_type": "code",
      "source": [
        "# Asignar a df columna 'Item_Weight' limpia\n",
        "df = Outer_join"
      ],
      "metadata": {
        "id": "-jPEa5WhR0Z1"
      },
      "execution_count": 695,
      "outputs": []
    },
    {
      "cell_type": "code",
      "source": [
        "# Cuantificación del porcentaje de valores nulos en la columna 'Item_Weight' con respecto al total de registro\n",
        "missing_percent_Item_Weight=round(df['Item_Weight'].isna().sum()/df.shape[0]*100,2)\n",
        "print(\"Porcentaje de valores nulos en la columna 'Item_Weight' con respecto al total de registro\",missing_percent_Item_Weight,\"%\")\n",
        "\n",
        "# Crear filtro para valores NaN en columna 'Region'\n",
        "missing_Item_Weight_df=df['Item_Weight'].isna()\n",
        "# MNostrar filas NaN residual del df\n",
        "df.loc[missing_Item_Weight_df,:]"
      ],
      "metadata": {
        "colab": {
          "base_uri": "https://localhost:8080/",
          "height": 326
        },
        "id": "WV6s0yakRBdV",
        "outputId": "ca664da9-0c54-4eaa-8e1c-25de517cf6e4"
      },
      "execution_count": 696,
      "outputs": [
        {
          "output_type": "stream",
          "name": "stdout",
          "text": [
            "Porcentaje de valores nulos en la columna 'Item_Weight' con respecto al total de registro 0.05 %\n"
          ]
        },
        {
          "output_type": "execute_result",
          "data": {
            "text/plain": [
              "     Item_Identifier  Item_Weight Item_Fat_Content  Item_Visibility  \\\n",
              "4125           FDN52          NaN          Regular         0.130933   \n",
              "6440           FDK57          NaN          Low Fat         0.079904   \n",
              "8278           FDE52          NaN          Regular         0.029742   \n",
              "8463           FDQ60          NaN          Regular         0.191501   \n",
              "\n",
              "         Item_Type  Item_MRP Outlet_Identifier  Outlet_Establishment_Year  \\\n",
              "4125  Frozen Foods   86.9198            OUT027                       1985   \n",
              "6440   Snack Foods  120.0440            OUT027                       1985   \n",
              "8278         Dairy   88.9514            OUT027                       1985   \n",
              "8463  Baking Goods  121.2098            OUT019                       1985   \n",
              "\n",
              "     Outlet_Size Outlet_Location_Type        Outlet_Type  Item_Outlet_Sales  \n",
              "4125      Medium               Tier 3  Supermarket Type3          1569.9564  \n",
              "6440      Medium               Tier 3  Supermarket Type3          4434.2280  \n",
              "8278      Medium               Tier 3  Supermarket Type3          3453.5046  \n",
              "8463       Small               Tier 1      Grocery Store           120.5098  "
            ],
            "text/html": [
              "\n",
              "  <div id=\"df-4b4725cb-e5d8-4976-8b61-a04765a6b719\">\n",
              "    <div class=\"colab-df-container\">\n",
              "      <div>\n",
              "<style scoped>\n",
              "    .dataframe tbody tr th:only-of-type {\n",
              "        vertical-align: middle;\n",
              "    }\n",
              "\n",
              "    .dataframe tbody tr th {\n",
              "        vertical-align: top;\n",
              "    }\n",
              "\n",
              "    .dataframe thead th {\n",
              "        text-align: right;\n",
              "    }\n",
              "</style>\n",
              "<table border=\"1\" class=\"dataframe\">\n",
              "  <thead>\n",
              "    <tr style=\"text-align: right;\">\n",
              "      <th></th>\n",
              "      <th>Item_Identifier</th>\n",
              "      <th>Item_Weight</th>\n",
              "      <th>Item_Fat_Content</th>\n",
              "      <th>Item_Visibility</th>\n",
              "      <th>Item_Type</th>\n",
              "      <th>Item_MRP</th>\n",
              "      <th>Outlet_Identifier</th>\n",
              "      <th>Outlet_Establishment_Year</th>\n",
              "      <th>Outlet_Size</th>\n",
              "      <th>Outlet_Location_Type</th>\n",
              "      <th>Outlet_Type</th>\n",
              "      <th>Item_Outlet_Sales</th>\n",
              "    </tr>\n",
              "  </thead>\n",
              "  <tbody>\n",
              "    <tr>\n",
              "      <th>4125</th>\n",
              "      <td>FDN52</td>\n",
              "      <td>NaN</td>\n",
              "      <td>Regular</td>\n",
              "      <td>0.130933</td>\n",
              "      <td>Frozen Foods</td>\n",
              "      <td>86.9198</td>\n",
              "      <td>OUT027</td>\n",
              "      <td>1985</td>\n",
              "      <td>Medium</td>\n",
              "      <td>Tier 3</td>\n",
              "      <td>Supermarket Type3</td>\n",
              "      <td>1569.9564</td>\n",
              "    </tr>\n",
              "    <tr>\n",
              "      <th>6440</th>\n",
              "      <td>FDK57</td>\n",
              "      <td>NaN</td>\n",
              "      <td>Low Fat</td>\n",
              "      <td>0.079904</td>\n",
              "      <td>Snack Foods</td>\n",
              "      <td>120.0440</td>\n",
              "      <td>OUT027</td>\n",
              "      <td>1985</td>\n",
              "      <td>Medium</td>\n",
              "      <td>Tier 3</td>\n",
              "      <td>Supermarket Type3</td>\n",
              "      <td>4434.2280</td>\n",
              "    </tr>\n",
              "    <tr>\n",
              "      <th>8278</th>\n",
              "      <td>FDE52</td>\n",
              "      <td>NaN</td>\n",
              "      <td>Regular</td>\n",
              "      <td>0.029742</td>\n",
              "      <td>Dairy</td>\n",
              "      <td>88.9514</td>\n",
              "      <td>OUT027</td>\n",
              "      <td>1985</td>\n",
              "      <td>Medium</td>\n",
              "      <td>Tier 3</td>\n",
              "      <td>Supermarket Type3</td>\n",
              "      <td>3453.5046</td>\n",
              "    </tr>\n",
              "    <tr>\n",
              "      <th>8463</th>\n",
              "      <td>FDQ60</td>\n",
              "      <td>NaN</td>\n",
              "      <td>Regular</td>\n",
              "      <td>0.191501</td>\n",
              "      <td>Baking Goods</td>\n",
              "      <td>121.2098</td>\n",
              "      <td>OUT019</td>\n",
              "      <td>1985</td>\n",
              "      <td>Small</td>\n",
              "      <td>Tier 1</td>\n",
              "      <td>Grocery Store</td>\n",
              "      <td>120.5098</td>\n",
              "    </tr>\n",
              "  </tbody>\n",
              "</table>\n",
              "</div>\n",
              "      <button class=\"colab-df-convert\" onclick=\"convertToInteractive('df-4b4725cb-e5d8-4976-8b61-a04765a6b719')\"\n",
              "              title=\"Convert this dataframe to an interactive table.\"\n",
              "              style=\"display:none;\">\n",
              "        \n",
              "  <svg xmlns=\"http://www.w3.org/2000/svg\" height=\"24px\"viewBox=\"0 0 24 24\"\n",
              "       width=\"24px\">\n",
              "    <path d=\"M0 0h24v24H0V0z\" fill=\"none\"/>\n",
              "    <path d=\"M18.56 5.44l.94 2.06.94-2.06 2.06-.94-2.06-.94-.94-2.06-.94 2.06-2.06.94zm-11 1L8.5 8.5l.94-2.06 2.06-.94-2.06-.94L8.5 2.5l-.94 2.06-2.06.94zm10 10l.94 2.06.94-2.06 2.06-.94-2.06-.94-.94-2.06-.94 2.06-2.06.94z\"/><path d=\"M17.41 7.96l-1.37-1.37c-.4-.4-.92-.59-1.43-.59-.52 0-1.04.2-1.43.59L10.3 9.45l-7.72 7.72c-.78.78-.78 2.05 0 2.83L4 21.41c.39.39.9.59 1.41.59.51 0 1.02-.2 1.41-.59l7.78-7.78 2.81-2.81c.8-.78.8-2.07 0-2.86zM5.41 20L4 18.59l7.72-7.72 1.47 1.35L5.41 20z\"/>\n",
              "  </svg>\n",
              "      </button>\n",
              "      \n",
              "  <style>\n",
              "    .colab-df-container {\n",
              "      display:flex;\n",
              "      flex-wrap:wrap;\n",
              "      gap: 12px;\n",
              "    }\n",
              "\n",
              "    .colab-df-convert {\n",
              "      background-color: #E8F0FE;\n",
              "      border: none;\n",
              "      border-radius: 50%;\n",
              "      cursor: pointer;\n",
              "      display: none;\n",
              "      fill: #1967D2;\n",
              "      height: 32px;\n",
              "      padding: 0 0 0 0;\n",
              "      width: 32px;\n",
              "    }\n",
              "\n",
              "    .colab-df-convert:hover {\n",
              "      background-color: #E2EBFA;\n",
              "      box-shadow: 0px 1px 2px rgba(60, 64, 67, 0.3), 0px 1px 3px 1px rgba(60, 64, 67, 0.15);\n",
              "      fill: #174EA6;\n",
              "    }\n",
              "\n",
              "    [theme=dark] .colab-df-convert {\n",
              "      background-color: #3B4455;\n",
              "      fill: #D2E3FC;\n",
              "    }\n",
              "\n",
              "    [theme=dark] .colab-df-convert:hover {\n",
              "      background-color: #434B5C;\n",
              "      box-shadow: 0px 1px 3px 1px rgba(0, 0, 0, 0.15);\n",
              "      filter: drop-shadow(0px 1px 2px rgba(0, 0, 0, 0.3));\n",
              "      fill: #FFFFFF;\n",
              "    }\n",
              "  </style>\n",
              "\n",
              "      <script>\n",
              "        const buttonEl =\n",
              "          document.querySelector('#df-4b4725cb-e5d8-4976-8b61-a04765a6b719 button.colab-df-convert');\n",
              "        buttonEl.style.display =\n",
              "          google.colab.kernel.accessAllowed ? 'block' : 'none';\n",
              "\n",
              "        async function convertToInteractive(key) {\n",
              "          const element = document.querySelector('#df-4b4725cb-e5d8-4976-8b61-a04765a6b719');\n",
              "          const dataTable =\n",
              "            await google.colab.kernel.invokeFunction('convertToInteractive',\n",
              "                                                     [key], {});\n",
              "          if (!dataTable) return;\n",
              "\n",
              "          const docLinkHtml = 'Like what you see? Visit the ' +\n",
              "            '<a target=\"_blank\" href=https://colab.research.google.com/notebooks/data_table.ipynb>data table notebook</a>'\n",
              "            + ' to learn more about interactive tables.';\n",
              "          element.innerHTML = '';\n",
              "          dataTable['output_type'] = 'display_data';\n",
              "          await google.colab.output.renderOutput(dataTable, element);\n",
              "          const docLink = document.createElement('div');\n",
              "          docLink.innerHTML = docLinkHtml;\n",
              "          element.appendChild(docLink);\n",
              "        }\n",
              "      </script>\n",
              "    </div>\n",
              "  </div>\n",
              "  "
            ]
          },
          "metadata": {},
          "execution_count": 696
        }
      ]
    },
    {
      "cell_type": "code",
      "source": [
        "# Excluir filas NaN residual del df\n",
        "df=df.loc[~missing_Item_Weight_df,:]"
      ],
      "metadata": {
        "id": "Pn-GFftvuise"
      },
      "execution_count": 697,
      "outputs": []
    },
    {
      "cell_type": "code",
      "source": [
        "# 1.4.1. Valores inconsistente de datos 'Item_Fat_Content'\n",
        "\n",
        "# Diagnóstico: existencia de valores inconsistentes en categorías\n",
        "# Tratamiento: se homologarán los valores a dos categorías\n",
        "# Low Fat: LF, low fat\n",
        "# Regular: reg\n",
        "df['Item_Fat_Content'].value_counts()"
      ],
      "metadata": {
        "colab": {
          "base_uri": "https://localhost:8080/"
        },
        "id": "F9BYJoBZygXp",
        "outputId": "81b92fe6-25c4-463c-f4ca-c6e4329f3b00"
      },
      "execution_count": 698,
      "outputs": [
        {
          "output_type": "execute_result",
          "data": {
            "text/plain": [
              "Low Fat    5088\n",
              "Regular    2886\n",
              "LF          316\n",
              "reg         117\n",
              "low fat     112\n",
              "Name: Item_Fat_Content, dtype: int64"
            ]
          },
          "metadata": {},
          "execution_count": 698
        }
      ]
    },
    {
      "cell_type": "code",
      "source": [
        "# Reemplazar valores inconsistentes\n",
        "df['Item_Fat_Content'] = df['Item_Fat_Content'].replace('LF','Low Fat')\n",
        "df['Item_Fat_Content'] = df['Item_Fat_Content'].replace('low fat','Low Fat')\n",
        "df['Item_Fat_Content'] = df['Item_Fat_Content'].replace('reg','Regular')"
      ],
      "metadata": {
        "id": "DPyG0lLpzYH7",
        "colab": {
          "base_uri": "https://localhost:8080/"
        },
        "outputId": "d234b467-98cb-49b3-8f32-dae6d9dde89c"
      },
      "execution_count": 699,
      "outputs": [
        {
          "output_type": "stream",
          "name": "stderr",
          "text": [
            "/usr/local/lib/python3.7/dist-packages/ipykernel_launcher.py:2: SettingWithCopyWarning: \n",
            "A value is trying to be set on a copy of a slice from a DataFrame.\n",
            "Try using .loc[row_indexer,col_indexer] = value instead\n",
            "\n",
            "See the caveats in the documentation: https://pandas.pydata.org/pandas-docs/stable/user_guide/indexing.html#returning-a-view-versus-a-copy\n",
            "  \n",
            "/usr/local/lib/python3.7/dist-packages/ipykernel_launcher.py:3: SettingWithCopyWarning: \n",
            "A value is trying to be set on a copy of a slice from a DataFrame.\n",
            "Try using .loc[row_indexer,col_indexer] = value instead\n",
            "\n",
            "See the caveats in the documentation: https://pandas.pydata.org/pandas-docs/stable/user_guide/indexing.html#returning-a-view-versus-a-copy\n",
            "  This is separate from the ipykernel package so we can avoid doing imports until\n",
            "/usr/local/lib/python3.7/dist-packages/ipykernel_launcher.py:4: SettingWithCopyWarning: \n",
            "A value is trying to be set on a copy of a slice from a DataFrame.\n",
            "Try using .loc[row_indexer,col_indexer] = value instead\n",
            "\n",
            "See the caveats in the documentation: https://pandas.pydata.org/pandas-docs/stable/user_guide/indexing.html#returning-a-view-versus-a-copy\n",
            "  after removing the cwd from sys.path.\n"
          ]
        }
      ]
    },
    {
      "cell_type": "code",
      "source": [
        "# Verificar homologación de categorías\n",
        "df['Item_Fat_Content'].value_counts()"
      ],
      "metadata": {
        "colab": {
          "base_uri": "https://localhost:8080/"
        },
        "id": "_SeacvKRz72a",
        "outputId": "df2fe6af-9b90-42e2-a692-df795e928691"
      },
      "execution_count": 700,
      "outputs": [
        {
          "output_type": "execute_result",
          "data": {
            "text/plain": [
              "Low Fat    5516\n",
              "Regular    3003\n",
              "Name: Item_Fat_Content, dtype: int64"
            ]
          },
          "metadata": {},
          "execution_count": 700
        }
      ]
    },
    {
      "cell_type": "code",
      "source": [
        "# Verificación de valores nulos en df\n",
        "# Quedan valores nulos en 'Outlet_Size'\n",
        "df.isna().sum()"
      ],
      "metadata": {
        "colab": {
          "base_uri": "https://localhost:8080/"
        },
        "id": "dRvzZbUVdX37",
        "outputId": "66a56b4a-d057-4bd2-adf0-44430d99d65f"
      },
      "execution_count": 701,
      "outputs": [
        {
          "output_type": "execute_result",
          "data": {
            "text/plain": [
              "Item_Identifier                 0\n",
              "Item_Weight                     0\n",
              "Item_Fat_Content                0\n",
              "Item_Visibility                 0\n",
              "Item_Type                       0\n",
              "Item_MRP                        0\n",
              "Outlet_Identifier               0\n",
              "Outlet_Establishment_Year       0\n",
              "Outlet_Size                  2410\n",
              "Outlet_Location_Type            0\n",
              "Outlet_Type                     0\n",
              "Item_Outlet_Sales               0\n",
              "dtype: int64"
            ]
          },
          "metadata": {},
          "execution_count": 701
        }
      ]
    },
    {
      "cell_type": "code",
      "source": [
        "# 1.3.3. Valores faltantes columna 'Outlet_Size'\n",
        "\n",
        "# Cuantificación del porcentaje de valores nulos en la columna 'Outlet_Sizet' con respecto al total de registro\n",
        "missing_percent_Outlet_Size=round(df['Outlet_Size'].isna().sum()/df.shape[0]*100,2)\n",
        "print(\"Porcentaje de valores nulos en la columna 'Item_Weight' con respecto al total de registro\",missing_percent_Outlet_Size,\"%\")\n",
        "\n",
        "# Tratamiento:\n",
        "# Alternativa 1: se procederá a clasificar 'Outlet_Size' utilizando modelo de machine learning. Por mientras, se dejarán como nulos.\n",
        "# Alternativa 2: Se procederá a clasificar utilizando obras columnas como referencia, tales como: 'Outlet_Location_Type' y 'Outlet_Type'.\n"
      ],
      "metadata": {
        "colab": {
          "base_uri": "https://localhost:8080/"
        },
        "id": "ifX2a4IpWpyM",
        "outputId": "22e426da-fe18-471e-c244-dbf80c85fa53"
      },
      "execution_count": 702,
      "outputs": [
        {
          "output_type": "stream",
          "name": "stdout",
          "text": [
            "Porcentaje de valores nulos en la columna 'Item_Weight' con respecto al total de registro 28.29 %\n"
          ]
        }
      ]
    },
    {
      "cell_type": "code",
      "source": [
        "# Cuenta de valores no nulos\n",
        "df['Outlet_Size'].value_counts()"
      ],
      "metadata": {
        "colab": {
          "base_uri": "https://localhost:8080/"
        },
        "id": "ZMJEFd5gXlwh",
        "outputId": "b60540d1-ea13-4939-8025-b3122e59dde8"
      },
      "execution_count": 703,
      "outputs": [
        {
          "output_type": "execute_result",
          "data": {
            "text/plain": [
              "Medium    2790\n",
              "Small     2387\n",
              "High       932\n",
              "Name: Outlet_Size, dtype: int64"
            ]
          },
          "metadata": {},
          "execution_count": 703
        }
      ]
    },
    {
      "cell_type": "code",
      "source": [
        "# Cuenta de valores nulos\n",
        "df['Outlet_Size'].isna().sum()"
      ],
      "metadata": {
        "colab": {
          "base_uri": "https://localhost:8080/"
        },
        "id": "L_gpOEsmLmkM",
        "outputId": "3821a221-fa62-4ab1-ecdd-dfba39176a2c"
      },
      "execution_count": 704,
      "outputs": [
        {
          "output_type": "execute_result",
          "data": {
            "text/plain": [
              "2410"
            ]
          },
          "metadata": {},
          "execution_count": 704
        }
      ]
    },
    {
      "cell_type": "code",
      "source": [
        "# Crear filtro para valores NaN en columna 'Item_Weight'\n",
        "missing_Outlet_Size_df=df['Outlet_Size'].isna()\n",
        "# Revisar filas que contienen NaN para y\n",
        "df.loc[missing_Outlet_Size_df,:]"
      ],
      "metadata": {
        "colab": {
          "base_uri": "https://localhost:8080/",
          "height": 661
        },
        "id": "LR5wKtu9XGC5",
        "outputId": "728891f6-0d63-4a44-8ce2-af3645d45285"
      },
      "execution_count": 705,
      "outputs": [
        {
          "output_type": "execute_result",
          "data": {
            "text/plain": [
              "     Item_Identifier  Item_Weight Item_Fat_Content  Item_Visibility  \\\n",
              "1              FDA15        9.300          Low Fat         0.016055   \n",
              "4              FDA15        9.300          Low Fat         0.026818   \n",
              "7              FDA15        9.300          Low Fat         0.016113   \n",
              "9              DRC01        5.920          Regular         0.019309   \n",
              "11             DRC01        5.920          Regular         0.019239   \n",
              "...              ...          ...              ...              ...   \n",
              "8507           NCU53        5.485          Low Fat         0.042839   \n",
              "8512           FDD28       10.695          Low Fat         0.000000   \n",
              "8516           NCF55        6.675          Low Fat         0.021710   \n",
              "8519           NCW30        5.210          Low Fat         0.011072   \n",
              "8522           NCW05       20.250          Low Fat         0.148373   \n",
              "\n",
              "               Item_Type  Item_MRP Outlet_Identifier  \\\n",
              "1                  Dairy  250.2092            OUT045   \n",
              "4                  Dairy  248.9092            OUT010   \n",
              "7                  Dairy  248.8092            OUT017   \n",
              "9            Soft Drinks   49.0692            OUT017   \n",
              "11           Soft Drinks   49.8692            OUT045   \n",
              "...                  ...       ...               ...   \n",
              "8507  Health and Hygiene  163.7842            OUT045   \n",
              "8512        Frozen Foods   60.5904            OUT017   \n",
              "8516           Household   34.9874            OUT045   \n",
              "8519           Household  257.8962            OUT017   \n",
              "8522  Health and Hygiene  108.8938            OUT045   \n",
              "\n",
              "      Outlet_Establishment_Year Outlet_Size Outlet_Location_Type  \\\n",
              "1                          2002         NaN               Tier 2   \n",
              "4                          1998         NaN               Tier 3   \n",
              "7                          2007         NaN               Tier 2   \n",
              "9                          2007         NaN               Tier 2   \n",
              "11                         2002         NaN               Tier 2   \n",
              "...                         ...         ...                  ...   \n",
              "8507                       2002         NaN               Tier 2   \n",
              "8512                       2007         NaN               Tier 2   \n",
              "8516                       2002         NaN               Tier 2   \n",
              "8519                       2007         NaN               Tier 2   \n",
              "8522                       2002         NaN               Tier 2   \n",
              "\n",
              "            Outlet_Type  Item_Outlet_Sales  \n",
              "1     Supermarket Type1          5976.2208  \n",
              "4         Grocery Store           498.0184  \n",
              "7     Supermarket Type1          5976.2208  \n",
              "9     Supermarket Type1          1478.0760  \n",
              "11    Supermarket Type1          1133.1916  \n",
              "...                 ...                ...  \n",
              "8507  Supermarket Type1          1657.8420  \n",
              "8512  Supermarket Type1           410.1328  \n",
              "8516  Supermarket Type1           247.0118  \n",
              "8519  Supermarket Type1          4402.9354  \n",
              "8522  Supermarket Type1          3644.5892  \n",
              "\n",
              "[2410 rows x 12 columns]"
            ],
            "text/html": [
              "\n",
              "  <div id=\"df-3ef7394a-68d2-4661-9969-ae1e3843db97\">\n",
              "    <div class=\"colab-df-container\">\n",
              "      <div>\n",
              "<style scoped>\n",
              "    .dataframe tbody tr th:only-of-type {\n",
              "        vertical-align: middle;\n",
              "    }\n",
              "\n",
              "    .dataframe tbody tr th {\n",
              "        vertical-align: top;\n",
              "    }\n",
              "\n",
              "    .dataframe thead th {\n",
              "        text-align: right;\n",
              "    }\n",
              "</style>\n",
              "<table border=\"1\" class=\"dataframe\">\n",
              "  <thead>\n",
              "    <tr style=\"text-align: right;\">\n",
              "      <th></th>\n",
              "      <th>Item_Identifier</th>\n",
              "      <th>Item_Weight</th>\n",
              "      <th>Item_Fat_Content</th>\n",
              "      <th>Item_Visibility</th>\n",
              "      <th>Item_Type</th>\n",
              "      <th>Item_MRP</th>\n",
              "      <th>Outlet_Identifier</th>\n",
              "      <th>Outlet_Establishment_Year</th>\n",
              "      <th>Outlet_Size</th>\n",
              "      <th>Outlet_Location_Type</th>\n",
              "      <th>Outlet_Type</th>\n",
              "      <th>Item_Outlet_Sales</th>\n",
              "    </tr>\n",
              "  </thead>\n",
              "  <tbody>\n",
              "    <tr>\n",
              "      <th>1</th>\n",
              "      <td>FDA15</td>\n",
              "      <td>9.300</td>\n",
              "      <td>Low Fat</td>\n",
              "      <td>0.016055</td>\n",
              "      <td>Dairy</td>\n",
              "      <td>250.2092</td>\n",
              "      <td>OUT045</td>\n",
              "      <td>2002</td>\n",
              "      <td>NaN</td>\n",
              "      <td>Tier 2</td>\n",
              "      <td>Supermarket Type1</td>\n",
              "      <td>5976.2208</td>\n",
              "    </tr>\n",
              "    <tr>\n",
              "      <th>4</th>\n",
              "      <td>FDA15</td>\n",
              "      <td>9.300</td>\n",
              "      <td>Low Fat</td>\n",
              "      <td>0.026818</td>\n",
              "      <td>Dairy</td>\n",
              "      <td>248.9092</td>\n",
              "      <td>OUT010</td>\n",
              "      <td>1998</td>\n",
              "      <td>NaN</td>\n",
              "      <td>Tier 3</td>\n",
              "      <td>Grocery Store</td>\n",
              "      <td>498.0184</td>\n",
              "    </tr>\n",
              "    <tr>\n",
              "      <th>7</th>\n",
              "      <td>FDA15</td>\n",
              "      <td>9.300</td>\n",
              "      <td>Low Fat</td>\n",
              "      <td>0.016113</td>\n",
              "      <td>Dairy</td>\n",
              "      <td>248.8092</td>\n",
              "      <td>OUT017</td>\n",
              "      <td>2007</td>\n",
              "      <td>NaN</td>\n",
              "      <td>Tier 2</td>\n",
              "      <td>Supermarket Type1</td>\n",
              "      <td>5976.2208</td>\n",
              "    </tr>\n",
              "    <tr>\n",
              "      <th>9</th>\n",
              "      <td>DRC01</td>\n",
              "      <td>5.920</td>\n",
              "      <td>Regular</td>\n",
              "      <td>0.019309</td>\n",
              "      <td>Soft Drinks</td>\n",
              "      <td>49.0692</td>\n",
              "      <td>OUT017</td>\n",
              "      <td>2007</td>\n",
              "      <td>NaN</td>\n",
              "      <td>Tier 2</td>\n",
              "      <td>Supermarket Type1</td>\n",
              "      <td>1478.0760</td>\n",
              "    </tr>\n",
              "    <tr>\n",
              "      <th>11</th>\n",
              "      <td>DRC01</td>\n",
              "      <td>5.920</td>\n",
              "      <td>Regular</td>\n",
              "      <td>0.019239</td>\n",
              "      <td>Soft Drinks</td>\n",
              "      <td>49.8692</td>\n",
              "      <td>OUT045</td>\n",
              "      <td>2002</td>\n",
              "      <td>NaN</td>\n",
              "      <td>Tier 2</td>\n",
              "      <td>Supermarket Type1</td>\n",
              "      <td>1133.1916</td>\n",
              "    </tr>\n",
              "    <tr>\n",
              "      <th>...</th>\n",
              "      <td>...</td>\n",
              "      <td>...</td>\n",
              "      <td>...</td>\n",
              "      <td>...</td>\n",
              "      <td>...</td>\n",
              "      <td>...</td>\n",
              "      <td>...</td>\n",
              "      <td>...</td>\n",
              "      <td>...</td>\n",
              "      <td>...</td>\n",
              "      <td>...</td>\n",
              "      <td>...</td>\n",
              "    </tr>\n",
              "    <tr>\n",
              "      <th>8507</th>\n",
              "      <td>NCU53</td>\n",
              "      <td>5.485</td>\n",
              "      <td>Low Fat</td>\n",
              "      <td>0.042839</td>\n",
              "      <td>Health and Hygiene</td>\n",
              "      <td>163.7842</td>\n",
              "      <td>OUT045</td>\n",
              "      <td>2002</td>\n",
              "      <td>NaN</td>\n",
              "      <td>Tier 2</td>\n",
              "      <td>Supermarket Type1</td>\n",
              "      <td>1657.8420</td>\n",
              "    </tr>\n",
              "    <tr>\n",
              "      <th>8512</th>\n",
              "      <td>FDD28</td>\n",
              "      <td>10.695</td>\n",
              "      <td>Low Fat</td>\n",
              "      <td>0.000000</td>\n",
              "      <td>Frozen Foods</td>\n",
              "      <td>60.5904</td>\n",
              "      <td>OUT017</td>\n",
              "      <td>2007</td>\n",
              "      <td>NaN</td>\n",
              "      <td>Tier 2</td>\n",
              "      <td>Supermarket Type1</td>\n",
              "      <td>410.1328</td>\n",
              "    </tr>\n",
              "    <tr>\n",
              "      <th>8516</th>\n",
              "      <td>NCF55</td>\n",
              "      <td>6.675</td>\n",
              "      <td>Low Fat</td>\n",
              "      <td>0.021710</td>\n",
              "      <td>Household</td>\n",
              "      <td>34.9874</td>\n",
              "      <td>OUT045</td>\n",
              "      <td>2002</td>\n",
              "      <td>NaN</td>\n",
              "      <td>Tier 2</td>\n",
              "      <td>Supermarket Type1</td>\n",
              "      <td>247.0118</td>\n",
              "    </tr>\n",
              "    <tr>\n",
              "      <th>8519</th>\n",
              "      <td>NCW30</td>\n",
              "      <td>5.210</td>\n",
              "      <td>Low Fat</td>\n",
              "      <td>0.011072</td>\n",
              "      <td>Household</td>\n",
              "      <td>257.8962</td>\n",
              "      <td>OUT017</td>\n",
              "      <td>2007</td>\n",
              "      <td>NaN</td>\n",
              "      <td>Tier 2</td>\n",
              "      <td>Supermarket Type1</td>\n",
              "      <td>4402.9354</td>\n",
              "    </tr>\n",
              "    <tr>\n",
              "      <th>8522</th>\n",
              "      <td>NCW05</td>\n",
              "      <td>20.250</td>\n",
              "      <td>Low Fat</td>\n",
              "      <td>0.148373</td>\n",
              "      <td>Health and Hygiene</td>\n",
              "      <td>108.8938</td>\n",
              "      <td>OUT045</td>\n",
              "      <td>2002</td>\n",
              "      <td>NaN</td>\n",
              "      <td>Tier 2</td>\n",
              "      <td>Supermarket Type1</td>\n",
              "      <td>3644.5892</td>\n",
              "    </tr>\n",
              "  </tbody>\n",
              "</table>\n",
              "<p>2410 rows × 12 columns</p>\n",
              "</div>\n",
              "      <button class=\"colab-df-convert\" onclick=\"convertToInteractive('df-3ef7394a-68d2-4661-9969-ae1e3843db97')\"\n",
              "              title=\"Convert this dataframe to an interactive table.\"\n",
              "              style=\"display:none;\">\n",
              "        \n",
              "  <svg xmlns=\"http://www.w3.org/2000/svg\" height=\"24px\"viewBox=\"0 0 24 24\"\n",
              "       width=\"24px\">\n",
              "    <path d=\"M0 0h24v24H0V0z\" fill=\"none\"/>\n",
              "    <path d=\"M18.56 5.44l.94 2.06.94-2.06 2.06-.94-2.06-.94-.94-2.06-.94 2.06-2.06.94zm-11 1L8.5 8.5l.94-2.06 2.06-.94-2.06-.94L8.5 2.5l-.94 2.06-2.06.94zm10 10l.94 2.06.94-2.06 2.06-.94-2.06-.94-.94-2.06-.94 2.06-2.06.94z\"/><path d=\"M17.41 7.96l-1.37-1.37c-.4-.4-.92-.59-1.43-.59-.52 0-1.04.2-1.43.59L10.3 9.45l-7.72 7.72c-.78.78-.78 2.05 0 2.83L4 21.41c.39.39.9.59 1.41.59.51 0 1.02-.2 1.41-.59l7.78-7.78 2.81-2.81c.8-.78.8-2.07 0-2.86zM5.41 20L4 18.59l7.72-7.72 1.47 1.35L5.41 20z\"/>\n",
              "  </svg>\n",
              "      </button>\n",
              "      \n",
              "  <style>\n",
              "    .colab-df-container {\n",
              "      display:flex;\n",
              "      flex-wrap:wrap;\n",
              "      gap: 12px;\n",
              "    }\n",
              "\n",
              "    .colab-df-convert {\n",
              "      background-color: #E8F0FE;\n",
              "      border: none;\n",
              "      border-radius: 50%;\n",
              "      cursor: pointer;\n",
              "      display: none;\n",
              "      fill: #1967D2;\n",
              "      height: 32px;\n",
              "      padding: 0 0 0 0;\n",
              "      width: 32px;\n",
              "    }\n",
              "\n",
              "    .colab-df-convert:hover {\n",
              "      background-color: #E2EBFA;\n",
              "      box-shadow: 0px 1px 2px rgba(60, 64, 67, 0.3), 0px 1px 3px 1px rgba(60, 64, 67, 0.15);\n",
              "      fill: #174EA6;\n",
              "    }\n",
              "\n",
              "    [theme=dark] .colab-df-convert {\n",
              "      background-color: #3B4455;\n",
              "      fill: #D2E3FC;\n",
              "    }\n",
              "\n",
              "    [theme=dark] .colab-df-convert:hover {\n",
              "      background-color: #434B5C;\n",
              "      box-shadow: 0px 1px 3px 1px rgba(0, 0, 0, 0.15);\n",
              "      filter: drop-shadow(0px 1px 2px rgba(0, 0, 0, 0.3));\n",
              "      fill: #FFFFFF;\n",
              "    }\n",
              "  </style>\n",
              "\n",
              "      <script>\n",
              "        const buttonEl =\n",
              "          document.querySelector('#df-3ef7394a-68d2-4661-9969-ae1e3843db97 button.colab-df-convert');\n",
              "        buttonEl.style.display =\n",
              "          google.colab.kernel.accessAllowed ? 'block' : 'none';\n",
              "\n",
              "        async function convertToInteractive(key) {\n",
              "          const element = document.querySelector('#df-3ef7394a-68d2-4661-9969-ae1e3843db97');\n",
              "          const dataTable =\n",
              "            await google.colab.kernel.invokeFunction('convertToInteractive',\n",
              "                                                     [key], {});\n",
              "          if (!dataTable) return;\n",
              "\n",
              "          const docLinkHtml = 'Like what you see? Visit the ' +\n",
              "            '<a target=\"_blank\" href=https://colab.research.google.com/notebooks/data_table.ipynb>data table notebook</a>'\n",
              "            + ' to learn more about interactive tables.';\n",
              "          element.innerHTML = '';\n",
              "          dataTable['output_type'] = 'display_data';\n",
              "          await google.colab.output.renderOutput(dataTable, element);\n",
              "          const docLink = document.createElement('div');\n",
              "          docLink.innerHTML = docLinkHtml;\n",
              "          element.appendChild(docLink);\n",
              "        }\n",
              "      </script>\n",
              "    </div>\n",
              "  </div>\n",
              "  "
            ]
          },
          "metadata": {},
          "execution_count": 705
        }
      ]
    },
    {
      "cell_type": "code",
      "source": [
        "# Asignar categoría auxiliar 'Asignar' a valores nulos para mostrarlos en tabla\n",
        "df['Outlet_Size'].fillna('Asignar', inplace=True)\n",
        "round(df.groupby(['Outlet_Location_Type','Outlet_Type','Outlet_Size'])['Outlet_Size'].count(),0)"
      ],
      "metadata": {
        "colab": {
          "base_uri": "https://localhost:8080/"
        },
        "id": "JsQXHS2VXHY0",
        "outputId": "5bf8167e-aeab-424d-fba3-2d63aaa033cb"
      },
      "execution_count": 706,
      "outputs": [
        {
          "output_type": "stream",
          "name": "stderr",
          "text": [
            "/usr/local/lib/python3.7/dist-packages/pandas/core/generic.py:6392: SettingWithCopyWarning: \n",
            "A value is trying to be set on a copy of a slice from a DataFrame\n",
            "\n",
            "See the caveats in the documentation: https://pandas.pydata.org/pandas-docs/stable/user_guide/indexing.html#returning-a-view-versus-a-copy\n",
            "  return self._update_inplace(result)\n"
          ]
        },
        {
          "output_type": "execute_result",
          "data": {
            "text/plain": [
              "Outlet_Location_Type  Outlet_Type        Outlet_Size\n",
              "Tier 1                Grocery Store      Small           527\n",
              "                      Supermarket Type1  Medium          930\n",
              "                                         Small           930\n",
              "Tier 2                Supermarket Type1  Asignar        1855\n",
              "                                         Small           930\n",
              "Tier 3                Grocery Store      Asignar         555\n",
              "                      Supermarket Type1  High            932\n",
              "                      Supermarket Type2  Medium          928\n",
              "                      Supermarket Type3  Medium          932\n",
              "Name: Outlet_Size, dtype: int64"
            ]
          },
          "metadata": {},
          "execution_count": 706
        }
      ]
    },
    {
      "cell_type": "code",
      "source": [
        "# Del agrupamiento realizado se deduce que:\n",
        "# Se aplicarán las siguientes reglas para asignar valor a la clase de 'Outlet_Size' con valores nulos\n",
        "# Tier 2 +  Supermarket Type1 -> Small\n",
        "# Tier 3 + Grocery Store -> se homologa a Tier 1 + Grocery Store -> Small\n",
        "df.loc[(df['Outlet_Location_Type']=='Tier 2')&(df['Outlet_Type']=='Supermarket Type1')&(df['Outlet_Size']=='Asignar'),'Outlet_Size']='Small'\n",
        "df.loc[(df['Outlet_Location_Type']=='Tier 3')&(df['Outlet_Type']=='Grocery Store')&(df['Outlet_Size']=='Asignar'),'Outlet_Size']='Small'"
      ],
      "metadata": {
        "id": "vGpLEt0QI1_s",
        "colab": {
          "base_uri": "https://localhost:8080/"
        },
        "outputId": "a0639a95-f21f-4320-c9da-d204ea5dcff7"
      },
      "execution_count": 707,
      "outputs": [
        {
          "output_type": "stream",
          "name": "stderr",
          "text": [
            "/usr/local/lib/python3.7/dist-packages/pandas/core/indexing.py:1817: SettingWithCopyWarning: \n",
            "A value is trying to be set on a copy of a slice from a DataFrame.\n",
            "Try using .loc[row_indexer,col_indexer] = value instead\n",
            "\n",
            "See the caveats in the documentation: https://pandas.pydata.org/pandas-docs/stable/user_guide/indexing.html#returning-a-view-versus-a-copy\n",
            "  self._setitem_single_column(loc, value, pi)\n"
          ]
        }
      ]
    },
    {
      "cell_type": "code",
      "source": [
        "# Verificar asignación de clase\n",
        "round(df.groupby(['Outlet_Location_Type','Outlet_Type','Outlet_Size'])['Outlet_Size'].count(),0)"
      ],
      "metadata": {
        "colab": {
          "base_uri": "https://localhost:8080/"
        },
        "id": "zY8L2gN6LEBK",
        "outputId": "ad61b9a0-5874-4061-c0a6-3e5cbbc61e0c"
      },
      "execution_count": 708,
      "outputs": [
        {
          "output_type": "execute_result",
          "data": {
            "text/plain": [
              "Outlet_Location_Type  Outlet_Type        Outlet_Size\n",
              "Tier 1                Grocery Store      Small           527\n",
              "                      Supermarket Type1  Medium          930\n",
              "                                         Small           930\n",
              "Tier 2                Supermarket Type1  Small          2785\n",
              "Tier 3                Grocery Store      Small           555\n",
              "                      Supermarket Type1  High            932\n",
              "                      Supermarket Type2  Medium          928\n",
              "                      Supermarket Type3  Medium          932\n",
              "Name: Outlet_Size, dtype: int64"
            ]
          },
          "metadata": {},
          "execution_count": 708
        }
      ]
    },
    {
      "cell_type": "code",
      "source": [
        "# Verificar cuenta de valores nulos en df\n",
        "# No quedan valores nulos en df\n",
        "df.isna().sum()"
      ],
      "metadata": {
        "colab": {
          "base_uri": "https://localhost:8080/"
        },
        "id": "PFon1pNDKgpk",
        "outputId": "0618e07d-ca0a-4dfb-f341-0b7a86e32f4b"
      },
      "execution_count": 709,
      "outputs": [
        {
          "output_type": "execute_result",
          "data": {
            "text/plain": [
              "Item_Identifier              0\n",
              "Item_Weight                  0\n",
              "Item_Fat_Content             0\n",
              "Item_Visibility              0\n",
              "Item_Type                    0\n",
              "Item_MRP                     0\n",
              "Outlet_Identifier            0\n",
              "Outlet_Establishment_Year    0\n",
              "Outlet_Size                  0\n",
              "Outlet_Location_Type         0\n",
              "Outlet_Type                  0\n",
              "Item_Outlet_Sales            0\n",
              "dtype: int64"
            ]
          },
          "metadata": {},
          "execution_count": 709
        }
      ]
    },
    {
      "cell_type": "markdown",
      "source": [
        "# 1.4. Revisar y tratar valores incosistentes\n",
        "Se incluye una breve descripción del tratamiento: método y justificación."
      ],
      "metadata": {
        "id": "bzzSniEuig-N"
      }
    },
    {
      "cell_type": "code",
      "source": [
        "# 1.4.1. Revisar valores inconsistente de datos 'Item_Fat_Content'\n",
        "# Se realizó en paso anterior para utilizarlo como input en proceso de limpieza de nulos en columna 'Item_Weight'\n",
        "# revisar 1.3.2."
      ],
      "metadata": {
        "id": "rc9lE96eg1qh"
      },
      "execution_count": 710,
      "outputs": []
    },
    {
      "cell_type": "code",
      "source": [
        "# 1.4.2. Revisar valores inconsistente de datos 'Item_Visibility'\n",
        "\n",
        "# Diagnóstico: existencia de valores inconsistentes en categorías, 0%\n",
        "# Tratamiento: los valores inconsistentes (0%) serán reemplazados con NaN y luego serán imputados con SimpleImputer con la media,\n",
        "# de esta manera serán preparados para el modelo de machine learning\n",
        "\n",
        "round(df['Item_Visibility'].describe()*100,4)"
      ],
      "metadata": {
        "colab": {
          "base_uri": "https://localhost:8080/"
        },
        "id": "7Fnvt7Yr0bap",
        "outputId": "1809a798-62b7-4336-cd40-edec2b14094b"
      },
      "execution_count": 711,
      "outputs": [
        {
          "output_type": "execute_result",
          "data": {
            "text/plain": [
              "count    851900.0000\n",
              "mean          6.6112\n",
              "std           5.1586\n",
              "min           0.0000\n",
              "25%           2.6983\n",
              "50%           5.3925\n",
              "75%           9.4558\n",
              "max          32.8391\n",
              "Name: Item_Visibility, dtype: float64"
            ]
          },
          "metadata": {},
          "execution_count": 711
        }
      ]
    },
    {
      "cell_type": "code",
      "source": [
        "# Reemplazo de valores '0%' en NaN\n",
        "# Más abajo serán imputados con la media de la columna\n",
        "df['Item_Visibility'] = df['Item_Visibility'].replace(0,np.nan)\n",
        "df.info()\n"
      ],
      "metadata": {
        "colab": {
          "base_uri": "https://localhost:8080/"
        },
        "id": "3VMO0VdLwYv-",
        "outputId": "89024560-35e1-4b0f-a345-d94ea8cfdb4c"
      },
      "execution_count": 712,
      "outputs": [
        {
          "output_type": "stream",
          "name": "stdout",
          "text": [
            "<class 'pandas.core.frame.DataFrame'>\n",
            "Int64Index: 8519 entries, 0 to 8522\n",
            "Data columns (total 12 columns):\n",
            " #   Column                     Non-Null Count  Dtype  \n",
            "---  ------                     --------------  -----  \n",
            " 0   Item_Identifier            8519 non-null   object \n",
            " 1   Item_Weight                8519 non-null   float64\n",
            " 2   Item_Fat_Content           8519 non-null   object \n",
            " 3   Item_Visibility            7993 non-null   float64\n",
            " 4   Item_Type                  8519 non-null   object \n",
            " 5   Item_MRP                   8519 non-null   float64\n",
            " 6   Outlet_Identifier          8519 non-null   object \n",
            " 7   Outlet_Establishment_Year  8519 non-null   int64  \n",
            " 8   Outlet_Size                8519 non-null   object \n",
            " 9   Outlet_Location_Type       8519 non-null   object \n",
            " 10  Outlet_Type                8519 non-null   object \n",
            " 11  Item_Outlet_Sales          8519 non-null   float64\n",
            "dtypes: float64(4), int64(1), object(7)\n",
            "memory usage: 865.2+ KB\n"
          ]
        },
        {
          "output_type": "stream",
          "name": "stderr",
          "text": [
            "/usr/local/lib/python3.7/dist-packages/ipykernel_launcher.py:3: SettingWithCopyWarning: \n",
            "A value is trying to be set on a copy of a slice from a DataFrame.\n",
            "Try using .loc[row_indexer,col_indexer] = value instead\n",
            "\n",
            "See the caveats in the documentation: https://pandas.pydata.org/pandas-docs/stable/user_guide/indexing.html#returning-a-view-versus-a-copy\n",
            "  This is separate from the ipykernel package so we can avoid doing imports until\n"
          ]
        }
      ]
    },
    {
      "cell_type": "code",
      "source": [
        "# 1.4.3. Revisar valores inconsistente de datos 'Item_Type'\n",
        "# No se aprecian inconsistencias en las clases\n",
        "print('cantidad de valores no nulos:',df['Item_Type'].value_counts().sum())\n",
        "df['Item_Type'].value_counts()"
      ],
      "metadata": {
        "colab": {
          "base_uri": "https://localhost:8080/"
        },
        "id": "oIWQzqNp0R8Z",
        "outputId": "0ea377cc-db36-4b36-f9f6-90b7fc8005a6"
      },
      "execution_count": 713,
      "outputs": [
        {
          "output_type": "stream",
          "name": "stdout",
          "text": [
            "cantidad de valores no nulos: 8519\n"
          ]
        },
        {
          "output_type": "execute_result",
          "data": {
            "text/plain": [
              "Fruits and Vegetables    1232\n",
              "Snack Foods              1199\n",
              "Household                 910\n",
              "Frozen Foods              855\n",
              "Dairy                     681\n",
              "Canned                    649\n",
              "Baking Goods              647\n",
              "Health and Hygiene        520\n",
              "Soft Drinks               445\n",
              "Meat                      425\n",
              "Breads                    251\n",
              "Hard Drinks               214\n",
              "Others                    169\n",
              "Starchy Foods             148\n",
              "Breakfast                 110\n",
              "Seafood                    64\n",
              "Name: Item_Type, dtype: int64"
            ]
          },
          "metadata": {},
          "execution_count": 713
        }
      ]
    },
    {
      "cell_type": "code",
      "source": [
        "# 1.4.4. Revisar valores inconsistente de datos 'Item_MRP'\n",
        "# No se aprecian inconsistencias en los valores (por ejemplo, negativos o ceros)\n",
        "df['Item_MRP'].describe()"
      ],
      "metadata": {
        "colab": {
          "base_uri": "https://localhost:8080/"
        },
        "id": "nDaEfRnS1C3q",
        "outputId": "ee8752e0-6da0-4e71-ed6a-faf9b94a9175"
      },
      "execution_count": 714,
      "outputs": [
        {
          "output_type": "execute_result",
          "data": {
            "text/plain": [
              "count    8519.000000\n",
              "mean      141.010019\n",
              "std        62.283594\n",
              "min        31.290000\n",
              "25%        93.844900\n",
              "50%       143.047000\n",
              "75%       185.676600\n",
              "max       266.888400\n",
              "Name: Item_MRP, dtype: float64"
            ]
          },
          "metadata": {},
          "execution_count": 714
        }
      ]
    },
    {
      "cell_type": "code",
      "source": [
        "# 1.4.5. Revisar valores inconsistente de datos 'Outlet_Identifier'\n",
        "# No se aprecian inconsistencias en las clases\n",
        "df['Outlet_Identifier'].value_counts()"
      ],
      "metadata": {
        "colab": {
          "base_uri": "https://localhost:8080/"
        },
        "id": "pjTj30Qd1dQS",
        "outputId": "ef3df718-85a4-4c92-b9c4-f2a015d67dfd"
      },
      "execution_count": 715,
      "outputs": [
        {
          "output_type": "execute_result",
          "data": {
            "text/plain": [
              "OUT013    932\n",
              "OUT027    932\n",
              "OUT049    930\n",
              "OUT035    930\n",
              "OUT046    930\n",
              "OUT045    929\n",
              "OUT018    928\n",
              "OUT017    926\n",
              "OUT010    555\n",
              "OUT019    527\n",
              "Name: Outlet_Identifier, dtype: int64"
            ]
          },
          "metadata": {},
          "execution_count": 715
        }
      ]
    },
    {
      "cell_type": "code",
      "source": [
        "# 1.4.6. Revisar valores inconsistente de datos 'Outlet_Identifier'\n",
        "# No se aprecian inconsistencias en los valores\n",
        "df['Outlet_Establishment_Year'].value_counts()"
      ],
      "metadata": {
        "colab": {
          "base_uri": "https://localhost:8080/"
        },
        "id": "iWqfEMpm1oK2",
        "outputId": "a8ae7a28-4eea-47d6-de88-ad82cb369fc7"
      },
      "execution_count": 716,
      "outputs": [
        {
          "output_type": "execute_result",
          "data": {
            "text/plain": [
              "1985    1459\n",
              "1987     932\n",
              "1999     930\n",
              "2004     930\n",
              "1997     930\n",
              "2002     929\n",
              "2009     928\n",
              "2007     926\n",
              "1998     555\n",
              "Name: Outlet_Establishment_Year, dtype: int64"
            ]
          },
          "metadata": {},
          "execution_count": 716
        }
      ]
    },
    {
      "cell_type": "code",
      "source": [
        "# 1.4.7. Revisar valores inconsistente de datos 'Outlet_Size'\n",
        "# No se aprecian inconsistencias en las clases\n",
        "df['Outlet_Size'].value_counts()"
      ],
      "metadata": {
        "colab": {
          "base_uri": "https://localhost:8080/"
        },
        "id": "RA8D6HQV10rZ",
        "outputId": "3995847b-77e0-46de-c7a5-546904be5832"
      },
      "execution_count": 717,
      "outputs": [
        {
          "output_type": "execute_result",
          "data": {
            "text/plain": [
              "Small     4797\n",
              "Medium    2790\n",
              "High       932\n",
              "Name: Outlet_Size, dtype: int64"
            ]
          },
          "metadata": {},
          "execution_count": 717
        }
      ]
    },
    {
      "cell_type": "code",
      "source": [
        "# 1.4.8. Revisar valores inconsistente de datos 'Outlet_Location_Type'\n",
        "# No se aprecian inconsistencias en las clases\n",
        "df['Outlet_Location_Type'].value_counts()"
      ],
      "metadata": {
        "colab": {
          "base_uri": "https://localhost:8080/"
        },
        "id": "8fn-631S1_01",
        "outputId": "923fb0b1-141b-4ee3-82e6-29f6a560acae"
      },
      "execution_count": 718,
      "outputs": [
        {
          "output_type": "execute_result",
          "data": {
            "text/plain": [
              "Tier 3    3347\n",
              "Tier 2    2785\n",
              "Tier 1    2387\n",
              "Name: Outlet_Location_Type, dtype: int64"
            ]
          },
          "metadata": {},
          "execution_count": 718
        }
      ]
    },
    {
      "cell_type": "code",
      "source": [
        "# 1.4.9. Revisar valores inconsistente de datos 'Outlet_Type'\n",
        "# No se aprecian inconsistencias en las clases\n",
        "df['Outlet_Type'].value_counts()"
      ],
      "metadata": {
        "colab": {
          "base_uri": "https://localhost:8080/"
        },
        "id": "rLmztusF2P1m",
        "outputId": "c9e42f87-23de-44c2-f6d8-3fc3f918303f"
      },
      "execution_count": 719,
      "outputs": [
        {
          "output_type": "execute_result",
          "data": {
            "text/plain": [
              "Supermarket Type1    5577\n",
              "Grocery Store        1082\n",
              "Supermarket Type3     932\n",
              "Supermarket Type2     928\n",
              "Name: Outlet_Type, dtype: int64"
            ]
          },
          "metadata": {},
          "execution_count": 719
        }
      ]
    },
    {
      "cell_type": "code",
      "source": [
        "# 1.4.10. Revisar valores inconsistente de datos 'Item_Outlet_Sales'\n",
        "# No se aprecian inconsistencias en los valores\n",
        "df['Item_Outlet_Sales'].describe()"
      ],
      "metadata": {
        "colab": {
          "base_uri": "https://localhost:8080/"
        },
        "id": "5RQred-Z2X9F",
        "outputId": "5c24b5d4-5229-4925-a155-1cc0641e6183"
      },
      "execution_count": 720,
      "outputs": [
        {
          "output_type": "execute_result",
          "data": {
            "text/plain": [
              "count     8519.000000\n",
              "mean      2181.188779\n",
              "std       1706.511093\n",
              "min         33.290000\n",
              "25%        834.247400\n",
              "50%       1794.331000\n",
              "75%       3100.630600\n",
              "max      13086.964800\n",
              "Name: Item_Outlet_Sales, dtype: float64"
            ]
          },
          "metadata": {},
          "execution_count": 720
        }
      ]
    },
    {
      "cell_type": "markdown",
      "source": [
        "# **2. Exploración de datos**"
      ],
      "metadata": {
        "id": "qMrfGr7H_TWW"
      }
    },
    {
      "cell_type": "markdown",
      "source": [
        "# 2.1. Histogramas de frecuencia"
      ],
      "metadata": {
        "id": "xadOTTlM_fQA"
      }
    },
    {
      "cell_type": "code",
      "source": [
        "# 2.1.1. Cantidad de productos según contenido de grasas (N=8523)\n",
        "# Una parte significativa de los productos (>60%) tiene clasificación Low Fat en su contenido de grasa\n",
        "\n",
        "# Datos y etiquetas\n",
        "# Nota_ modificar y cambiar los valores, están invertidos\n",
        "data=np.array((df['Item_Fat_Content'][df['Item_Fat_Content']=='Low Fat'].value_counts()[0],df['Item_Fat_Content'][df['Item_Fat_Content']=='Regular'].value_counts()[0]))\n",
        "print(\"Cantidad total de productos:\",data.sum())\n",
        "print(\"Cantidad de productos Low Fat:\",data[1])\n",
        "print(\"Cantidad de productos Regular:\",data[0])\n",
        "data=np.round(data/data.sum(),4)*100\n",
        "label=['Low Fat','Regular']\n",
        "explotar = [.2, 0]\n",
        "\n",
        "# Parametrización del gráfico\n",
        "fig1 = plt.figure(dpi=150)\n",
        "ax1 = fig1.add_subplot(1,1,1) \n",
        "ax1.pie(data, labels=label, explode=explotar,  autopct='%.2f%%', shadow = False, startangle=90)    #Formato de la torta sombra/inicio de las porciones, autopct=absolute_value\n",
        "ax1.axis(\"equal\") #asegura proporcion igualitaria, vale decir, suma de porcentajes 100% (círculo)\n",
        "ax1.set_title(\"Porcentaje de productos según contenido de grasa (N=8523)\")\n",
        "plt.show()"
      ],
      "metadata": {
        "colab": {
          "base_uri": "https://localhost:8080/",
          "height": 585
        },
        "id": "-UM8UVtgCrFz",
        "outputId": "0557fd02-6034-4db9-efdb-7a23d5f805e8"
      },
      "execution_count": 721,
      "outputs": [
        {
          "output_type": "stream",
          "name": "stdout",
          "text": [
            "Cantidad total de productos: 8519\n",
            "Cantidad de productos Low Fat: 3003\n",
            "Cantidad de productos Regular: 5516\n"
          ]
        },
        {
          "output_type": "display_data",
          "data": {
            "text/plain": [
              "<Figure size 900x600 with 1 Axes>"
            ],
            "image/png": "[encoded data removed]"
          },
          "metadata": {}
        }
      ]
    },
    {
      "cell_type": "code",
      "source": [
        "# 2.1.2. Ventas de productos según categoría de contenido de grasas (N=8523)\n",
        "# Una parte significativa de los productos vendidos (64.03%) tiene clasificación Low Fat en su contenido de grasa\n",
        "\n",
        "# Gráfico de torta de \"Participación de ventas de productos según categoría (%) (N=8523)\"\n",
        "print(\"Venta total de productos:\", round(df['Item_Outlet_Sales'].sum(),0),\"USD\")\n",
        "df.groupby(['Item_Fat_Content'])['Item_Outlet_Sales'].sum().sort_values(ascending=False).plot(kind='pie',\n",
        "                                                                                       title=\"Participación de ventas de productos según categoría de contenido de grasas (%) (Venta total=18,59 M USD)\",\n",
        "                                                                                       xlabel='Ventas de productos',\n",
        "                                                                                       autopct='%0.2f%%',\n",
        "                                                                                       figsize=(5,5),\n",
        "                                                                                       fontsize=16,\n",
        "                                                                                       subplots=False)\n",
        "plt.show()"
      ],
      "metadata": {
        "colab": {
          "base_uri": "https://localhost:8080/",
          "height": 336
        },
        "id": "laUQXjrXWq9n",
        "outputId": "c4c3804a-e189-472d-d811-45f72c03ef7f"
      },
      "execution_count": 722,
      "outputs": [
        {
          "output_type": "stream",
          "name": "stdout",
          "text": [
            "Venta total de productos: 18581547.0 USD\n"
          ]
        },
        {
          "output_type": "display_data",
          "data": {
            "text/plain": [
              "<Figure size 360x360 with 1 Axes>"
            ],
            "image/png": "[encoded data removed]"
          },
          "metadata": {}
        }
      ]
    },
    {
      "cell_type": "code",
      "source": [
        "# 2.1.3. Cantidad de productos según categoría de producto (N=8523)\n",
        "# El 83% de los productos se encuentran en nueve categorías de productos (en total 16), siendo las más relevantes:\n",
        "# Fruits and Vegetables (14.46%), Snack Foods (14.08%), Household (10.68%), Frozen Foods (10.04%), Dairy (8.00%)\n",
        "# Canned (7.61%), Baking Goods (7.60%), Health and Hygiene (6.10%), Soft Drinks (5.22%), Otras categorías (17.00%)\n",
        "\n",
        "# Porcentaje de participación de productos por categoría\n",
        "round(df['Item_Type'].value_counts()/df['Item_Type'].value_counts().sum()*100,2)"
      ],
      "metadata": {
        "colab": {
          "base_uri": "https://localhost:8080/"
        },
        "id": "3KTtLtMxBtkr",
        "outputId": "6d0c0d56-2535-4a0b-cd32-cf9baa8869c0"
      },
      "execution_count": 723,
      "outputs": [
        {
          "output_type": "execute_result",
          "data": {
            "text/plain": [
              "Fruits and Vegetables    14.46\n",
              "Snack Foods              14.07\n",
              "Household                10.68\n",
              "Frozen Foods             10.04\n",
              "Dairy                     7.99\n",
              "Canned                    7.62\n",
              "Baking Goods              7.59\n",
              "Health and Hygiene        6.10\n",
              "Soft Drinks               5.22\n",
              "Meat                      4.99\n",
              "Breads                    2.95\n",
              "Hard Drinks               2.51\n",
              "Others                    1.98\n",
              "Starchy Foods             1.74\n",
              "Breakfast                 1.29\n",
              "Seafood                   0.75\n",
              "Name: Item_Type, dtype: float64"
            ]
          },
          "metadata": {},
          "execution_count": 723
        }
      ]
    },
    {
      "cell_type": "code",
      "source": [
        "# Porcentaje acumulado de participación de productos por 'Item_Type'\n",
        "# 80/20\n",
        "round(df['Item_Type'].value_counts().cumsum()/df['Item_Type'].value_counts().sum()*100,2)"
      ],
      "metadata": {
        "colab": {
          "base_uri": "https://localhost:8080/"
        },
        "id": "LMUFfNKICtAF",
        "outputId": "94d8549e-6d21-434c-ae04-bc408b73bd49"
      },
      "execution_count": 724,
      "outputs": [
        {
          "output_type": "execute_result",
          "data": {
            "text/plain": [
              "Fruits and Vegetables     14.46\n",
              "Snack Foods               28.54\n",
              "Household                 39.22\n",
              "Frozen Foods              49.25\n",
              "Dairy                     57.25\n",
              "Canned                    64.87\n",
              "Baking Goods              72.46\n",
              "Health and Hygiene        78.57\n",
              "Soft Drinks               83.79\n",
              "Meat                      88.78\n",
              "Breads                    91.72\n",
              "Hard Drinks               94.24\n",
              "Others                    96.22\n",
              "Starchy Foods             97.96\n",
              "Breakfast                 99.25\n",
              "Seafood                  100.00\n",
              "Name: Item_Type, dtype: float64"
            ]
          },
          "metadata": {},
          "execution_count": 724
        }
      ]
    },
    {
      "cell_type": "code",
      "source": [
        "# Gráfico de torta de Participación de productos según categoría (%) (N=8523):\n",
        "df['Item_Type'].value_counts().plot(kind='pie',\n",
        "                                    title=\"Participación de productos según categoría (%) (N=8523)\",\n",
        "                                    autopct='%0.2f%%',\n",
        "                                    figsize=(10,10))\n",
        "plt.show()"
      ],
      "metadata": {
        "colab": {
          "base_uri": "https://localhost:8080/",
          "height": 591
        },
        "id": "fBH-xY1_1k0K",
        "outputId": "6c1a6c41-46d1-4f7c-a185-e0e1d2f7e83f"
      },
      "execution_count": 725,
      "outputs": [
        {
          "output_type": "display_data",
          "data": {
            "text/plain": [
              "<Figure size 720x720 with 1 Axes>"
            ],
            "image/png": "[encoded data removed]"
          },
          "metadata": {}
        }
      ]
    },
    {
      "cell_type": "code",
      "source": [
        "# 2.1.4. Ventas de productos según categoría de producto (N=8523)\n",
        "# El 84% de las ventas de productos se encuentran en nueve categorías de productos (de un total 16), siendo las más relevantes:\n",
        "# Fruits and Vegetables (15.17%), Snack Foods (14.70%), Household (11.06%), Frozen Foods (9.82%), Dairy (8.19%)\n",
        "# Canned (7.77%), Baking Goods (6.81%), Health and Hygiene (5.62%), Meat (4.94%), Otras categorías (16.00%)\n",
        "\n",
        "# Porcentaje de ventas de productos según categoría\n",
        "round(df.groupby(['Item_Type'])['Item_Outlet_Sales'].sum().sort_values(ascending=False)/df['Item_Outlet_Sales'].sum()*100,2)"
      ],
      "metadata": {
        "colab": {
          "base_uri": "https://localhost:8080/"
        },
        "id": "uFnoM4noTx7P",
        "outputId": "e4b929aa-2e9e-492e-e749-583079cd1d42"
      },
      "execution_count": 726,
      "outputs": [
        {
          "output_type": "execute_result",
          "data": {
            "text/plain": [
              "Item_Type\n",
              "Fruits and Vegetables    15.18\n",
              "Snack Foods              14.68\n",
              "Household                11.06\n",
              "Frozen Foods              9.82\n",
              "Dairy                     8.18\n",
              "Canned                    7.77\n",
              "Baking Goods              6.81\n",
              "Health and Hygiene        5.62\n",
              "Meat                      4.94\n",
              "Soft Drinks               4.81\n",
              "Breads                    2.98\n",
              "Hard Drinks               2.46\n",
              "Starchy Foods             1.89\n",
              "Others                    1.75\n",
              "Breakfast                 1.25\n",
              "Seafood                   0.80\n",
              "Name: Item_Outlet_Sales, dtype: float64"
            ]
          },
          "metadata": {},
          "execution_count": 726
        }
      ]
    },
    {
      "cell_type": "code",
      "source": [
        "# Porcentaje de ventas de productos acumulado según categoría\n",
        "round(df.groupby(['Item_Type'])['Item_Outlet_Sales'].sum().sort_values(ascending=False).cumsum()/df['Item_Outlet_Sales'].sum()*100,2)"
      ],
      "metadata": {
        "colab": {
          "base_uri": "https://localhost:8080/"
        },
        "id": "1KuYaWoGVE80",
        "outputId": "e6a681c6-ce17-4d3c-8a32-539d96965046"
      },
      "execution_count": 727,
      "outputs": [
        {
          "output_type": "execute_result",
          "data": {
            "text/plain": [
              "Item_Type\n",
              "Fruits and Vegetables     15.18\n",
              "Snack Foods               29.86\n",
              "Household                 40.92\n",
              "Frozen Foods              50.74\n",
              "Dairy                     58.91\n",
              "Canned                    66.69\n",
              "Baking Goods              73.50\n",
              "Health and Hygiene        79.12\n",
              "Meat                      84.06\n",
              "Soft Drinks               88.86\n",
              "Breads                    91.84\n",
              "Hard Drinks               94.31\n",
              "Starchy Foods             96.20\n",
              "Others                    97.95\n",
              "Breakfast                 99.20\n",
              "Seafood                  100.00\n",
              "Name: Item_Outlet_Sales, dtype: float64"
            ]
          },
          "metadata": {},
          "execution_count": 727
        }
      ]
    },
    {
      "cell_type": "code",
      "source": [
        "# Gráfico de torta de \"Participación de ventas de productos según categoría (%) (N=8523)\"\n",
        "df.groupby(['Item_Type'])['Item_Outlet_Sales'].sum().sort_values(ascending=False).plot(kind='pie',\n",
        "                                                                                       title=\"Participación de ventas de productos según categoría (%) (Venta total=18,59 M USD)\",\n",
        "                                                                                       autopct='%0.2f%%',\n",
        "                                                                                       figsize=(10,10),\n",
        "                                                                                       subplots=False)\n",
        "plt.show()"
      ],
      "metadata": {
        "colab": {
          "base_uri": "https://localhost:8080/",
          "height": 591
        },
        "id": "dsDtqNH5SZEO",
        "outputId": "dce56304-9eb8-4bce-d3c2-e59c39d5c35a"
      },
      "execution_count": 728,
      "outputs": [
        {
          "output_type": "display_data",
          "data": {
            "text/plain": [
              "<Figure size 720x720 with 1 Axes>"
            ],
            "image/png": "[encoded data removed]"
          },
          "metadata": {}
        }
      ]
    },
    {
      "cell_type": "code",
      "source": [
        "# 2.1.5. Boxplot de Precio máximo de venta al público (USD/producto) según categoría de producto\n",
        "# Dado que los boxplot se solapan en todas las categorías de productos se puede concluir que:\n",
        "# No existen diferencias estadísticamente significativa entre las medianas de los precios máximos de los productos y las categorías de producto.\n",
        "# Presencia de valores atípicos sobre el (P75 + 1.5*RIQ) en categoría 'Health and Hygiene'\n",
        "df.boxplot(column=['Item_MRP'],\n",
        "                   by='Item_Type',\n",
        "                   vert=False,\n",
        "                   notch=True,\n",
        "                   showmeans=True,\n",
        "                   figsize=(10,10))\n",
        "plt.title('Precio máximo de venta al público (USD/producto) según categoría de producto',fontsize=16);\n",
        "plt.suptitle('');\n",
        "plt.xlabel('Precio máximo de venta al público (USD/producto)', fontsize = 16);\n",
        "plt.ylabel('Categoría de producto', fontsize = 20);\n",
        "plt.xticks(fontsize = 16);\n",
        "plt.yticks(fontsize = 16);\n",
        "\n",
        "plt.show()"
      ],
      "metadata": {
        "colab": {
          "base_uri": "https://localhost:8080/",
          "height": 687
        },
        "id": "MAs308MgcSzL",
        "outputId": "c5274b5a-b952-4262-ca1d-d3492eddf7d0"
      },
      "execution_count": 729,
      "outputs": [
        {
          "output_type": "stream",
          "name": "stderr",
          "text": [
            "/usr/local/lib/python3.7/dist-packages/matplotlib/cbook/__init__.py:1376: VisibleDeprecationWarning: Creating an ndarray from ragged nested sequences (which is a list-or-tuple of lists-or-tuples-or ndarrays with different lengths or shapes) is deprecated. If you meant to do this, you must specify 'dtype=object' when creating the ndarray.\n",
            "  X = np.atleast_1d(X.T if isinstance(X, np.ndarray) else np.asarray(X))\n"
          ]
        },
        {
          "output_type": "display_data",
          "data": {
            "text/plain": [
              "<Figure size 720x720 with 1 Axes>"
            ],
            "image/png": "[encoded data removed]"
          },
          "metadata": {
            "needs_background": "light"
          }
        }
      ]
    },
    {
      "cell_type": "code",
      "source": [
        "# 2.1.6. Boxplot de Precio máximo de venta al público (USD/producto) según Año en que se estableció la tienda\n",
        "# Dado que los boxplot se solapan en todas los años en que se establecieron las tiendas se puede concluir que:\n",
        "# No existen diferencias estadísticamente significativa entre las medianas de los precios máximos de los productos y los años de establecimiento de las tiendas.\n",
        "# Ausencia de valores atípicos\n",
        "\n",
        "df.boxplot(column=['Item_MRP'],\n",
        "                   by='Outlet_Establishment_Year',\n",
        "                   vert=False,\n",
        "                   notch=True,\n",
        "                   showmeans=True,\n",
        "                   figsize=(10,10))\n",
        "plt.title('Precio máximo de venta al público (USD/producto) según año de establecimiento de la tienda',fontsize=16);\n",
        "plt.suptitle('');\n",
        "plt.xlabel('Precio máximo de venta al público (USD/producto)', fontsize = 16);\n",
        "plt.ylabel('Año de establecimiento de la tienda', fontsize = 20);\n",
        "plt.xticks(fontsize = 16);\n",
        "plt.yticks(fontsize = 16);\n",
        "plt.show()"
      ],
      "metadata": {
        "colab": {
          "base_uri": "https://localhost:8080/",
          "height": 687
        },
        "id": "MEVfaDA3fbSs",
        "outputId": "786f84e1-ab4b-40d3-dd0c-19a8d19fab90"
      },
      "execution_count": 730,
      "outputs": [
        {
          "output_type": "stream",
          "name": "stderr",
          "text": [
            "/usr/local/lib/python3.7/dist-packages/matplotlib/cbook/__init__.py:1376: VisibleDeprecationWarning: Creating an ndarray from ragged nested sequences (which is a list-or-tuple of lists-or-tuples-or ndarrays with different lengths or shapes) is deprecated. If you meant to do this, you must specify 'dtype=object' when creating the ndarray.\n",
            "  X = np.atleast_1d(X.T if isinstance(X, np.ndarray) else np.asarray(X))\n"
          ]
        },
        {
          "output_type": "display_data",
          "data": {
            "text/plain": [
              "<Figure size 720x720 with 1 Axes>"
            ],
            "image/png": "[encoded data removed]"
          },
          "metadata": {
            "needs_background": "light"
          }
        }
      ]
    },
    {
      "cell_type": "code",
      "source": [
        "# 2.1.7. Boxplot de Precio máximo de venta al público (USD/producto) según Tamaño de la tienda en cuanto al área total\n",
        "# Dado que los boxplot se solapan en todas los tamaños de tienda se puede concluir que:\n",
        "# No existen diferencias estadísticamente significativa entre las medianas de los precios máximos de los productos y los tamaños de tiendas.\n",
        "# Ausencia de valores atípicos\n",
        "\n",
        "df.boxplot(column=['Item_MRP'],\n",
        "                   by='Outlet_Size',\n",
        "                   vert=False,\n",
        "                   notch=True,\n",
        "                   showmeans=True,\n",
        "                   figsize=(10,10))\n",
        "plt.title('Precio máximo de venta al público (USD/producto) según tamaño de la tienda',fontsize=16);\n",
        "plt.suptitle('');\n",
        "plt.xlabel('Precio máximo de venta al público (USD/producto)', fontsize = 16);\n",
        "plt.ylabel('Tamaño de la tienda', fontsize = 20);\n",
        "plt.xticks(fontsize = 16);\n",
        "plt.yticks(fontsize = 16);\n",
        "plt.show()"
      ],
      "metadata": {
        "colab": {
          "base_uri": "https://localhost:8080/",
          "height": 687
        },
        "id": "jRlnRFoJhgk3",
        "outputId": "1305f839-9cd3-4c0a-ce6b-e34c3ee0fc84"
      },
      "execution_count": 731,
      "outputs": [
        {
          "output_type": "stream",
          "name": "stderr",
          "text": [
            "/usr/local/lib/python3.7/dist-packages/matplotlib/cbook/__init__.py:1376: VisibleDeprecationWarning: Creating an ndarray from ragged nested sequences (which is a list-or-tuple of lists-or-tuples-or ndarrays with different lengths or shapes) is deprecated. If you meant to do this, you must specify 'dtype=object' when creating the ndarray.\n",
            "  X = np.atleast_1d(X.T if isinstance(X, np.ndarray) else np.asarray(X))\n"
          ]
        },
        {
          "output_type": "display_data",
          "data": {
            "text/plain": [
              "<Figure size 720x720 with 1 Axes>"
            ],
            "image/png": "[encoded data removed]"
          },
          "metadata": {
            "needs_background": "light"
          }
        }
      ]
    },
    {
      "cell_type": "code",
      "source": [
        "# 2.1.8. Boxplot de Precio máximo de venta al público (USD/producto) según tipo de Área donde se encuentra la tienda\n",
        "# Dado que los boxplot se solapan en todas las áreas donde se encuentra las tiendas se puede concluir que:\n",
        "# No existen diferencias estadísticamente significativa entre las medianas de los precios máximos de los productos y las áreas donde se encuentran las tiendas.\n",
        "# Ausencia de valores atípicos\n",
        "\n",
        "df.boxplot(column=['Item_MRP'],\n",
        "                   by='Outlet_Location_Type',\n",
        "                   vert=False,\n",
        "                   notch=True,\n",
        "                   showmeans=True,\n",
        "                   figsize=(10,10))\n",
        "plt.title('Precio máximo de venta al público (USD/producto) según Área donde se encuentran las tiendas',fontsize=16);\n",
        "plt.suptitle('');\n",
        "plt.xlabel('Precio máximo de venta al público (USD/producto)', fontsize = 16);\n",
        "plt.ylabel('Área donde se encuentran las tiendas', fontsize = 20);\n",
        "plt.xticks(fontsize = 16);\n",
        "plt.yticks(fontsize = 16);\n",
        "plt.show()"
      ],
      "metadata": {
        "colab": {
          "base_uri": "https://localhost:8080/",
          "height": 689
        },
        "id": "hBUjTjkPjKen",
        "outputId": "cc90638a-041b-4f54-a80b-8055bd1ad0be"
      },
      "execution_count": 732,
      "outputs": [
        {
          "output_type": "stream",
          "name": "stderr",
          "text": [
            "/usr/local/lib/python3.7/dist-packages/matplotlib/cbook/__init__.py:1376: VisibleDeprecationWarning: Creating an ndarray from ragged nested sequences (which is a list-or-tuple of lists-or-tuples-or ndarrays with different lengths or shapes) is deprecated. If you meant to do this, you must specify 'dtype=object' when creating the ndarray.\n",
            "  X = np.atleast_1d(X.T if isinstance(X, np.ndarray) else np.asarray(X))\n"
          ]
        },
        {
          "output_type": "display_data",
          "data": {
            "text/plain": [
              "<Figure size 720x720 with 1 Axes>"
            ],
            "image/png": "[encoded data removed]"
          },
          "metadata": {
            "needs_background": "light"
          }
        }
      ]
    },
    {
      "cell_type": "code",
      "source": [
        "# 2.1.9. Boxplot de Precio máximo de venta al público (USD/producto) según tipo de tienda\n",
        "# Dado que los boxplot se solapan en todas las áreas donde se encuentra las tiendas se puede concluir que:\n",
        "# No existen diferencias estadísticamente significativa entre las medianas de los precios máximos de los productos y los tipos de tiendas.\n",
        "# Ausencia de valores atípicos\n",
        "\n",
        "df.boxplot(column=['Item_MRP'],\n",
        "                   by='Outlet_Type',\n",
        "                   vert=False,\n",
        "                   notch=True,\n",
        "                   showmeans=True,\n",
        "                   figsize=(10,10))\n",
        "plt.title('Precio máximo de venta al público (USD/producto) según Tipo de tienda',fontsize=16);\n",
        "plt.suptitle('');\n",
        "plt.xlabel('Precio máximo de venta al público (USD/producto)', fontsize = 16);\n",
        "plt.ylabel('Tipo de tienda', fontsize = 20);\n",
        "plt.xticks(fontsize = 16);\n",
        "plt.yticks(fontsize = 16);\n",
        "plt.show()"
      ],
      "metadata": {
        "colab": {
          "base_uri": "https://localhost:8080/",
          "height": 687
        },
        "id": "yuMzUzTJjt_x",
        "outputId": "4d3b4d02-2bc2-4e25-eda9-ad6790dc0380"
      },
      "execution_count": 733,
      "outputs": [
        {
          "output_type": "stream",
          "name": "stderr",
          "text": [
            "/usr/local/lib/python3.7/dist-packages/matplotlib/cbook/__init__.py:1376: VisibleDeprecationWarning: Creating an ndarray from ragged nested sequences (which is a list-or-tuple of lists-or-tuples-or ndarrays with different lengths or shapes) is deprecated. If you meant to do this, you must specify 'dtype=object' when creating the ndarray.\n",
            "  X = np.atleast_1d(X.T if isinstance(X, np.ndarray) else np.asarray(X))\n"
          ]
        },
        {
          "output_type": "display_data",
          "data": {
            "text/plain": [
              "<Figure size 720x720 with 1 Axes>"
            ],
            "image/png": "[encoded data removed]"
          },
          "metadata": {
            "needs_background": "light"
          }
        }
      ]
    },
    {
      "cell_type": "markdown",
      "source": [
        "# 2.1. Correlaciones"
      ],
      "metadata": {
        "id": "2XNwCngE_o4g"
      }
    },
    {
      "cell_type": "code",
      "source": [
        "# La correlación más marcada es entre las columnas 'Item_Oulet_Sales' y 'Item_MRP'\n",
        "# 'Item_Oulet_Sales' = Ventas del producto en una tienda en particular (variable objetivo a predecir)\n",
        "# 'Item_MRP' = Precio máximo de venta al público (precio de catálogo) del producto\n",
        "corr = df.corr()\n",
        "sns.heatmap(corr, cmap = 'Greens', annot = True)"
      ],
      "metadata": {
        "id": "J0W-isZRXHR9",
        "colab": {
          "base_uri": "https://localhost:8080/",
          "height": 409
        },
        "outputId": "ef964c89-5190-4462-c81a-89ee18482fe1"
      },
      "execution_count": 734,
      "outputs": [
        {
          "output_type": "execute_result",
          "data": {
            "text/plain": [
              "<matplotlib.axes._subplots.AxesSubplot at 0x7f387c3e89d0>"
            ]
          },
          "metadata": {},
          "execution_count": 734
        },
        {
          "output_type": "display_data",
          "data": {
            "text/plain": [
              "<Figure size 432x288 with 2 Axes>"
            ],
            "image/png": "[encoded data removed]"
          },
          "metadata": {
            "needs_background": "light"
          }
        }
      ]
    },
    {
      "cell_type": "code",
      "source": [
        "# Gráfico de dispersión para entender la correlación\n",
        "X=df['Item_MRP']\n",
        "Y=df['Item_Outlet_Sales']\n",
        "# Parametrización de curvas\n",
        "plt.scatter(X,Y,c='k')\n",
        "#Parámetros generales\n",
        "plt.title(\"Relación entre Ventas de un producto y su precio máximo de venta\")\n",
        "plt.xlabel('Item_MRP (USD)')\n",
        "plt.ylabel('Item_Outlet_Sales (USD)')\n",
        "plt.legend()\n",
        "plt.grid(True)\n",
        "plt.show"
      ],
      "metadata": {
        "colab": {
          "base_uri": "https://localhost:8080/",
          "height": 331
        },
        "id": "k-kRqjFSAdEI",
        "outputId": "399361a7-256c-43cd-e78c-330f8d9c675c"
      },
      "execution_count": 735,
      "outputs": [
        {
          "output_type": "stream",
          "name": "stderr",
          "text": [
            "WARNING:matplotlib.legend:No handles with labels found to put in legend.\n"
          ]
        },
        {
          "output_type": "execute_result",
          "data": {
            "text/plain": [
              "<function matplotlib.pyplot.show(*args, **kw)>"
            ]
          },
          "metadata": {},
          "execution_count": 735
        },
        {
          "output_type": "display_data",
          "data": {
            "text/plain": [
              "<Figure size 432x288 with 1 Axes>"
            ],
            "image/png": "[encoded data removed]"
          },
          "metadata": {
            "needs_background": "light"
          }
        }
      ]
    },
    {
      "cell_type": "markdown",
      "source": [
        "# **3. Preprocesamiento de datos para ML**"
      ],
      "metadata": {
        "id": "VFeXwBznxSxF"
      }
    },
    {
      "cell_type": "markdown",
      "source": [
        "## 3.1. Identificar matriz de características (X) y vector objetivo (y)."
      ],
      "metadata": {
        "id": "oN0mCpYK5w2q"
      }
    },
    {
      "cell_type": "markdown",
      "source": [
        "**Identificación de columna objetivo (y)**\n",
        "+ Item_Outlet_Sales (float64) -> Objetivo(y)\n",
        "\n",
        "**Identificación de características (X) según tipo ordinal, nominal, numérico**\n",
        "\n",
        "\n",
        "* Ordinales\n",
        "  + Item_Fat_Content (object): Ordinal -> Encoder manual\n",
        "  + Outlet_Establishment_Year (int64): Ordinal -> Encoder manual\n",
        "  + Outlet_Size (object): Ordinal -> Encoder manual\n",
        "* Numéricas\n",
        "  + Item_Identifier (object): Excluida, dado que no otorga información útil\n",
        "  + Item_Weight (float64): Numérica -> Escalar\n",
        "  + Item_Visibility (float64): Numérica -> Escalar\n",
        "  + Item_MRP (float64); Numérica -> escalar\n",
        "* Nominales\n",
        "  + Item_Type (object): Nominal -> ohe\n",
        "  + Outlet_Identifier (object ): Nominal -> ohe\n",
        "  + Outlet_Location_Type (object): Nominal  -> ohe\n",
        "  + Outlet_Type (object) -> Nominal -> ohe\n"
      ],
      "metadata": {
        "id": "57iXqhhQ4VNP"
      }
    },
    {
      "cell_type": "code",
      "source": [
        "df.info()"
      ],
      "metadata": {
        "colab": {
          "base_uri": "https://localhost:8080/"
        },
        "id": "1XK7ce00xWhL",
        "outputId": "6b418e60-e6f3-4d4b-ccd6-67ab95b9dd49"
      },
      "execution_count": 736,
      "outputs": [
        {
          "output_type": "stream",
          "name": "stdout",
          "text": [
            "<class 'pandas.core.frame.DataFrame'>\n",
            "Int64Index: 8519 entries, 0 to 8522\n",
            "Data columns (total 12 columns):\n",
            " #   Column                     Non-Null Count  Dtype  \n",
            "---  ------                     --------------  -----  \n",
            " 0   Item_Identifier            8519 non-null   object \n",
            " 1   Item_Weight                8519 non-null   float64\n",
            " 2   Item_Fat_Content           8519 non-null   object \n",
            " 3   Item_Visibility            7993 non-null   float64\n",
            " 4   Item_Type                  8519 non-null   object \n",
            " 5   Item_MRP                   8519 non-null   float64\n",
            " 6   Outlet_Identifier          8519 non-null   object \n",
            " 7   Outlet_Establishment_Year  8519 non-null   int64  \n",
            " 8   Outlet_Size                8519 non-null   object \n",
            " 9   Outlet_Location_Type       8519 non-null   object \n",
            " 10  Outlet_Type                8519 non-null   object \n",
            " 11  Item_Outlet_Sales          8519 non-null   float64\n",
            "dtypes: float64(4), int64(1), object(7)\n",
            "memory usage: 865.2+ KB\n"
          ]
        }
      ]
    },
    {
      "cell_type": "markdown",
      "source": [
        "## 3.2. Codificar características ordinales"
      ],
      "metadata": {
        "id": "2z83OJIN7BX2"
      }
    },
    {
      "cell_type": "code",
      "source": [
        "# Codificación ordinal columna 'Item_Fat_Content'\n",
        "replacement_dictionary={'Low Fat':1,'Regular':2}\n",
        "df['Item_Fat_Content'].replace(replacement_dictionary, inplace=True)\n",
        "df['Item_Fat_Content']"
      ],
      "metadata": {
        "colab": {
          "base_uri": "https://localhost:8080/"
        },
        "id": "zj1EHD700_vY",
        "outputId": "e765a3ca-f7b6-49e6-e1df-a247b9a6399b"
      },
      "execution_count": 737,
      "outputs": [
        {
          "output_type": "stream",
          "name": "stderr",
          "text": [
            "/usr/local/lib/python3.7/dist-packages/pandas/core/generic.py:6619: SettingWithCopyWarning: \n",
            "A value is trying to be set on a copy of a slice from a DataFrame\n",
            "\n",
            "See the caveats in the documentation: https://pandas.pydata.org/pandas-docs/stable/user_guide/indexing.html#returning-a-view-versus-a-copy\n",
            "  return self._update_inplace(result)\n"
          ]
        },
        {
          "output_type": "execute_result",
          "data": {
            "text/plain": [
              "0       1\n",
              "1       1\n",
              "2       1\n",
              "3       1\n",
              "4       1\n",
              "       ..\n",
              "8518    1\n",
              "8519    1\n",
              "8520    1\n",
              "8521    1\n",
              "8522    1\n",
              "Name: Item_Fat_Content, Length: 8519, dtype: int64"
            ]
          },
          "metadata": {},
          "execution_count": 737
        }
      ]
    },
    {
      "cell_type": "code",
      "source": [
        "# Codificación ordinal columna 'Outlet_Establishment_Year'\n",
        "replacement_dictionary={2009 : 0 , 2008 : 1 , 2007 : 2 , 2006 : 3 , 2005 : 4 , 2004 : 5 , 2003 : 6 ,\n",
        "                        2002 : 7 , 2001 : 8 , 2000 : 9 , 1999 : 10 , 1998 : 11 , 1997 : 12 , 1996 : 13 ,\n",
        "                        1995 : 14 , 1994 : 15 , 1993 : 16 , 1992 : 17 , 1991 : 18 , 1990 : 19 , 1989 : 20 ,\n",
        "                        1988 : 21 , 1987 : 22 , 1986 : 23 , 1985 : 24}\n",
        "\n",
        "df['Outlet_Establishment_Year'].replace(replacement_dictionary, inplace=True)\n",
        "df['Outlet_Establishment_Year']"
      ],
      "metadata": {
        "colab": {
          "base_uri": "https://localhost:8080/"
        },
        "id": "TglWb6LB67DX",
        "outputId": "135a422a-8cb1-433e-b70a-10828ec378f5"
      },
      "execution_count": 738,
      "outputs": [
        {
          "output_type": "execute_result",
          "data": {
            "text/plain": [
              "0       10\n",
              "1        7\n",
              "2        5\n",
              "3        0\n",
              "4       11\n",
              "        ..\n",
              "8518    12\n",
              "8519     2\n",
              "8520     5\n",
              "8521    10\n",
              "8522     7\n",
              "Name: Outlet_Establishment_Year, Length: 8519, dtype: int64"
            ]
          },
          "metadata": {},
          "execution_count": 738
        }
      ]
    },
    {
      "cell_type": "code",
      "source": [
        "# Codificación ordinal columna 'Outlet_Size'\n",
        "replacement_dictionary={'Small':1,'Medium':2,'High':3}\n",
        "df['Outlet_Size'].replace(replacement_dictionary, inplace=True)\n",
        "df['Outlet_Size']"
      ],
      "metadata": {
        "colab": {
          "base_uri": "https://localhost:8080/"
        },
        "id": "yLt0hJS39Ye8",
        "outputId": "82a68e8d-b9ae-4b45-8200-2e65dd9827c2"
      },
      "execution_count": 739,
      "outputs": [
        {
          "output_type": "execute_result",
          "data": {
            "text/plain": [
              "0       2\n",
              "1       1\n",
              "2       1\n",
              "3       2\n",
              "4       1\n",
              "       ..\n",
              "8518    1\n",
              "8519    1\n",
              "8520    1\n",
              "8521    2\n",
              "8522    1\n",
              "Name: Outlet_Size, Length: 8519, dtype: int64"
            ]
          },
          "metadata": {},
          "execution_count": 739
        }
      ]
    },
    {
      "cell_type": "markdown",
      "source": [
        "## 3.3. Separar los datos en un matriz de características (X) y un vector objetivo (y)."
      ],
      "metadata": {
        "id": "wjBViT5aybyO"
      }
    },
    {
      "cell_type": "code",
      "source": [
        "y=df['Item_Outlet_Sales']\n",
        "X=df.drop(columns=['Item_Outlet_Sales','Item_Identifier'])"
      ],
      "metadata": {
        "id": "jlS1pN3ryEP6"
      },
      "execution_count": 740,
      "outputs": []
    },
    {
      "cell_type": "markdown",
      "source": [
        "## 3.4. Crear un train test split en los datos. Utilicen un número aleatorio 42 por coherencia."
      ],
      "metadata": {
        "id": "TelUUdGjymSr"
      }
    },
    {
      "cell_type": "code",
      "source": [
        "X_train,X_test,y_train,y_test=train_test_split(X,y,random_state=42)"
      ],
      "metadata": {
        "id": "ujd8GpYqyopf"
      },
      "execution_count": 741,
      "outputs": []
    },
    {
      "cell_type": "markdown",
      "source": [
        "## 3.5. Crear instancia de selectores de columnas"
      ],
      "metadata": {
        "id": "vjIJ_hiUDqsi"
      }
    },
    {
      "cell_type": "code",
      "source": [
        "# Crear instancia de selectores de columnas\n",
        "cat_selector = make_column_selector(dtype_include='object')\n",
        "num_selector = make_column_selector(dtype_include='number')"
      ],
      "metadata": {
        "id": "GWfJpDi_DvJq"
      },
      "execution_count": 742,
      "outputs": []
    },
    {
      "cell_type": "markdown",
      "source": [
        "## 3.6. Crear instancia de transformadores"
      ],
      "metadata": {
        "id": "_AO3Qu1xD0Kt"
      }
    },
    {
      "cell_type": "code",
      "source": [
        "# Crear instancia de transformadores\n",
        "freq_imputer= SimpleImputer(strategy='most_frequent')\n",
        "mean_imputer = SimpleImputer(strategy='mean')\n",
        "scaler=StandardScaler()\n",
        "ohe=OneHotEncoder(handle_unknown='ignore',sparse=False)"
      ],
      "metadata": {
        "id": "RxRc_aIsD69b"
      },
      "execution_count": 743,
      "outputs": []
    },
    {
      "cell_type": "markdown",
      "source": [
        "## 3.7. Crear instancia de pipeline"
      ],
      "metadata": {
        "id": "7v5lEeZi0oxZ"
      }
    },
    {
      "cell_type": "code",
      "source": [
        "# Pipeline numérico\n",
        "numeric_pipe = make_pipeline(mean_imputer,scaler)\n",
        "numeric_pipe"
      ],
      "metadata": {
        "colab": {
          "base_uri": "https://localhost:8080/",
          "height": 126
        },
        "id": "uDOEBTLWEFDl",
        "outputId": "4b2d6cc8-a4ad-4cde-cfe5-7901f2242c59"
      },
      "execution_count": 744,
      "outputs": [
        {
          "output_type": "execute_result",
          "data": {
            "text/plain": [
              "Pipeline(steps=[('simpleimputer', SimpleImputer()),\n",
              "                ('standardscaler', StandardScaler())])"
            ],
            "text/html": [
              "<style>#sk-ca39166b-d53a-4a59-9b61-2061690747ed {color: black;background-color: white;}#sk-ca39166b-d53a-4a59-9b61-2061690747ed pre{padding: 0;}#sk-ca39166b-d53a-4a59-9b61-2061690747ed div.sk-toggleable {background-color: white;}#sk-ca39166b-d53a-4a59-9b61-2061690747ed label.sk-toggleable__label {cursor: pointer;display: block;width: 100%;margin-bottom: 0;padding: 0.3em;box-sizing: border-box;text-align: center;}#sk-ca39166b-d53a-4a59-9b61-2061690747ed label.sk-toggleable__label-arrow:before {content: \"▸\";float: left;margin-right: 0.25em;color: #696969;}#sk-ca39166b-d53a-4a59-9b61-2061690747ed label.sk-toggleable__label-arrow:hover:before {color: black;}#sk-ca39166b-d53a-4a59-9b61-2061690747ed div.sk-estimator:hover label.sk-toggleable__label-arrow:before {color: black;}#sk-ca39166b-d53a-4a59-9b61-2061690747ed div.sk-toggleable__content {max-height: 0;max-width: 0;overflow: hidden;text-align: left;background-color: #f0f8ff;}#sk-ca39166b-d53a-4a59-9b61-2061690747ed div.sk-toggleable__content pre {margin: 0.2em;color: black;border-radius: 0.25em;background-color: #f0f8ff;}#sk-ca39166b-d53a-4a59-9b61-2061690747ed input.sk-toggleable__control:checked~div.sk-toggleable__content {max-height: 200px;max-width: 100%;overflow: auto;}#sk-ca39166b-d53a-4a59-9b61-2061690747ed input.sk-toggleable__control:checked~label.sk-toggleable__label-arrow:before {content: \"▾\";}#sk-ca39166b-d53a-4a59-9b61-2061690747ed div.sk-estimator input.sk-toggleable__control:checked~label.sk-toggleable__label {background-color: #d4ebff;}#sk-ca39166b-d53a-4a59-9b61-2061690747ed div.sk-label input.sk-toggleable__control:checked~label.sk-toggleable__label {background-color: #d4ebff;}#sk-ca39166b-d53a-4a59-9b61-2061690747ed input.sk-hidden--visually {border: 0;clip: rect(1px 1px 1px 1px);clip: rect(1px, 1px, 1px, 1px);height: 1px;margin: -1px;overflow: hidden;padding: 0;position: absolute;width: 1px;}#sk-ca39166b-d53a-4a59-9b61-2061690747ed div.sk-estimator {font-family: monospace;background-color: #f0f8ff;border: 1px dotted black;border-radius: 0.25em;box-sizing: border-box;margin-bottom: 0.5em;}#sk-ca39166b-d53a-4a59-9b61-2061690747ed div.sk-estimator:hover {background-color: #d4ebff;}#sk-ca39166b-d53a-4a59-9b61-2061690747ed div.sk-parallel-item::after {content: \"\";width: 100%;border-bottom: 1px solid gray;flex-grow: 1;}#sk-ca39166b-d53a-4a59-9b61-2061690747ed div.sk-label:hover label.sk-toggleable__label {background-color: #d4ebff;}#sk-ca39166b-d53a-4a59-9b61-2061690747ed div.sk-serial::before {content: \"\";position: absolute;border-left: 1px solid gray;box-sizing: border-box;top: 2em;bottom: 0;left: 50%;}#sk-ca39166b-d53a-4a59-9b61-2061690747ed div.sk-serial {display: flex;flex-direction: column;align-items: center;background-color: white;padding-right: 0.2em;padding-left: 0.2em;}#sk-ca39166b-d53a-4a59-9b61-2061690747ed div.sk-item {z-index: 1;}#sk-ca39166b-d53a-4a59-9b61-2061690747ed div.sk-parallel {display: flex;align-items: stretch;justify-content: center;background-color: white;}#sk-ca39166b-d53a-4a59-9b61-2061690747ed div.sk-parallel::before {content: \"\";position: absolute;border-left: 1px solid gray;box-sizing: border-box;top: 2em;bottom: 0;left: 50%;}#sk-ca39166b-d53a-4a59-9b61-2061690747ed div.sk-parallel-item {display: flex;flex-direction: column;position: relative;background-color: white;}#sk-ca39166b-d53a-4a59-9b61-2061690747ed div.sk-parallel-item:first-child::after {align-self: flex-end;width: 50%;}#sk-ca39166b-d53a-4a59-9b61-2061690747ed div.sk-parallel-item:last-child::after {align-self: flex-start;width: 50%;}#sk-ca39166b-d53a-4a59-9b61-2061690747ed div.sk-parallel-item:only-child::after {width: 0;}#sk-ca39166b-d53a-4a59-9b61-2061690747ed div.sk-dashed-wrapped {border: 1px dashed gray;margin: 0 0.4em 0.5em 0.4em;box-sizing: border-box;padding-bottom: 0.4em;background-color: white;position: relative;}#sk-ca39166b-d53a-4a59-9b61-2061690747ed div.sk-label label {font-family: monospace;font-weight: bold;background-color: white;display: inline-block;line-height: 1.2em;}#sk-ca39166b-d53a-4a59-9b61-2061690747ed div.sk-label-container {position: relative;z-index: 2;text-align: center;}#sk-ca39166b-d53a-4a59-9b61-2061690747ed div.sk-container {/* jupyter's `normalize.less` sets `[hidden] { display: none; }` but bootstrap.min.css set `[hidden] { display: none !important; }` so we also need the `!important` here to be able to override the default hidden behavior on the sphinx rendered scikit-learn.org. See: https://github.com/scikit-learn/scikit-learn/issues/21755 */display: inline-block !important;position: relative;}#sk-ca39166b-d53a-4a59-9b61-2061690747ed div.sk-text-repr-fallback {display: none;}</style><div id=\"sk-ca39166b-d53a-4a59-9b61-2061690747ed\" class=\"sk-top-container\"><div class=\"sk-text-repr-fallback\"><pre>Pipeline(steps=[(&#x27;simpleimputer&#x27;, SimpleImputer()),\n",
              "                (&#x27;standardscaler&#x27;, StandardScaler())])</pre><b>Please rerun this cell to show the HTML repr or trust the notebook.</b></div><div class=\"sk-container\" hidden><div class=\"sk-item sk-dashed-wrapped\"><div class=\"sk-label-container\"><div class=\"sk-label sk-toggleable\"><input class=\"sk-toggleable__control sk-hidden--visually\" id=\"6d198d5a-2b74-4e61-8fb1-9f6514bf8f41\" type=\"checkbox\" ><label for=\"6d198d5a-2b74-4e61-8fb1-9f6514bf8f41\" class=\"sk-toggleable__label sk-toggleable__label-arrow\">Pipeline</label><div class=\"sk-toggleable__content\"><pre>Pipeline(steps=[(&#x27;simpleimputer&#x27;, SimpleImputer()),\n",
              "                (&#x27;standardscaler&#x27;, StandardScaler())])</pre></div></div></div><div class=\"sk-serial\"><div class=\"sk-item\"><div class=\"sk-estimator sk-toggleable\"><input class=\"sk-toggleable__control sk-hidden--visually\" id=\"18822dae-f86f-4a33-8b59-6b0da505a0f0\" type=\"checkbox\" ><label for=\"18822dae-f86f-4a33-8b59-6b0da505a0f0\" class=\"sk-toggleable__label sk-toggleable__label-arrow\">SimpleImputer</label><div class=\"sk-toggleable__content\"><pre>SimpleImputer()</pre></div></div></div><div class=\"sk-item\"><div class=\"sk-estimator sk-toggleable\"><input class=\"sk-toggleable__control sk-hidden--visually\" id=\"8450a619-9cb3-44c4-8312-aa9c07b7122f\" type=\"checkbox\" ><label for=\"8450a619-9cb3-44c4-8312-aa9c07b7122f\" class=\"sk-toggleable__label sk-toggleable__label-arrow\">StandardScaler</label><div class=\"sk-toggleable__content\"><pre>StandardScaler()</pre></div></div></div></div></div></div></div>"
            ]
          },
          "metadata": {},
          "execution_count": 744
        }
      ]
    },
    {
      "cell_type": "code",
      "source": [
        "# Pipeline categórico\n",
        "categorical_pipe = make_pipeline(freq_imputer,ohe)\n",
        "categorical_pipe"
      ],
      "metadata": {
        "colab": {
          "base_uri": "https://localhost:8080/",
          "height": 126
        },
        "id": "e5VFr-K1ELJW",
        "outputId": "d1198f9e-2009-4274-a09e-e7290586c729"
      },
      "execution_count": 745,
      "outputs": [
        {
          "output_type": "execute_result",
          "data": {
            "text/plain": [
              "Pipeline(steps=[('simpleimputer', SimpleImputer(strategy='most_frequent')),\n",
              "                ('onehotencoder',\n",
              "                 OneHotEncoder(handle_unknown='ignore', sparse=False))])"
            ],
            "text/html": [
              "<style>#sk-417bb4bf-9861-4bf1-9b12-4dd4e68d0bd9 {color: black;background-color: white;}#sk-417bb4bf-9861-4bf1-9b12-4dd4e68d0bd9 pre{padding: 0;}#sk-417bb4bf-9861-4bf1-9b12-4dd4e68d0bd9 div.sk-toggleable {background-color: white;}#sk-417bb4bf-9861-4bf1-9b12-4dd4e68d0bd9 label.sk-toggleable__label {cursor: pointer;display: block;width: 100%;margin-bottom: 0;padding: 0.3em;box-sizing: border-box;text-align: center;}#sk-417bb4bf-9861-4bf1-9b12-4dd4e68d0bd9 label.sk-toggleable__label-arrow:before {content: \"▸\";float: left;margin-right: 0.25em;color: #696969;}#sk-417bb4bf-9861-4bf1-9b12-4dd4e68d0bd9 label.sk-toggleable__label-arrow:hover:before {color: black;}#sk-417bb4bf-9861-4bf1-9b12-4dd4e68d0bd9 div.sk-estimator:hover label.sk-toggleable__label-arrow:before {color: black;}#sk-417bb4bf-9861-4bf1-9b12-4dd4e68d0bd9 div.sk-toggleable__content {max-height: 0;max-width: 0;overflow: hidden;text-align: left;background-color: #f0f8ff;}#sk-417bb4bf-9861-4bf1-9b12-4dd4e68d0bd9 div.sk-toggleable__content pre {margin: 0.2em;color: black;border-radius: 0.25em;background-color: #f0f8ff;}#sk-417bb4bf-9861-4bf1-9b12-4dd4e68d0bd9 input.sk-toggleable__control:checked~div.sk-toggleable__content {max-height: 200px;max-width: 100%;overflow: auto;}#sk-417bb4bf-9861-4bf1-9b12-4dd4e68d0bd9 input.sk-toggleable__control:checked~label.sk-toggleable__label-arrow:before {content: \"▾\";}#sk-417bb4bf-9861-4bf1-9b12-4dd4e68d0bd9 div.sk-estimator input.sk-toggleable__control:checked~label.sk-toggleable__label {background-color: #d4ebff;}#sk-417bb4bf-9861-4bf1-9b12-4dd4e68d0bd9 div.sk-label input.sk-toggleable__control:checked~label.sk-toggleable__label {background-color: #d4ebff;}#sk-417bb4bf-9861-4bf1-9b12-4dd4e68d0bd9 input.sk-hidden--visually {border: 0;clip: rect(1px 1px 1px 1px);clip: rect(1px, 1px, 1px, 1px);height: 1px;margin: -1px;overflow: hidden;padding: 0;position: absolute;width: 1px;}#sk-417bb4bf-9861-4bf1-9b12-4dd4e68d0bd9 div.sk-estimator {font-family: monospace;background-color: #f0f8ff;border: 1px dotted black;border-radius: 0.25em;box-sizing: border-box;margin-bottom: 0.5em;}#sk-417bb4bf-9861-4bf1-9b12-4dd4e68d0bd9 div.sk-estimator:hover {background-color: #d4ebff;}#sk-417bb4bf-9861-4bf1-9b12-4dd4e68d0bd9 div.sk-parallel-item::after {content: \"\";width: 100%;border-bottom: 1px solid gray;flex-grow: 1;}#sk-417bb4bf-9861-4bf1-9b12-4dd4e68d0bd9 div.sk-label:hover label.sk-toggleable__label {background-color: #d4ebff;}#sk-417bb4bf-9861-4bf1-9b12-4dd4e68d0bd9 div.sk-serial::before {content: \"\";position: absolute;border-left: 1px solid gray;box-sizing: border-box;top: 2em;bottom: 0;left: 50%;}#sk-417bb4bf-9861-4bf1-9b12-4dd4e68d0bd9 div.sk-serial {display: flex;flex-direction: column;align-items: center;background-color: white;padding-right: 0.2em;padding-left: 0.2em;}#sk-417bb4bf-9861-4bf1-9b12-4dd4e68d0bd9 div.sk-item {z-index: 1;}#sk-417bb4bf-9861-4bf1-9b12-4dd4e68d0bd9 div.sk-parallel {display: flex;align-items: stretch;justify-content: center;background-color: white;}#sk-417bb4bf-9861-4bf1-9b12-4dd4e68d0bd9 div.sk-parallel::before {content: \"\";position: absolute;border-left: 1px solid gray;box-sizing: border-box;top: 2em;bottom: 0;left: 50%;}#sk-417bb4bf-9861-4bf1-9b12-4dd4e68d0bd9 div.sk-parallel-item {display: flex;flex-direction: column;position: relative;background-color: white;}#sk-417bb4bf-9861-4bf1-9b12-4dd4e68d0bd9 div.sk-parallel-item:first-child::after {align-self: flex-end;width: 50%;}#sk-417bb4bf-9861-4bf1-9b12-4dd4e68d0bd9 div.sk-parallel-item:last-child::after {align-self: flex-start;width: 50%;}#sk-417bb4bf-9861-4bf1-9b12-4dd4e68d0bd9 div.sk-parallel-item:only-child::after {width: 0;}#sk-417bb4bf-9861-4bf1-9b12-4dd4e68d0bd9 div.sk-dashed-wrapped {border: 1px dashed gray;margin: 0 0.4em 0.5em 0.4em;box-sizing: border-box;padding-bottom: 0.4em;background-color: white;position: relative;}#sk-417bb4bf-9861-4bf1-9b12-4dd4e68d0bd9 div.sk-label label {font-family: monospace;font-weight: bold;background-color: white;display: inline-block;line-height: 1.2em;}#sk-417bb4bf-9861-4bf1-9b12-4dd4e68d0bd9 div.sk-label-container {position: relative;z-index: 2;text-align: center;}#sk-417bb4bf-9861-4bf1-9b12-4dd4e68d0bd9 div.sk-container {/* jupyter's `normalize.less` sets `[hidden] { display: none; }` but bootstrap.min.css set `[hidden] { display: none !important; }` so we also need the `!important` here to be able to override the default hidden behavior on the sphinx rendered scikit-learn.org. See: https://github.com/scikit-learn/scikit-learn/issues/21755 */display: inline-block !important;position: relative;}#sk-417bb4bf-9861-4bf1-9b12-4dd4e68d0bd9 div.sk-text-repr-fallback {display: none;}</style><div id=\"sk-417bb4bf-9861-4bf1-9b12-4dd4e68d0bd9\" class=\"sk-top-container\"><div class=\"sk-text-repr-fallback\"><pre>Pipeline(steps=[(&#x27;simpleimputer&#x27;, SimpleImputer(strategy=&#x27;most_frequent&#x27;)),\n",
              "                (&#x27;onehotencoder&#x27;,\n",
              "                 OneHotEncoder(handle_unknown=&#x27;ignore&#x27;, sparse=False))])</pre><b>Please rerun this cell to show the HTML repr or trust the notebook.</b></div><div class=\"sk-container\" hidden><div class=\"sk-item sk-dashed-wrapped\"><div class=\"sk-label-container\"><div class=\"sk-label sk-toggleable\"><input class=\"sk-toggleable__control sk-hidden--visually\" id=\"3233d7e3-cd4a-401b-b123-bf182ec83da6\" type=\"checkbox\" ><label for=\"3233d7e3-cd4a-401b-b123-bf182ec83da6\" class=\"sk-toggleable__label sk-toggleable__label-arrow\">Pipeline</label><div class=\"sk-toggleable__content\"><pre>Pipeline(steps=[(&#x27;simpleimputer&#x27;, SimpleImputer(strategy=&#x27;most_frequent&#x27;)),\n",
              "                (&#x27;onehotencoder&#x27;,\n",
              "                 OneHotEncoder(handle_unknown=&#x27;ignore&#x27;, sparse=False))])</pre></div></div></div><div class=\"sk-serial\"><div class=\"sk-item\"><div class=\"sk-estimator sk-toggleable\"><input class=\"sk-toggleable__control sk-hidden--visually\" id=\"54728be8-241a-4ee9-8c61-58bc7b741f5d\" type=\"checkbox\" ><label for=\"54728be8-241a-4ee9-8c61-58bc7b741f5d\" class=\"sk-toggleable__label sk-toggleable__label-arrow\">SimpleImputer</label><div class=\"sk-toggleable__content\"><pre>SimpleImputer(strategy=&#x27;most_frequent&#x27;)</pre></div></div></div><div class=\"sk-item\"><div class=\"sk-estimator sk-toggleable\"><input class=\"sk-toggleable__control sk-hidden--visually\" id=\"619aa130-90cb-480f-8f5f-21a461fbb6ed\" type=\"checkbox\" ><label for=\"619aa130-90cb-480f-8f5f-21a461fbb6ed\" class=\"sk-toggleable__label sk-toggleable__label-arrow\">OneHotEncoder</label><div class=\"sk-toggleable__content\"><pre>OneHotEncoder(handle_unknown=&#x27;ignore&#x27;, sparse=False)</pre></div></div></div></div></div></div></div>"
            ]
          },
          "metadata": {},
          "execution_count": 745
        }
      ]
    },
    {
      "cell_type": "markdown",
      "source": [],
      "metadata": {
        "id": "CDhLJr9S2A-E"
      }
    },
    {
      "cell_type": "markdown",
      "source": [
        "## 3.8. Crear instancia de ColumnTransformer"
      ],
      "metadata": {
        "id": "4dRlbcY7EQFA"
      }
    },
    {
      "cell_type": "code",
      "source": [
        "# Tuplas para Column_Tranformer\n",
        "number_tuple=(numeric_pipe,num_selector)\n",
        "category_tuple=(categorical_pipe,cat_selector)\n",
        "\n",
        "# Crear instancia ColumnTransformer\n",
        "preprocessor = make_column_transformer(number_tuple,category_tuple)\n",
        "preprocessor"
      ],
      "metadata": {
        "colab": {
          "base_uri": "https://localhost:8080/",
          "height": 152
        },
        "id": "41A55QXWEXnq",
        "outputId": "6bd8b411-9721-4b37-b4fc-13d830ac0b68"
      },
      "execution_count": 746,
      "outputs": [
        {
          "output_type": "execute_result",
          "data": {
            "text/plain": [
              "ColumnTransformer(transformers=[('pipeline-1',\n",
              "                                 Pipeline(steps=[('simpleimputer',\n",
              "                                                  SimpleImputer()),\n",
              "                                                 ('standardscaler',\n",
              "                                                  StandardScaler())]),\n",
              "                                 <sklearn.compose._column_transformer.make_column_selector object at 0x7f387c525f50>),\n",
              "                                ('pipeline-2',\n",
              "                                 Pipeline(steps=[('simpleimputer',\n",
              "                                                  SimpleImputer(strategy='most_frequent')),\n",
              "                                                 ('onehotencoder',\n",
              "                                                  OneHotEncoder(handle_unknown='ignore',\n",
              "                                                                sparse=False))]),\n",
              "                                 <sklearn.compose._column_transformer.make_column_selector object at 0x7f387c525b90>)])"
            ],
            "text/html": [
              "<style>#sk-487ea3c0-8051-47c8-abef-94a6e0bef1a4 {color: black;background-color: white;}#sk-487ea3c0-8051-47c8-abef-94a6e0bef1a4 pre{padding: 0;}#sk-487ea3c0-8051-47c8-abef-94a6e0bef1a4 div.sk-toggleable {background-color: white;}#sk-487ea3c0-8051-47c8-abef-94a6e0bef1a4 label.sk-toggleable__label {cursor: pointer;display: block;width: 100%;margin-bottom: 0;padding: 0.3em;box-sizing: border-box;text-align: center;}#sk-487ea3c0-8051-47c8-abef-94a6e0bef1a4 label.sk-toggleable__label-arrow:before {content: \"▸\";float: left;margin-right: 0.25em;color: #696969;}#sk-487ea3c0-8051-47c8-abef-94a6e0bef1a4 label.sk-toggleable__label-arrow:hover:before {color: black;}#sk-487ea3c0-8051-47c8-abef-94a6e0bef1a4 div.sk-estimator:hover label.sk-toggleable__label-arrow:before {color: black;}#sk-487ea3c0-8051-47c8-abef-94a6e0bef1a4 div.sk-toggleable__content {max-height: 0;max-width: 0;overflow: hidden;text-align: left;background-color: #f0f8ff;}#sk-487ea3c0-8051-47c8-abef-94a6e0bef1a4 div.sk-toggleable__content pre {margin: 0.2em;color: black;border-radius: 0.25em;background-color: #f0f8ff;}#sk-487ea3c0-8051-47c8-abef-94a6e0bef1a4 input.sk-toggleable__control:checked~div.sk-toggleable__content {max-height: 200px;max-width: 100%;overflow: auto;}#sk-487ea3c0-8051-47c8-abef-94a6e0bef1a4 input.sk-toggleable__control:checked~label.sk-toggleable__label-arrow:before {content: \"▾\";}#sk-487ea3c0-8051-47c8-abef-94a6e0bef1a4 div.sk-estimator input.sk-toggleable__control:checked~label.sk-toggleable__label {background-color: #d4ebff;}#sk-487ea3c0-8051-47c8-abef-94a6e0bef1a4 div.sk-label input.sk-toggleable__control:checked~label.sk-toggleable__label {background-color: #d4ebff;}#sk-487ea3c0-8051-47c8-abef-94a6e0bef1a4 input.sk-hidden--visually {border: 0;clip: rect(1px 1px 1px 1px);clip: rect(1px, 1px, 1px, 1px);height: 1px;margin: -1px;overflow: hidden;padding: 0;position: absolute;width: 1px;}#sk-487ea3c0-8051-47c8-abef-94a6e0bef1a4 div.sk-estimator {font-family: monospace;background-color: #f0f8ff;border: 1px dotted black;border-radius: 0.25em;box-sizing: border-box;margin-bottom: 0.5em;}#sk-487ea3c0-8051-47c8-abef-94a6e0bef1a4 div.sk-estimator:hover {background-color: #d4ebff;}#sk-487ea3c0-8051-47c8-abef-94a6e0bef1a4 div.sk-parallel-item::after {content: \"\";width: 100%;border-bottom: 1px solid gray;flex-grow: 1;}#sk-487ea3c0-8051-47c8-abef-94a6e0bef1a4 div.sk-label:hover label.sk-toggleable__label {background-color: #d4ebff;}#sk-487ea3c0-8051-47c8-abef-94a6e0bef1a4 div.sk-serial::before {content: \"\";position: absolute;border-left: 1px solid gray;box-sizing: border-box;top: 2em;bottom: 0;left: 50%;}#sk-487ea3c0-8051-47c8-abef-94a6e0bef1a4 div.sk-serial {display: flex;flex-direction: column;align-items: center;background-color: white;padding-right: 0.2em;padding-left: 0.2em;}#sk-487ea3c0-8051-47c8-abef-94a6e0bef1a4 div.sk-item {z-index: 1;}#sk-487ea3c0-8051-47c8-abef-94a6e0bef1a4 div.sk-parallel {display: flex;align-items: stretch;justify-content: center;background-color: white;}#sk-487ea3c0-8051-47c8-abef-94a6e0bef1a4 div.sk-parallel::before {content: \"\";position: absolute;border-left: 1px solid gray;box-sizing: border-box;top: 2em;bottom: 0;left: 50%;}#sk-487ea3c0-8051-47c8-abef-94a6e0bef1a4 div.sk-parallel-item {display: flex;flex-direction: column;position: relative;background-color: white;}#sk-487ea3c0-8051-47c8-abef-94a6e0bef1a4 div.sk-parallel-item:first-child::after {align-self: flex-end;width: 50%;}#sk-487ea3c0-8051-47c8-abef-94a6e0bef1a4 div.sk-parallel-item:last-child::after {align-self: flex-start;width: 50%;}#sk-487ea3c0-8051-47c8-abef-94a6e0bef1a4 div.sk-parallel-item:only-child::after {width: 0;}#sk-487ea3c0-8051-47c8-abef-94a6e0bef1a4 div.sk-dashed-wrapped {border: 1px dashed gray;margin: 0 0.4em 0.5em 0.4em;box-sizing: border-box;padding-bottom: 0.4em;background-color: white;position: relative;}#sk-487ea3c0-8051-47c8-abef-94a6e0bef1a4 div.sk-label label {font-family: monospace;font-weight: bold;background-color: white;display: inline-block;line-height: 1.2em;}#sk-487ea3c0-8051-47c8-abef-94a6e0bef1a4 div.sk-label-container {position: relative;z-index: 2;text-align: center;}#sk-487ea3c0-8051-47c8-abef-94a6e0bef1a4 div.sk-container {/* jupyter's `normalize.less` sets `[hidden] { display: none; }` but bootstrap.min.css set `[hidden] { display: none !important; }` so we also need the `!important` here to be able to override the default hidden behavior on the sphinx rendered scikit-learn.org. See: https://github.com/scikit-learn/scikit-learn/issues/21755 */display: inline-block !important;position: relative;}#sk-487ea3c0-8051-47c8-abef-94a6e0bef1a4 div.sk-text-repr-fallback {display: none;}</style><div id=\"sk-487ea3c0-8051-47c8-abef-94a6e0bef1a4\" class=\"sk-top-container\"><div class=\"sk-text-repr-fallback\"><pre>ColumnTransformer(transformers=[(&#x27;pipeline-1&#x27;,\n",
              "                                 Pipeline(steps=[(&#x27;simpleimputer&#x27;,\n",
              "                                                  SimpleImputer()),\n",
              "                                                 (&#x27;standardscaler&#x27;,\n",
              "                                                  StandardScaler())]),\n",
              "                                 &lt;sklearn.compose._column_transformer.make_column_selector object at 0x7f387c525f50&gt;),\n",
              "                                (&#x27;pipeline-2&#x27;,\n",
              "                                 Pipeline(steps=[(&#x27;simpleimputer&#x27;,\n",
              "                                                  SimpleImputer(strategy=&#x27;most_frequent&#x27;)),\n",
              "                                                 (&#x27;onehotencoder&#x27;,\n",
              "                                                  OneHotEncoder(handle_unknown=&#x27;ignore&#x27;,\n",
              "                                                                sparse=False))]),\n",
              "                                 &lt;sklearn.compose._column_transformer.make_column_selector object at 0x7f387c525b90&gt;)])</pre><b>Please rerun this cell to show the HTML repr or trust the notebook.</b></div><div class=\"sk-container\" hidden><div class=\"sk-item sk-dashed-wrapped\"><div class=\"sk-label-container\"><div class=\"sk-label sk-toggleable\"><input class=\"sk-toggleable__control sk-hidden--visually\" id=\"bc25f575-9e78-417a-b09b-2f86dff2b232\" type=\"checkbox\" ><label for=\"bc25f575-9e78-417a-b09b-2f86dff2b232\" class=\"sk-toggleable__label sk-toggleable__label-arrow\">ColumnTransformer</label><div class=\"sk-toggleable__content\"><pre>ColumnTransformer(transformers=[(&#x27;pipeline-1&#x27;,\n",
              "                                 Pipeline(steps=[(&#x27;simpleimputer&#x27;,\n",
              "                                                  SimpleImputer()),\n",
              "                                                 (&#x27;standardscaler&#x27;,\n",
              "                                                  StandardScaler())]),\n",
              "                                 &lt;sklearn.compose._column_transformer.make_column_selector object at 0x7f387c525f50&gt;),\n",
              "                                (&#x27;pipeline-2&#x27;,\n",
              "                                 Pipeline(steps=[(&#x27;simpleimputer&#x27;,\n",
              "                                                  SimpleImputer(strategy=&#x27;most_frequent&#x27;)),\n",
              "                                                 (&#x27;onehotencoder&#x27;,\n",
              "                                                  OneHotEncoder(handle_unknown=&#x27;ignore&#x27;,\n",
              "                                                                sparse=False))]),\n",
              "                                 &lt;sklearn.compose._column_transformer.make_column_selector object at 0x7f387c525b90&gt;)])</pre></div></div></div><div class=\"sk-parallel\"><div class=\"sk-parallel-item\"><div class=\"sk-item\"><div class=\"sk-label-container\"><div class=\"sk-label sk-toggleable\"><input class=\"sk-toggleable__control sk-hidden--visually\" id=\"93efe2ab-502c-42dd-b0ae-247289d3f1e7\" type=\"checkbox\" ><label for=\"93efe2ab-502c-42dd-b0ae-247289d3f1e7\" class=\"sk-toggleable__label sk-toggleable__label-arrow\">pipeline-1</label><div class=\"sk-toggleable__content\"><pre>&lt;sklearn.compose._column_transformer.make_column_selector object at 0x7f387c525f50&gt;</pre></div></div></div><div class=\"sk-serial\"><div class=\"sk-item\"><div class=\"sk-serial\"><div class=\"sk-item\"><div class=\"sk-estimator sk-toggleable\"><input class=\"sk-toggleable__control sk-hidden--visually\" id=\"a55ecaaf-97b3-419d-b096-535715b7d0fd\" type=\"checkbox\" ><label for=\"a55ecaaf-97b3-419d-b096-535715b7d0fd\" class=\"sk-toggleable__label sk-toggleable__label-arrow\">SimpleImputer</label><div class=\"sk-toggleable__content\"><pre>SimpleImputer()</pre></div></div></div><div class=\"sk-item\"><div class=\"sk-estimator sk-toggleable\"><input class=\"sk-toggleable__control sk-hidden--visually\" id=\"a3afa920-fbdc-4cd2-92ae-3623d2b9e028\" type=\"checkbox\" ><label for=\"a3afa920-fbdc-4cd2-92ae-3623d2b9e028\" class=\"sk-toggleable__label sk-toggleable__label-arrow\">StandardScaler</label><div class=\"sk-toggleable__content\"><pre>StandardScaler()</pre></div></div></div></div></div></div></div></div><div class=\"sk-parallel-item\"><div class=\"sk-item\"><div class=\"sk-label-container\"><div class=\"sk-label sk-toggleable\"><input class=\"sk-toggleable__control sk-hidden--visually\" id=\"739a7bfa-2494-43d4-a83b-80c575d8aca3\" type=\"checkbox\" ><label for=\"739a7bfa-2494-43d4-a83b-80c575d8aca3\" class=\"sk-toggleable__label sk-toggleable__label-arrow\">pipeline-2</label><div class=\"sk-toggleable__content\"><pre>&lt;sklearn.compose._column_transformer.make_column_selector object at 0x7f387c525b90&gt;</pre></div></div></div><div class=\"sk-serial\"><div class=\"sk-item\"><div class=\"sk-serial\"><div class=\"sk-item\"><div class=\"sk-estimator sk-toggleable\"><input class=\"sk-toggleable__control sk-hidden--visually\" id=\"8b4d9a4b-dfa9-42b0-84b0-21eb1b06ab5f\" type=\"checkbox\" ><label for=\"8b4d9a4b-dfa9-42b0-84b0-21eb1b06ab5f\" class=\"sk-toggleable__label sk-toggleable__label-arrow\">SimpleImputer</label><div class=\"sk-toggleable__content\"><pre>SimpleImputer(strategy=&#x27;most_frequent&#x27;)</pre></div></div></div><div class=\"sk-item\"><div class=\"sk-estimator sk-toggleable\"><input class=\"sk-toggleable__control sk-hidden--visually\" id=\"beca2ab1-e642-4a8b-aae5-47cddce26438\" type=\"checkbox\" ><label for=\"beca2ab1-e642-4a8b-aae5-47cddce26438\" class=\"sk-toggleable__label sk-toggleable__label-arrow\">OneHotEncoder</label><div class=\"sk-toggleable__content\"><pre>OneHotEncoder(handle_unknown=&#x27;ignore&#x27;, sparse=False)</pre></div></div></div></div></div></div></div></div></div></div></div></div>"
            ]
          },
          "metadata": {},
          "execution_count": 746
        }
      ]
    },
    {
      "cell_type": "markdown",
      "source": [
        "## 3.9. Aplicar transformador de datos"
      ],
      "metadata": {
        "id": "H7sRuRhZEd62"
      }
    },
    {
      "cell_type": "code",
      "source": [
        "# Ajustar pipeline en los datos de entrenamiento\n",
        "preprocessor.fit(X_train)"
      ],
      "metadata": {
        "colab": {
          "base_uri": "https://localhost:8080/",
          "height": 152
        },
        "id": "DZx1i8FvEjsY",
        "outputId": "c2d17868-dbb7-4d7e-a1b8-71f23c40a7f2"
      },
      "execution_count": 747,
      "outputs": [
        {
          "output_type": "execute_result",
          "data": {
            "text/plain": [
              "ColumnTransformer(transformers=[('pipeline-1',\n",
              "                                 Pipeline(steps=[('simpleimputer',\n",
              "                                                  SimpleImputer()),\n",
              "                                                 ('standardscaler',\n",
              "                                                  StandardScaler())]),\n",
              "                                 <sklearn.compose._column_transformer.make_column_selector object at 0x7f387c525f50>),\n",
              "                                ('pipeline-2',\n",
              "                                 Pipeline(steps=[('simpleimputer',\n",
              "                                                  SimpleImputer(strategy='most_frequent')),\n",
              "                                                 ('onehotencoder',\n",
              "                                                  OneHotEncoder(handle_unknown='ignore',\n",
              "                                                                sparse=False))]),\n",
              "                                 <sklearn.compose._column_transformer.make_column_selector object at 0x7f387c525b90>)])"
            ],
            "text/html": [
              "<style>#sk-bde0df85-8180-42ce-8640-1b1d25660c58 {color: black;background-color: white;}#sk-bde0df85-8180-42ce-8640-1b1d25660c58 pre{padding: 0;}#sk-bde0df85-8180-42ce-8640-1b1d25660c58 div.sk-toggleable {background-color: white;}#sk-bde0df85-8180-42ce-8640-1b1d25660c58 label.sk-toggleable__label {cursor: pointer;display: block;width: 100%;margin-bottom: 0;padding: 0.3em;box-sizing: border-box;text-align: center;}#sk-bde0df85-8180-42ce-8640-1b1d25660c58 label.sk-toggleable__label-arrow:before {content: \"▸\";float: left;margin-right: 0.25em;color: #696969;}#sk-bde0df85-8180-42ce-8640-1b1d25660c58 label.sk-toggleable__label-arrow:hover:before {color: black;}#sk-bde0df85-8180-42ce-8640-1b1d25660c58 div.sk-estimator:hover label.sk-toggleable__label-arrow:before {color: black;}#sk-bde0df85-8180-42ce-8640-1b1d25660c58 div.sk-toggleable__content {max-height: 0;max-width: 0;overflow: hidden;text-align: left;background-color: #f0f8ff;}#sk-bde0df85-8180-42ce-8640-1b1d25660c58 div.sk-toggleable__content pre {margin: 0.2em;color: black;border-radius: 0.25em;background-color: #f0f8ff;}#sk-bde0df85-8180-42ce-8640-1b1d25660c58 input.sk-toggleable__control:checked~div.sk-toggleable__content {max-height: 200px;max-width: 100%;overflow: auto;}#sk-bde0df85-8180-42ce-8640-1b1d25660c58 input.sk-toggleable__control:checked~label.sk-toggleable__label-arrow:before {content: \"▾\";}#sk-bde0df85-8180-42ce-8640-1b1d25660c58 div.sk-estimator input.sk-toggleable__control:checked~label.sk-toggleable__label {background-color: #d4ebff;}#sk-bde0df85-8180-42ce-8640-1b1d25660c58 div.sk-label input.sk-toggleable__control:checked~label.sk-toggleable__label {background-color: #d4ebff;}#sk-bde0df85-8180-42ce-8640-1b1d25660c58 input.sk-hidden--visually {border: 0;clip: rect(1px 1px 1px 1px);clip: rect(1px, 1px, 1px, 1px);height: 1px;margin: -1px;overflow: hidden;padding: 0;position: absolute;width: 1px;}#sk-bde0df85-8180-42ce-8640-1b1d25660c58 div.sk-estimator {font-family: monospace;background-color: #f0f8ff;border: 1px dotted black;border-radius: 0.25em;box-sizing: border-box;margin-bottom: 0.5em;}#sk-bde0df85-8180-42ce-8640-1b1d25660c58 div.sk-estimator:hover {background-color: #d4ebff;}#sk-bde0df85-8180-42ce-8640-1b1d25660c58 div.sk-parallel-item::after {content: \"\";width: 100%;border-bottom: 1px solid gray;flex-grow: 1;}#sk-bde0df85-8180-42ce-8640-1b1d25660c58 div.sk-label:hover label.sk-toggleable__label {background-color: #d4ebff;}#sk-bde0df85-8180-42ce-8640-1b1d25660c58 div.sk-serial::before {content: \"\";position: absolute;border-left: 1px solid gray;box-sizing: border-box;top: 2em;bottom: 0;left: 50%;}#sk-bde0df85-8180-42ce-8640-1b1d25660c58 div.sk-serial {display: flex;flex-direction: column;align-items: center;background-color: white;padding-right: 0.2em;padding-left: 0.2em;}#sk-bde0df85-8180-42ce-8640-1b1d25660c58 div.sk-item {z-index: 1;}#sk-bde0df85-8180-42ce-8640-1b1d25660c58 div.sk-parallel {display: flex;align-items: stretch;justify-content: center;background-color: white;}#sk-bde0df85-8180-42ce-8640-1b1d25660c58 div.sk-parallel::before {content: \"\";position: absolute;border-left: 1px solid gray;box-sizing: border-box;top: 2em;bottom: 0;left: 50%;}#sk-bde0df85-8180-42ce-8640-1b1d25660c58 div.sk-parallel-item {display: flex;flex-direction: column;position: relative;background-color: white;}#sk-bde0df85-8180-42ce-8640-1b1d25660c58 div.sk-parallel-item:first-child::after {align-self: flex-end;width: 50%;}#sk-bde0df85-8180-42ce-8640-1b1d25660c58 div.sk-parallel-item:last-child::after {align-self: flex-start;width: 50%;}#sk-bde0df85-8180-42ce-8640-1b1d25660c58 div.sk-parallel-item:only-child::after {width: 0;}#sk-bde0df85-8180-42ce-8640-1b1d25660c58 div.sk-dashed-wrapped {border: 1px dashed gray;margin: 0 0.4em 0.5em 0.4em;box-sizing: border-box;padding-bottom: 0.4em;background-color: white;position: relative;}#sk-bde0df85-8180-42ce-8640-1b1d25660c58 div.sk-label label {font-family: monospace;font-weight: bold;background-color: white;display: inline-block;line-height: 1.2em;}#sk-bde0df85-8180-42ce-8640-1b1d25660c58 div.sk-label-container {position: relative;z-index: 2;text-align: center;}#sk-bde0df85-8180-42ce-8640-1b1d25660c58 div.sk-container {/* jupyter's `normalize.less` sets `[hidden] { display: none; }` but bootstrap.min.css set `[hidden] { display: none !important; }` so we also need the `!important` here to be able to override the default hidden behavior on the sphinx rendered scikit-learn.org. See: https://github.com/scikit-learn/scikit-learn/issues/21755 */display: inline-block !important;position: relative;}#sk-bde0df85-8180-42ce-8640-1b1d25660c58 div.sk-text-repr-fallback {display: none;}</style><div id=\"sk-bde0df85-8180-42ce-8640-1b1d25660c58\" class=\"sk-top-container\"><div class=\"sk-text-repr-fallback\"><pre>ColumnTransformer(transformers=[(&#x27;pipeline-1&#x27;,\n",
              "                                 Pipeline(steps=[(&#x27;simpleimputer&#x27;,\n",
              "                                                  SimpleImputer()),\n",
              "                                                 (&#x27;standardscaler&#x27;,\n",
              "                                                  StandardScaler())]),\n",
              "                                 &lt;sklearn.compose._column_transformer.make_column_selector object at 0x7f387c525f50&gt;),\n",
              "                                (&#x27;pipeline-2&#x27;,\n",
              "                                 Pipeline(steps=[(&#x27;simpleimputer&#x27;,\n",
              "                                                  SimpleImputer(strategy=&#x27;most_frequent&#x27;)),\n",
              "                                                 (&#x27;onehotencoder&#x27;,\n",
              "                                                  OneHotEncoder(handle_unknown=&#x27;ignore&#x27;,\n",
              "                                                                sparse=False))]),\n",
              "                                 &lt;sklearn.compose._column_transformer.make_column_selector object at 0x7f387c525b90&gt;)])</pre><b>Please rerun this cell to show the HTML repr or trust the notebook.</b></div><div class=\"sk-container\" hidden><div class=\"sk-item sk-dashed-wrapped\"><div class=\"sk-label-container\"><div class=\"sk-label sk-toggleable\"><input class=\"sk-toggleable__control sk-hidden--visually\" id=\"9395d29a-3f24-47e0-af50-547cba99d6c4\" type=\"checkbox\" ><label for=\"9395d29a-3f24-47e0-af50-547cba99d6c4\" class=\"sk-toggleable__label sk-toggleable__label-arrow\">ColumnTransformer</label><div class=\"sk-toggleable__content\"><pre>ColumnTransformer(transformers=[(&#x27;pipeline-1&#x27;,\n",
              "                                 Pipeline(steps=[(&#x27;simpleimputer&#x27;,\n",
              "                                                  SimpleImputer()),\n",
              "                                                 (&#x27;standardscaler&#x27;,\n",
              "                                                  StandardScaler())]),\n",
              "                                 &lt;sklearn.compose._column_transformer.make_column_selector object at 0x7f387c525f50&gt;),\n",
              "                                (&#x27;pipeline-2&#x27;,\n",
              "                                 Pipeline(steps=[(&#x27;simpleimputer&#x27;,\n",
              "                                                  SimpleImputer(strategy=&#x27;most_frequent&#x27;)),\n",
              "                                                 (&#x27;onehotencoder&#x27;,\n",
              "                                                  OneHotEncoder(handle_unknown=&#x27;ignore&#x27;,\n",
              "                                                                sparse=False))]),\n",
              "                                 &lt;sklearn.compose._column_transformer.make_column_selector object at 0x7f387c525b90&gt;)])</pre></div></div></div><div class=\"sk-parallel\"><div class=\"sk-parallel-item\"><div class=\"sk-item\"><div class=\"sk-label-container\"><div class=\"sk-label sk-toggleable\"><input class=\"sk-toggleable__control sk-hidden--visually\" id=\"ab6ebfa8-d63b-41a1-9332-c9d5d7787d02\" type=\"checkbox\" ><label for=\"ab6ebfa8-d63b-41a1-9332-c9d5d7787d02\" class=\"sk-toggleable__label sk-toggleable__label-arrow\">pipeline-1</label><div class=\"sk-toggleable__content\"><pre>&lt;sklearn.compose._column_transformer.make_column_selector object at 0x7f387c525f50&gt;</pre></div></div></div><div class=\"sk-serial\"><div class=\"sk-item\"><div class=\"sk-serial\"><div class=\"sk-item\"><div class=\"sk-estimator sk-toggleable\"><input class=\"sk-toggleable__control sk-hidden--visually\" id=\"a7753e67-8659-4101-9a2e-cc9041f5d223\" type=\"checkbox\" ><label for=\"a7753e67-8659-4101-9a2e-cc9041f5d223\" class=\"sk-toggleable__label sk-toggleable__label-arrow\">SimpleImputer</label><div class=\"sk-toggleable__content\"><pre>SimpleImputer()</pre></div></div></div><div class=\"sk-item\"><div class=\"sk-estimator sk-toggleable\"><input class=\"sk-toggleable__control sk-hidden--visually\" id=\"dc52a0db-1a53-4d1b-b79e-e83131bad6cd\" type=\"checkbox\" ><label for=\"dc52a0db-1a53-4d1b-b79e-e83131bad6cd\" class=\"sk-toggleable__label sk-toggleable__label-arrow\">StandardScaler</label><div class=\"sk-toggleable__content\"><pre>StandardScaler()</pre></div></div></div></div></div></div></div></div><div class=\"sk-parallel-item\"><div class=\"sk-item\"><div class=\"sk-label-container\"><div class=\"sk-label sk-toggleable\"><input class=\"sk-toggleable__control sk-hidden--visually\" id=\"a409691e-fd0a-4509-b558-4a05d8d540ee\" type=\"checkbox\" ><label for=\"a409691e-fd0a-4509-b558-4a05d8d540ee\" class=\"sk-toggleable__label sk-toggleable__label-arrow\">pipeline-2</label><div class=\"sk-toggleable__content\"><pre>&lt;sklearn.compose._column_transformer.make_column_selector object at 0x7f387c525b90&gt;</pre></div></div></div><div class=\"sk-serial\"><div class=\"sk-item\"><div class=\"sk-serial\"><div class=\"sk-item\"><div class=\"sk-estimator sk-toggleable\"><input class=\"sk-toggleable__control sk-hidden--visually\" id=\"a31ba11a-00c3-41a2-b41a-05e4ccce9ea4\" type=\"checkbox\" ><label for=\"a31ba11a-00c3-41a2-b41a-05e4ccce9ea4\" class=\"sk-toggleable__label sk-toggleable__label-arrow\">SimpleImputer</label><div class=\"sk-toggleable__content\"><pre>SimpleImputer(strategy=&#x27;most_frequent&#x27;)</pre></div></div></div><div class=\"sk-item\"><div class=\"sk-estimator sk-toggleable\"><input class=\"sk-toggleable__control sk-hidden--visually\" id=\"fe81b1d0-1b19-49f1-adf4-50fd164db673\" type=\"checkbox\" ><label for=\"fe81b1d0-1b19-49f1-adf4-50fd164db673\" class=\"sk-toggleable__label sk-toggleable__label-arrow\">OneHotEncoder</label><div class=\"sk-toggleable__content\"><pre>OneHotEncoder(handle_unknown=&#x27;ignore&#x27;, sparse=False)</pre></div></div></div></div></div></div></div></div></div></div></div></div>"
            ]
          },
          "metadata": {},
          "execution_count": 747
        }
      ]
    },
    {
      "cell_type": "code",
      "source": [
        "# Transformar conjunto de datos de entrenamiento y prueba\n",
        "X_train_processed=preprocessor.transform(X_train)\n",
        "X_test_processed=preprocessor.transform(X_test)"
      ],
      "metadata": {
        "id": "jJGQYZB3EnqP"
      },
      "execution_count": 748,
      "outputs": []
    },
    {
      "cell_type": "markdown",
      "source": [
        "3.10. Examinar resultado"
      ],
      "metadata": {
        "id": "3Njj3yLeEqsw"
      }
    },
    {
      "cell_type": "code",
      "source": [
        "# Examinar resultado de la transformación\n",
        "print('\\n______________')\n",
        "print(\"Valores faltantes en conjunto entrenamiento:\",np.isnan(X_train_processed).sum().sum())\n",
        "print(\"Valores faltantes en conjunto pruebas:\",np.isnan(X_test_processed).sum().sum())\n",
        "print('\\n______________')\n",
        "print('Todos los datos en X_train_processed aon de tipo:',X_train_processed.dtype)\n",
        "print('Todos los datos en X_test_processed aon de tipo:',X_test_processed.dtype)\n",
        "print('\\n______________')\n",
        "print('La forma de los datos es:',X_train_processed.shape)\n",
        "print('\\n______________')\n",
        "\n",
        "X_train_processed"
      ],
      "metadata": {
        "colab": {
          "base_uri": "https://localhost:8080/"
        },
        "id": "gE-4RuuhExRw",
        "outputId": "69d7cf86-8288-4d3c-9592-f1a4dad2b64f"
      },
      "execution_count": 749,
      "outputs": [
        {
          "output_type": "stream",
          "name": "stdout",
          "text": [
            "\n",
            "______________\n",
            "Valores faltantes en conjunto entrenamiento: 0\n",
            "Valores faltantes en conjunto pruebas: 0\n",
            "\n",
            "______________\n",
            "Todos los datos en X_train_processed aon de tipo: float64\n",
            "Todos los datos en X_test_processed aon de tipo: float64\n",
            "\n",
            "______________\n",
            "La forma de los datos es: (6389, 39)\n",
            "\n",
            "______________\n"
          ]
        },
        {
          "output_type": "execute_result",
          "data": {
            "text/plain": [
              "array([[ 0.24031187,  1.35956511,  0.69420515, ...,  1.        ,\n",
              "         0.        ,  0.        ],\n",
              "       [ 0.45600095, -0.73552932, -0.50209387, ...,  1.        ,\n",
              "         0.        ,  0.        ],\n",
              "       [ 0.20795851, -0.73552932, -0.32912444, ...,  0.        ,\n",
              "         0.        ,  0.        ],\n",
              "       ...,\n",
              "       [-0.51459991,  1.35956511, -0.96523009, ...,  0.        ,\n",
              "         0.        ,  0.        ],\n",
              "       [-1.60059444,  1.35956511, -0.45268554, ...,  1.        ,\n",
              "         0.        ,  0.        ],\n",
              "       [ 1.60993753, -0.73552932, -0.211441  , ...,  1.        ,\n",
              "         0.        ,  0.        ]])"
            ]
          },
          "metadata": {},
          "execution_count": 749
        }
      ]
    },
    {
      "cell_type": "markdown",
      "source": [
        "# 4. Modelo de regresión múltiple con ML"
      ],
      "metadata": {
        "id": "J1g92JthGmsp"
      }
    },
    {
      "cell_type": "markdown",
      "source": [
        "##4.1. Crear instancia de modelo de regresión ML"
      ],
      "metadata": {
        "id": "ilG8HhaqG5NJ"
      }
    },
    {
      "cell_type": "code",
      "source": [
        "reg=LinearRegression()"
      ],
      "metadata": {
        "id": "yNKFd1_2GrRN"
      },
      "execution_count": 750,
      "outputs": []
    },
    {
      "cell_type": "markdown",
      "source": [
        "##4.2. Entrenar modelo con datos de entrenamiento"
      ],
      "metadata": {
        "id": "g1CAYW5bHB6e"
      }
    },
    {
      "cell_type": "code",
      "source": [
        "reg.fit(X_train_processed,y_train)"
      ],
      "metadata": {
        "colab": {
          "base_uri": "https://localhost:8080/",
          "height": 75
        },
        "id": "esVu-qGTHGdJ",
        "outputId": "1d2adee0-9332-4d79-ada7-ed29a8ea15a0"
      },
      "execution_count": 752,
      "outputs": [
        {
          "output_type": "execute_result",
          "data": {
            "text/plain": [
              "LinearRegression()"
            ],
            "text/html": [
              "<style>#sk-c1e9f7c6-a5eb-47a0-8251-b4725e12681e {color: black;background-color: white;}#sk-c1e9f7c6-a5eb-47a0-8251-b4725e12681e pre{padding: 0;}#sk-c1e9f7c6-a5eb-47a0-8251-b4725e12681e div.sk-toggleable {background-color: white;}#sk-c1e9f7c6-a5eb-47a0-8251-b4725e12681e label.sk-toggleable__label {cursor: pointer;display: block;width: 100%;margin-bottom: 0;padding: 0.3em;box-sizing: border-box;text-align: center;}#sk-c1e9f7c6-a5eb-47a0-8251-b4725e12681e label.sk-toggleable__label-arrow:before {content: \"▸\";float: left;margin-right: 0.25em;color: #696969;}#sk-c1e9f7c6-a5eb-47a0-8251-b4725e12681e label.sk-toggleable__label-arrow:hover:before {color: black;}#sk-c1e9f7c6-a5eb-47a0-8251-b4725e12681e div.sk-estimator:hover label.sk-toggleable__label-arrow:before {color: black;}#sk-c1e9f7c6-a5eb-47a0-8251-b4725e12681e div.sk-toggleable__content {max-height: 0;max-width: 0;overflow: hidden;text-align: left;background-color: #f0f8ff;}#sk-c1e9f7c6-a5eb-47a0-8251-b4725e12681e div.sk-toggleable__content pre {margin: 0.2em;color: black;border-radius: 0.25em;background-color: #f0f8ff;}#sk-c1e9f7c6-a5eb-47a0-8251-b4725e12681e input.sk-toggleable__control:checked~div.sk-toggleable__content {max-height: 200px;max-width: 100%;overflow: auto;}#sk-c1e9f7c6-a5eb-47a0-8251-b4725e12681e input.sk-toggleable__control:checked~label.sk-toggleable__label-arrow:before {content: \"▾\";}#sk-c1e9f7c6-a5eb-47a0-8251-b4725e12681e div.sk-estimator input.sk-toggleable__control:checked~label.sk-toggleable__label {background-color: #d4ebff;}#sk-c1e9f7c6-a5eb-47a0-8251-b4725e12681e div.sk-label input.sk-toggleable__control:checked~label.sk-toggleable__label {background-color: #d4ebff;}#sk-c1e9f7c6-a5eb-47a0-8251-b4725e12681e input.sk-hidden--visually {border: 0;clip: rect(1px 1px 1px 1px);clip: rect(1px, 1px, 1px, 1px);height: 1px;margin: -1px;overflow: hidden;padding: 0;position: absolute;width: 1px;}#sk-c1e9f7c6-a5eb-47a0-8251-b4725e12681e div.sk-estimator {font-family: monospace;background-color: #f0f8ff;border: 1px dotted black;border-radius: 0.25em;box-sizing: border-box;margin-bottom: 0.5em;}#sk-c1e9f7c6-a5eb-47a0-8251-b4725e12681e div.sk-estimator:hover {background-color: #d4ebff;}#sk-c1e9f7c6-a5eb-47a0-8251-b4725e12681e div.sk-parallel-item::after {content: \"\";width: 100%;border-bottom: 1px solid gray;flex-grow: 1;}#sk-c1e9f7c6-a5eb-47a0-8251-b4725e12681e div.sk-label:hover label.sk-toggleable__label {background-color: #d4ebff;}#sk-c1e9f7c6-a5eb-47a0-8251-b4725e12681e div.sk-serial::before {content: \"\";position: absolute;border-left: 1px solid gray;box-sizing: border-box;top: 2em;bottom: 0;left: 50%;}#sk-c1e9f7c6-a5eb-47a0-8251-b4725e12681e div.sk-serial {display: flex;flex-direction: column;align-items: center;background-color: white;padding-right: 0.2em;padding-left: 0.2em;}#sk-c1e9f7c6-a5eb-47a0-8251-b4725e12681e div.sk-item {z-index: 1;}#sk-c1e9f7c6-a5eb-47a0-8251-b4725e12681e div.sk-parallel {display: flex;align-items: stretch;justify-content: center;background-color: white;}#sk-c1e9f7c6-a5eb-47a0-8251-b4725e12681e div.sk-parallel::before {content: \"\";position: absolute;border-left: 1px solid gray;box-sizing: border-box;top: 2em;bottom: 0;left: 50%;}#sk-c1e9f7c6-a5eb-47a0-8251-b4725e12681e div.sk-parallel-item {display: flex;flex-direction: column;position: relative;background-color: white;}#sk-c1e9f7c6-a5eb-47a0-8251-b4725e12681e div.sk-parallel-item:first-child::after {align-self: flex-end;width: 50%;}#sk-c1e9f7c6-a5eb-47a0-8251-b4725e12681e div.sk-parallel-item:last-child::after {align-self: flex-start;width: 50%;}#sk-c1e9f7c6-a5eb-47a0-8251-b4725e12681e div.sk-parallel-item:only-child::after {width: 0;}#sk-c1e9f7c6-a5eb-47a0-8251-b4725e12681e div.sk-dashed-wrapped {border: 1px dashed gray;margin: 0 0.4em 0.5em 0.4em;box-sizing: border-box;padding-bottom: 0.4em;background-color: white;position: relative;}#sk-c1e9f7c6-a5eb-47a0-8251-b4725e12681e div.sk-label label {font-family: monospace;font-weight: bold;background-color: white;display: inline-block;line-height: 1.2em;}#sk-c1e9f7c6-a5eb-47a0-8251-b4725e12681e div.sk-label-container {position: relative;z-index: 2;text-align: center;}#sk-c1e9f7c6-a5eb-47a0-8251-b4725e12681e div.sk-container {/* jupyter's `normalize.less` sets `[hidden] { display: none; }` but bootstrap.min.css set `[hidden] { display: none !important; }` so we also need the `!important` here to be able to override the default hidden behavior on the sphinx rendered scikit-learn.org. See: https://github.com/scikit-learn/scikit-learn/issues/21755 */display: inline-block !important;position: relative;}#sk-c1e9f7c6-a5eb-47a0-8251-b4725e12681e div.sk-text-repr-fallback {display: none;}</style><div id=\"sk-c1e9f7c6-a5eb-47a0-8251-b4725e12681e\" class=\"sk-top-container\"><div class=\"sk-text-repr-fallback\"><pre>LinearRegression()</pre><b>Please rerun this cell to show the HTML repr or trust the notebook.</b></div><div class=\"sk-container\" hidden><div class=\"sk-item\"><div class=\"sk-estimator sk-toggleable\"><input class=\"sk-toggleable__control sk-hidden--visually\" id=\"1dbd25eb-397c-4bae-b047-28f01a234948\" type=\"checkbox\" checked><label for=\"1dbd25eb-397c-4bae-b047-28f01a234948\" class=\"sk-toggleable__label sk-toggleable__label-arrow\">LinearRegression</label><div class=\"sk-toggleable__content\"><pre>LinearRegression()</pre></div></div></div></div></div>"
            ]
          },
          "metadata": {},
          "execution_count": 752
        }
      ]
    },
    {
      "cell_type": "markdown",
      "source": [
        "##4.3. Obtención de las predicciones del modelo"
      ],
      "metadata": {
        "id": "uSaZSYZaH5dH"
      }
    },
    {
      "cell_type": "code",
      "source": [
        "# Obtener predicciones del conjunto de entrenamiento\n",
        "train_preds=reg.predict(X_train_processed)"
      ],
      "metadata": {
        "id": "4mjCmM--H8xr"
      },
      "execution_count": 754,
      "outputs": []
    },
    {
      "cell_type": "code",
      "source": [
        "# Obtener predicciones del conjunto de prueba\n",
        "test_preds=reg.predict(X_test_processed)"
      ],
      "metadata": {
        "id": "2ZRjvgZjIEsH"
      },
      "execution_count": 755,
      "outputs": []
    },
    {
      "cell_type": "markdown",
      "source": [
        "##4.4. Metricas de evaluación del modelo"
      ],
      "metadata": {
        "id": "ZbcJS6V6HX7w"
      }
    },
    {
      "cell_type": "markdown",
      "source": [
        "###4.4.1. Coeficiente de determinación (r^2)"
      ],
      "metadata": {
        "id": "4I-4tv7kImw9"
      }
    },
    {
      "cell_type": "code",
      "source": [
        "# Coeficiente de determinación r^2 sobre datos de entrenamiento\n",
        "train_score=reg.score(X_train_processed,y_train)\n"
      ],
      "metadata": {
        "colab": {
          "base_uri": "https://localhost:8080/"
        },
        "id": "1IKO23IHHa2D",
        "outputId": "5a9fd157-802b-4863-8e04-01b8837f4915"
      },
      "execution_count": 756,
      "outputs": [
        {
          "output_type": "stream",
          "name": "stdout",
          "text": [
            "0.564813961522491\n"
          ]
        }
      ]
    },
    {
      "cell_type": "code",
      "source": [
        "# Coeficiente de determinación r^2 sobre datos de prueba\n",
        "test_score=reg.score(X_test_processed,y_test)\n"
      ],
      "metadata": {
        "colab": {
          "base_uri": "https://localhost:8080/"
        },
        "id": "pSOcK28RHm_j",
        "outputId": "6a5469cd-08e7-4f8a-a0cf-42df26bc1cfd"
      },
      "execution_count": 757,
      "outputs": [
        {
          "output_type": "stream",
          "name": "stdout",
          "text": [
            "0.5571139288853726\n"
          ]
        }
      ]
    },
    {
      "cell_type": "markdown",
      "source": [
        "###4.4.2. Error medio absoluto (MAE)"
      ],
      "metadata": {
        "id": "LVWq7UMQItz4"
      }
    },
    {
      "cell_type": "code",
      "source": [
        "# Error medio absoluto (MAE)\n",
        "mae_train=mean_absolute_error(y_train,train_preds)\n",
        "mae_test=mean_absolute_error(y_test,test_preds)"
      ],
      "metadata": {
        "id": "1MXpKrogI0DS"
      },
      "execution_count": 759,
      "outputs": []
    },
    {
      "cell_type": "markdown",
      "source": [
        "###4.4.3. Error medio cuadrático (MSE)"
      ],
      "metadata": {
        "id": "0gYGnYk1Juq5"
      }
    },
    {
      "cell_type": "code",
      "source": [
        "# Error cuadrático medio (MSE)\n",
        "mse_train=mean_squared_error(y_train,train_preds)\n",
        "mse_test=mean_squared_error(y_test,test_preds)"
      ],
      "metadata": {
        "id": "xnfUglgiJuq9"
      },
      "execution_count": 760,
      "outputs": []
    },
    {
      "cell_type": "markdown",
      "source": [
        "###4.4.4. Raíz del error medio cuadrático (RMSE)"
      ],
      "metadata": {
        "id": "PgC4BeqtJ-Wp"
      }
    },
    {
      "cell_type": "code",
      "source": [
        "# Raíz del error cuadrático medio (RMSE)\n",
        "rmse_train=np.sqrt(mean_squared_error(y_train,train_preds))\n",
        "rmse_test=np.sqrt(mean_squared_error(y_test,test_preds))"
      ],
      "metadata": {
        "id": "Vf7tYo-UJ-Wq"
      },
      "execution_count": 761,
      "outputs": []
    },
    {
      "cell_type": "markdown",
      "source": [
        "###4.4.5. Evaluación del modelo"
      ],
      "metadata": {
        "id": "Crxj1dWHZ_Re"
      }
    },
    {
      "cell_type": "code",
      "source": [
        "# Evaluación del modelo de regresión líneal\n",
        "print('Métricas de evaluación del modelo de regresión lineal')\n",
        "print('-----------------------------------------------------')\n",
        "print('Conjunto de datos de entrenamiento:')\n",
        "print('Coeficiente de determinación r^2:',train_score)\n",
        "print('Error medio absoluto:',mae_train)\n",
        "print('Error medio cuadrático:',mse_train)\n",
        "print('Raíz del error medio cuadrático:',rmse_train)\n",
        "print('-----------------------------------------------------')\n",
        "print('Conjunto de datos de prueba:')\n",
        "print('Coeficiente de determinación r^2:',test_score)\n",
        "print('Error medio absoluto:',mae_test)\n",
        "print('Error medio cuadrático:',mse_test)\n",
        "print('Raíz del error medio cuadrático:',rmse_test)\n"
      ],
      "metadata": {
        "colab": {
          "base_uri": "https://localhost:8080/"
        },
        "id": "vFI9666XaEl9",
        "outputId": "d46c7cd7-c0dc-4e62-cc4c-df9ee1bfaee7"
      },
      "execution_count": 762,
      "outputs": [
        {
          "output_type": "stream",
          "name": "stdout",
          "text": [
            "Métricas de evaluación del modelo de regresión lineal\n",
            "-----------------------------------------------------\n",
            "Conjunto de datos de entrenamiento:\n",
            "Coeficiente de determinación r^2: 0.564813961522491\n",
            "Error medio absoluto: 838.9843459226795\n",
            "Error medio cuadrático: 1276378.5554898768\n",
            "Raíz del error medio cuadrático: 1129.769248780421\n",
            "-----------------------------------------------------\n",
            "Conjunto de datos de prueba:\n",
            "Coeficiente de determinación r^2: 0.5571139288853726\n",
            "Error medio absoluto: 829.1653717370892\n",
            "Error medio cuadrático: 1260186.9792369055\n",
            "Raíz del error medio cuadrático: 1122.5805001143149\n"
          ]
        }
      ]
    }
  ]
}